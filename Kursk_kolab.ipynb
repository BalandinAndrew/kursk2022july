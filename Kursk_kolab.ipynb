{
  "metadata": {
    "kernelspec": {
      "language": "python",
      "display_name": "Python 3",
      "name": "python3"
    },
    "language_info": {
      "name": "python",
      "version": "3.7.12",
      "mimetype": "text/x-python",
      "codemirror_mode": {
        "name": "ipython",
        "version": 3
      },
      "pygments_lexer": "ipython3",
      "nbconvert_exporter": "python",
      "file_extension": ".py"
    },
    "colab": {
      "name": "Курск_колаб пока лучший по новым правилам.ipynb",
      "provenance": [],
      "include_colab_link": true
    },
    "accelerator": "GPU",
    "gpuClass": "standard",
    "widgets": {
      "application/vnd.jupyter.widget-state+json": {
        "deb40e11d400419da70f7d568a20beb8": {
          "model_module": "@jupyter-widgets/controls",
          "model_name": "HBoxModel",
          "model_module_version": "1.5.0",
          "state": {
            "_dom_classes": [],
            "_model_module": "@jupyter-widgets/controls",
            "_model_module_version": "1.5.0",
            "_model_name": "HBoxModel",
            "_view_count": null,
            "_view_module": "@jupyter-widgets/controls",
            "_view_module_version": "1.5.0",
            "_view_name": "HBoxView",
            "box_style": "",
            "children": [
              "IPY_MODEL_69d73cc51364483daa9c07c47b0f20a7",
              "IPY_MODEL_2d787576651d427bace73767f24199e5",
              "IPY_MODEL_b3798b316af54e42a7dd492a8b273963"
            ],
            "layout": "IPY_MODEL_53068ac4635f49aba97544c82ee74633"
          }
        },
        "69d73cc51364483daa9c07c47b0f20a7": {
          "model_module": "@jupyter-widgets/controls",
          "model_name": "HTMLModel",
          "model_module_version": "1.5.0",
          "state": {
            "_dom_classes": [],
            "_model_module": "@jupyter-widgets/controls",
            "_model_module_version": "1.5.0",
            "_model_name": "HTMLModel",
            "_view_count": null,
            "_view_module": "@jupyter-widgets/controls",
            "_view_module_version": "1.5.0",
            "_view_name": "HTMLView",
            "description": "",
            "description_tooltip": null,
            "layout": "IPY_MODEL_3fdc9603cbc24fafa22ac9f4fd82ff86",
            "placeholder": "​",
            "style": "IPY_MODEL_642866c6b44444af9fafa64452974c34",
            "value": "Downloading: 100%"
          }
        },
        "2d787576651d427bace73767f24199e5": {
          "model_module": "@jupyter-widgets/controls",
          "model_name": "FloatProgressModel",
          "model_module_version": "1.5.0",
          "state": {
            "_dom_classes": [],
            "_model_module": "@jupyter-widgets/controls",
            "_model_module_version": "1.5.0",
            "_model_name": "FloatProgressModel",
            "_view_count": null,
            "_view_module": "@jupyter-widgets/controls",
            "_view_module_version": "1.5.0",
            "_view_name": "ProgressView",
            "bar_style": "success",
            "description": "",
            "description_tooltip": null,
            "layout": "IPY_MODEL_8344fc0968d84070b3605ff35dd84d39",
            "max": 28,
            "min": 0,
            "orientation": "horizontal",
            "style": "IPY_MODEL_ff62b5253d6b4be4aec8798db4fc13a9",
            "value": 28
          }
        },
        "b3798b316af54e42a7dd492a8b273963": {
          "model_module": "@jupyter-widgets/controls",
          "model_name": "HTMLModel",
          "model_module_version": "1.5.0",
          "state": {
            "_dom_classes": [],
            "_model_module": "@jupyter-widgets/controls",
            "_model_module_version": "1.5.0",
            "_model_name": "HTMLModel",
            "_view_count": null,
            "_view_module": "@jupyter-widgets/controls",
            "_view_module_version": "1.5.0",
            "_view_name": "HTMLView",
            "description": "",
            "description_tooltip": null,
            "layout": "IPY_MODEL_0f5c17412565452eb49d548823509b7f",
            "placeholder": "​",
            "style": "IPY_MODEL_b9ee167059184ac0bd583260deb7d033",
            "value": " 28.0/28.0 [00:00&lt;00:00, 789B/s]"
          }
        },
        "53068ac4635f49aba97544c82ee74633": {
          "model_module": "@jupyter-widgets/base",
          "model_name": "LayoutModel",
          "model_module_version": "1.2.0",
          "state": {
            "_model_module": "@jupyter-widgets/base",
            "_model_module_version": "1.2.0",
            "_model_name": "LayoutModel",
            "_view_count": null,
            "_view_module": "@jupyter-widgets/base",
            "_view_module_version": "1.2.0",
            "_view_name": "LayoutView",
            "align_content": null,
            "align_items": null,
            "align_self": null,
            "border": null,
            "bottom": null,
            "display": null,
            "flex": null,
            "flex_flow": null,
            "grid_area": null,
            "grid_auto_columns": null,
            "grid_auto_flow": null,
            "grid_auto_rows": null,
            "grid_column": null,
            "grid_gap": null,
            "grid_row": null,
            "grid_template_areas": null,
            "grid_template_columns": null,
            "grid_template_rows": null,
            "height": null,
            "justify_content": null,
            "justify_items": null,
            "left": null,
            "margin": null,
            "max_height": null,
            "max_width": null,
            "min_height": null,
            "min_width": null,
            "object_fit": null,
            "object_position": null,
            "order": null,
            "overflow": null,
            "overflow_x": null,
            "overflow_y": null,
            "padding": null,
            "right": null,
            "top": null,
            "visibility": null,
            "width": null
          }
        },
        "3fdc9603cbc24fafa22ac9f4fd82ff86": {
          "model_module": "@jupyter-widgets/base",
          "model_name": "LayoutModel",
          "model_module_version": "1.2.0",
          "state": {
            "_model_module": "@jupyter-widgets/base",
            "_model_module_version": "1.2.0",
            "_model_name": "LayoutModel",
            "_view_count": null,
            "_view_module": "@jupyter-widgets/base",
            "_view_module_version": "1.2.0",
            "_view_name": "LayoutView",
            "align_content": null,
            "align_items": null,
            "align_self": null,
            "border": null,
            "bottom": null,
            "display": null,
            "flex": null,
            "flex_flow": null,
            "grid_area": null,
            "grid_auto_columns": null,
            "grid_auto_flow": null,
            "grid_auto_rows": null,
            "grid_column": null,
            "grid_gap": null,
            "grid_row": null,
            "grid_template_areas": null,
            "grid_template_columns": null,
            "grid_template_rows": null,
            "height": null,
            "justify_content": null,
            "justify_items": null,
            "left": null,
            "margin": null,
            "max_height": null,
            "max_width": null,
            "min_height": null,
            "min_width": null,
            "object_fit": null,
            "object_position": null,
            "order": null,
            "overflow": null,
            "overflow_x": null,
            "overflow_y": null,
            "padding": null,
            "right": null,
            "top": null,
            "visibility": null,
            "width": null
          }
        },
        "642866c6b44444af9fafa64452974c34": {
          "model_module": "@jupyter-widgets/controls",
          "model_name": "DescriptionStyleModel",
          "model_module_version": "1.5.0",
          "state": {
            "_model_module": "@jupyter-widgets/controls",
            "_model_module_version": "1.5.0",
            "_model_name": "DescriptionStyleModel",
            "_view_count": null,
            "_view_module": "@jupyter-widgets/base",
            "_view_module_version": "1.2.0",
            "_view_name": "StyleView",
            "description_width": ""
          }
        },
        "8344fc0968d84070b3605ff35dd84d39": {
          "model_module": "@jupyter-widgets/base",
          "model_name": "LayoutModel",
          "model_module_version": "1.2.0",
          "state": {
            "_model_module": "@jupyter-widgets/base",
            "_model_module_version": "1.2.0",
            "_model_name": "LayoutModel",
            "_view_count": null,
            "_view_module": "@jupyter-widgets/base",
            "_view_module_version": "1.2.0",
            "_view_name": "LayoutView",
            "align_content": null,
            "align_items": null,
            "align_self": null,
            "border": null,
            "bottom": null,
            "display": null,
            "flex": null,
            "flex_flow": null,
            "grid_area": null,
            "grid_auto_columns": null,
            "grid_auto_flow": null,
            "grid_auto_rows": null,
            "grid_column": null,
            "grid_gap": null,
            "grid_row": null,
            "grid_template_areas": null,
            "grid_template_columns": null,
            "grid_template_rows": null,
            "height": null,
            "justify_content": null,
            "justify_items": null,
            "left": null,
            "margin": null,
            "max_height": null,
            "max_width": null,
            "min_height": null,
            "min_width": null,
            "object_fit": null,
            "object_position": null,
            "order": null,
            "overflow": null,
            "overflow_x": null,
            "overflow_y": null,
            "padding": null,
            "right": null,
            "top": null,
            "visibility": null,
            "width": null
          }
        },
        "ff62b5253d6b4be4aec8798db4fc13a9": {
          "model_module": "@jupyter-widgets/controls",
          "model_name": "ProgressStyleModel",
          "model_module_version": "1.5.0",
          "state": {
            "_model_module": "@jupyter-widgets/controls",
            "_model_module_version": "1.5.0",
            "_model_name": "ProgressStyleModel",
            "_view_count": null,
            "_view_module": "@jupyter-widgets/base",
            "_view_module_version": "1.2.0",
            "_view_name": "StyleView",
            "bar_color": null,
            "description_width": ""
          }
        },
        "0f5c17412565452eb49d548823509b7f": {
          "model_module": "@jupyter-widgets/base",
          "model_name": "LayoutModel",
          "model_module_version": "1.2.0",
          "state": {
            "_model_module": "@jupyter-widgets/base",
            "_model_module_version": "1.2.0",
            "_model_name": "LayoutModel",
            "_view_count": null,
            "_view_module": "@jupyter-widgets/base",
            "_view_module_version": "1.2.0",
            "_view_name": "LayoutView",
            "align_content": null,
            "align_items": null,
            "align_self": null,
            "border": null,
            "bottom": null,
            "display": null,
            "flex": null,
            "flex_flow": null,
            "grid_area": null,
            "grid_auto_columns": null,
            "grid_auto_flow": null,
            "grid_auto_rows": null,
            "grid_column": null,
            "grid_gap": null,
            "grid_row": null,
            "grid_template_areas": null,
            "grid_template_columns": null,
            "grid_template_rows": null,
            "height": null,
            "justify_content": null,
            "justify_items": null,
            "left": null,
            "margin": null,
            "max_height": null,
            "max_width": null,
            "min_height": null,
            "min_width": null,
            "object_fit": null,
            "object_position": null,
            "order": null,
            "overflow": null,
            "overflow_x": null,
            "overflow_y": null,
            "padding": null,
            "right": null,
            "top": null,
            "visibility": null,
            "width": null
          }
        },
        "b9ee167059184ac0bd583260deb7d033": {
          "model_module": "@jupyter-widgets/controls",
          "model_name": "DescriptionStyleModel",
          "model_module_version": "1.5.0",
          "state": {
            "_model_module": "@jupyter-widgets/controls",
            "_model_module_version": "1.5.0",
            "_model_name": "DescriptionStyleModel",
            "_view_count": null,
            "_view_module": "@jupyter-widgets/base",
            "_view_module_version": "1.2.0",
            "_view_name": "StyleView",
            "description_width": ""
          }
        },
        "ea24c15adf374330a9020c2951a8b9b8": {
          "model_module": "@jupyter-widgets/controls",
          "model_name": "HBoxModel",
          "model_module_version": "1.5.0",
          "state": {
            "_dom_classes": [],
            "_model_module": "@jupyter-widgets/controls",
            "_model_module_version": "1.5.0",
            "_model_name": "HBoxModel",
            "_view_count": null,
            "_view_module": "@jupyter-widgets/controls",
            "_view_module_version": "1.5.0",
            "_view_name": "HBoxView",
            "box_style": "",
            "children": [
              "IPY_MODEL_091a93b219f04b189344cf253916f884",
              "IPY_MODEL_e4aa0bfeaba84142aaf0b5207c06cb64",
              "IPY_MODEL_62dc57bad85a48e0b8f30c6109eafc4f"
            ],
            "layout": "IPY_MODEL_070d146335494971a9932967ededa006"
          }
        },
        "091a93b219f04b189344cf253916f884": {
          "model_module": "@jupyter-widgets/controls",
          "model_name": "HTMLModel",
          "model_module_version": "1.5.0",
          "state": {
            "_dom_classes": [],
            "_model_module": "@jupyter-widgets/controls",
            "_model_module_version": "1.5.0",
            "_model_name": "HTMLModel",
            "_view_count": null,
            "_view_module": "@jupyter-widgets/controls",
            "_view_module_version": "1.5.0",
            "_view_name": "HTMLView",
            "description": "",
            "description_tooltip": null,
            "layout": "IPY_MODEL_44fd0508e1d64b92a082677974ed807c",
            "placeholder": "​",
            "style": "IPY_MODEL_843e0acf55bd49c3beaf4d08492de472",
            "value": "Downloading: 100%"
          }
        },
        "e4aa0bfeaba84142aaf0b5207c06cb64": {
          "model_module": "@jupyter-widgets/controls",
          "model_name": "FloatProgressModel",
          "model_module_version": "1.5.0",
          "state": {
            "_dom_classes": [],
            "_model_module": "@jupyter-widgets/controls",
            "_model_module_version": "1.5.0",
            "_model_name": "FloatProgressModel",
            "_view_count": null,
            "_view_module": "@jupyter-widgets/controls",
            "_view_module_version": "1.5.0",
            "_view_name": "ProgressView",
            "bar_style": "success",
            "description": "",
            "description_tooltip": null,
            "layout": "IPY_MODEL_20074e08595842548a564589591ef91f",
            "max": 570,
            "min": 0,
            "orientation": "horizontal",
            "style": "IPY_MODEL_f50c192515fd4794980f4c71aa91d74f",
            "value": 570
          }
        },
        "62dc57bad85a48e0b8f30c6109eafc4f": {
          "model_module": "@jupyter-widgets/controls",
          "model_name": "HTMLModel",
          "model_module_version": "1.5.0",
          "state": {
            "_dom_classes": [],
            "_model_module": "@jupyter-widgets/controls",
            "_model_module_version": "1.5.0",
            "_model_name": "HTMLModel",
            "_view_count": null,
            "_view_module": "@jupyter-widgets/controls",
            "_view_module_version": "1.5.0",
            "_view_name": "HTMLView",
            "description": "",
            "description_tooltip": null,
            "layout": "IPY_MODEL_1d5f601c45a747f4a9326ae7bb715d72",
            "placeholder": "​",
            "style": "IPY_MODEL_e024af96948046e78ea7aa18dffa3da9",
            "value": " 570/570 [00:00&lt;00:00, 15.2kB/s]"
          }
        },
        "070d146335494971a9932967ededa006": {
          "model_module": "@jupyter-widgets/base",
          "model_name": "LayoutModel",
          "model_module_version": "1.2.0",
          "state": {
            "_model_module": "@jupyter-widgets/base",
            "_model_module_version": "1.2.0",
            "_model_name": "LayoutModel",
            "_view_count": null,
            "_view_module": "@jupyter-widgets/base",
            "_view_module_version": "1.2.0",
            "_view_name": "LayoutView",
            "align_content": null,
            "align_items": null,
            "align_self": null,
            "border": null,
            "bottom": null,
            "display": null,
            "flex": null,
            "flex_flow": null,
            "grid_area": null,
            "grid_auto_columns": null,
            "grid_auto_flow": null,
            "grid_auto_rows": null,
            "grid_column": null,
            "grid_gap": null,
            "grid_row": null,
            "grid_template_areas": null,
            "grid_template_columns": null,
            "grid_template_rows": null,
            "height": null,
            "justify_content": null,
            "justify_items": null,
            "left": null,
            "margin": null,
            "max_height": null,
            "max_width": null,
            "min_height": null,
            "min_width": null,
            "object_fit": null,
            "object_position": null,
            "order": null,
            "overflow": null,
            "overflow_x": null,
            "overflow_y": null,
            "padding": null,
            "right": null,
            "top": null,
            "visibility": null,
            "width": null
          }
        },
        "44fd0508e1d64b92a082677974ed807c": {
          "model_module": "@jupyter-widgets/base",
          "model_name": "LayoutModel",
          "model_module_version": "1.2.0",
          "state": {
            "_model_module": "@jupyter-widgets/base",
            "_model_module_version": "1.2.0",
            "_model_name": "LayoutModel",
            "_view_count": null,
            "_view_module": "@jupyter-widgets/base",
            "_view_module_version": "1.2.0",
            "_view_name": "LayoutView",
            "align_content": null,
            "align_items": null,
            "align_self": null,
            "border": null,
            "bottom": null,
            "display": null,
            "flex": null,
            "flex_flow": null,
            "grid_area": null,
            "grid_auto_columns": null,
            "grid_auto_flow": null,
            "grid_auto_rows": null,
            "grid_column": null,
            "grid_gap": null,
            "grid_row": null,
            "grid_template_areas": null,
            "grid_template_columns": null,
            "grid_template_rows": null,
            "height": null,
            "justify_content": null,
            "justify_items": null,
            "left": null,
            "margin": null,
            "max_height": null,
            "max_width": null,
            "min_height": null,
            "min_width": null,
            "object_fit": null,
            "object_position": null,
            "order": null,
            "overflow": null,
            "overflow_x": null,
            "overflow_y": null,
            "padding": null,
            "right": null,
            "top": null,
            "visibility": null,
            "width": null
          }
        },
        "843e0acf55bd49c3beaf4d08492de472": {
          "model_module": "@jupyter-widgets/controls",
          "model_name": "DescriptionStyleModel",
          "model_module_version": "1.5.0",
          "state": {
            "_model_module": "@jupyter-widgets/controls",
            "_model_module_version": "1.5.0",
            "_model_name": "DescriptionStyleModel",
            "_view_count": null,
            "_view_module": "@jupyter-widgets/base",
            "_view_module_version": "1.2.0",
            "_view_name": "StyleView",
            "description_width": ""
          }
        },
        "20074e08595842548a564589591ef91f": {
          "model_module": "@jupyter-widgets/base",
          "model_name": "LayoutModel",
          "model_module_version": "1.2.0",
          "state": {
            "_model_module": "@jupyter-widgets/base",
            "_model_module_version": "1.2.0",
            "_model_name": "LayoutModel",
            "_view_count": null,
            "_view_module": "@jupyter-widgets/base",
            "_view_module_version": "1.2.0",
            "_view_name": "LayoutView",
            "align_content": null,
            "align_items": null,
            "align_self": null,
            "border": null,
            "bottom": null,
            "display": null,
            "flex": null,
            "flex_flow": null,
            "grid_area": null,
            "grid_auto_columns": null,
            "grid_auto_flow": null,
            "grid_auto_rows": null,
            "grid_column": null,
            "grid_gap": null,
            "grid_row": null,
            "grid_template_areas": null,
            "grid_template_columns": null,
            "grid_template_rows": null,
            "height": null,
            "justify_content": null,
            "justify_items": null,
            "left": null,
            "margin": null,
            "max_height": null,
            "max_width": null,
            "min_height": null,
            "min_width": null,
            "object_fit": null,
            "object_position": null,
            "order": null,
            "overflow": null,
            "overflow_x": null,
            "overflow_y": null,
            "padding": null,
            "right": null,
            "top": null,
            "visibility": null,
            "width": null
          }
        },
        "f50c192515fd4794980f4c71aa91d74f": {
          "model_module": "@jupyter-widgets/controls",
          "model_name": "ProgressStyleModel",
          "model_module_version": "1.5.0",
          "state": {
            "_model_module": "@jupyter-widgets/controls",
            "_model_module_version": "1.5.0",
            "_model_name": "ProgressStyleModel",
            "_view_count": null,
            "_view_module": "@jupyter-widgets/base",
            "_view_module_version": "1.2.0",
            "_view_name": "StyleView",
            "bar_color": null,
            "description_width": ""
          }
        },
        "1d5f601c45a747f4a9326ae7bb715d72": {
          "model_module": "@jupyter-widgets/base",
          "model_name": "LayoutModel",
          "model_module_version": "1.2.0",
          "state": {
            "_model_module": "@jupyter-widgets/base",
            "_model_module_version": "1.2.0",
            "_model_name": "LayoutModel",
            "_view_count": null,
            "_view_module": "@jupyter-widgets/base",
            "_view_module_version": "1.2.0",
            "_view_name": "LayoutView",
            "align_content": null,
            "align_items": null,
            "align_self": null,
            "border": null,
            "bottom": null,
            "display": null,
            "flex": null,
            "flex_flow": null,
            "grid_area": null,
            "grid_auto_columns": null,
            "grid_auto_flow": null,
            "grid_auto_rows": null,
            "grid_column": null,
            "grid_gap": null,
            "grid_row": null,
            "grid_template_areas": null,
            "grid_template_columns": null,
            "grid_template_rows": null,
            "height": null,
            "justify_content": null,
            "justify_items": null,
            "left": null,
            "margin": null,
            "max_height": null,
            "max_width": null,
            "min_height": null,
            "min_width": null,
            "object_fit": null,
            "object_position": null,
            "order": null,
            "overflow": null,
            "overflow_x": null,
            "overflow_y": null,
            "padding": null,
            "right": null,
            "top": null,
            "visibility": null,
            "width": null
          }
        },
        "e024af96948046e78ea7aa18dffa3da9": {
          "model_module": "@jupyter-widgets/controls",
          "model_name": "DescriptionStyleModel",
          "model_module_version": "1.5.0",
          "state": {
            "_model_module": "@jupyter-widgets/controls",
            "_model_module_version": "1.5.0",
            "_model_name": "DescriptionStyleModel",
            "_view_count": null,
            "_view_module": "@jupyter-widgets/base",
            "_view_module_version": "1.2.0",
            "_view_name": "StyleView",
            "description_width": ""
          }
        },
        "3871a141b3144b86b6607dd86eda83ed": {
          "model_module": "@jupyter-widgets/controls",
          "model_name": "HBoxModel",
          "model_module_version": "1.5.0",
          "state": {
            "_dom_classes": [],
            "_model_module": "@jupyter-widgets/controls",
            "_model_module_version": "1.5.0",
            "_model_name": "HBoxModel",
            "_view_count": null,
            "_view_module": "@jupyter-widgets/controls",
            "_view_module_version": "1.5.0",
            "_view_name": "HBoxView",
            "box_style": "",
            "children": [
              "IPY_MODEL_f176a1f18a464a8b9d7773aa045156c2",
              "IPY_MODEL_1271e46bd0af4de8b2c7fb90d8ea74fe",
              "IPY_MODEL_3ce6d58e402f4082b5fab87ed82af8a4"
            ],
            "layout": "IPY_MODEL_d3574da4b1154ab898ce436223ab6b0d"
          }
        },
        "f176a1f18a464a8b9d7773aa045156c2": {
          "model_module": "@jupyter-widgets/controls",
          "model_name": "HTMLModel",
          "model_module_version": "1.5.0",
          "state": {
            "_dom_classes": [],
            "_model_module": "@jupyter-widgets/controls",
            "_model_module_version": "1.5.0",
            "_model_name": "HTMLModel",
            "_view_count": null,
            "_view_module": "@jupyter-widgets/controls",
            "_view_module_version": "1.5.0",
            "_view_name": "HTMLView",
            "description": "",
            "description_tooltip": null,
            "layout": "IPY_MODEL_d50861dc8b3a4c1c856942c5d305b907",
            "placeholder": "​",
            "style": "IPY_MODEL_71f3b52367f9449b9db7dd72629ace99",
            "value": "Downloading: 100%"
          }
        },
        "1271e46bd0af4de8b2c7fb90d8ea74fe": {
          "model_module": "@jupyter-widgets/controls",
          "model_name": "FloatProgressModel",
          "model_module_version": "1.5.0",
          "state": {
            "_dom_classes": [],
            "_model_module": "@jupyter-widgets/controls",
            "_model_module_version": "1.5.0",
            "_model_name": "FloatProgressModel",
            "_view_count": null,
            "_view_module": "@jupyter-widgets/controls",
            "_view_module_version": "1.5.0",
            "_view_name": "ProgressView",
            "bar_style": "success",
            "description": "",
            "description_tooltip": null,
            "layout": "IPY_MODEL_79227d2d97ad4d5c9f915389c6a02bdf",
            "max": 231508,
            "min": 0,
            "orientation": "horizontal",
            "style": "IPY_MODEL_a32eac1135454ebbb3ac8d224dc316b7",
            "value": 231508
          }
        },
        "3ce6d58e402f4082b5fab87ed82af8a4": {
          "model_module": "@jupyter-widgets/controls",
          "model_name": "HTMLModel",
          "model_module_version": "1.5.0",
          "state": {
            "_dom_classes": [],
            "_model_module": "@jupyter-widgets/controls",
            "_model_module_version": "1.5.0",
            "_model_name": "HTMLModel",
            "_view_count": null,
            "_view_module": "@jupyter-widgets/controls",
            "_view_module_version": "1.5.0",
            "_view_name": "HTMLView",
            "description": "",
            "description_tooltip": null,
            "layout": "IPY_MODEL_c1536c5bfd4842108bc83080f90bda8f",
            "placeholder": "​",
            "style": "IPY_MODEL_1c3d2093429b4aba92d2f2c6d0e61a5f",
            "value": " 226k/226k [00:00&lt;00:00, 2.40MB/s]"
          }
        },
        "d3574da4b1154ab898ce436223ab6b0d": {
          "model_module": "@jupyter-widgets/base",
          "model_name": "LayoutModel",
          "model_module_version": "1.2.0",
          "state": {
            "_model_module": "@jupyter-widgets/base",
            "_model_module_version": "1.2.0",
            "_model_name": "LayoutModel",
            "_view_count": null,
            "_view_module": "@jupyter-widgets/base",
            "_view_module_version": "1.2.0",
            "_view_name": "LayoutView",
            "align_content": null,
            "align_items": null,
            "align_self": null,
            "border": null,
            "bottom": null,
            "display": null,
            "flex": null,
            "flex_flow": null,
            "grid_area": null,
            "grid_auto_columns": null,
            "grid_auto_flow": null,
            "grid_auto_rows": null,
            "grid_column": null,
            "grid_gap": null,
            "grid_row": null,
            "grid_template_areas": null,
            "grid_template_columns": null,
            "grid_template_rows": null,
            "height": null,
            "justify_content": null,
            "justify_items": null,
            "left": null,
            "margin": null,
            "max_height": null,
            "max_width": null,
            "min_height": null,
            "min_width": null,
            "object_fit": null,
            "object_position": null,
            "order": null,
            "overflow": null,
            "overflow_x": null,
            "overflow_y": null,
            "padding": null,
            "right": null,
            "top": null,
            "visibility": null,
            "width": null
          }
        },
        "d50861dc8b3a4c1c856942c5d305b907": {
          "model_module": "@jupyter-widgets/base",
          "model_name": "LayoutModel",
          "model_module_version": "1.2.0",
          "state": {
            "_model_module": "@jupyter-widgets/base",
            "_model_module_version": "1.2.0",
            "_model_name": "LayoutModel",
            "_view_count": null,
            "_view_module": "@jupyter-widgets/base",
            "_view_module_version": "1.2.0",
            "_view_name": "LayoutView",
            "align_content": null,
            "align_items": null,
            "align_self": null,
            "border": null,
            "bottom": null,
            "display": null,
            "flex": null,
            "flex_flow": null,
            "grid_area": null,
            "grid_auto_columns": null,
            "grid_auto_flow": null,
            "grid_auto_rows": null,
            "grid_column": null,
            "grid_gap": null,
            "grid_row": null,
            "grid_template_areas": null,
            "grid_template_columns": null,
            "grid_template_rows": null,
            "height": null,
            "justify_content": null,
            "justify_items": null,
            "left": null,
            "margin": null,
            "max_height": null,
            "max_width": null,
            "min_height": null,
            "min_width": null,
            "object_fit": null,
            "object_position": null,
            "order": null,
            "overflow": null,
            "overflow_x": null,
            "overflow_y": null,
            "padding": null,
            "right": null,
            "top": null,
            "visibility": null,
            "width": null
          }
        },
        "71f3b52367f9449b9db7dd72629ace99": {
          "model_module": "@jupyter-widgets/controls",
          "model_name": "DescriptionStyleModel",
          "model_module_version": "1.5.0",
          "state": {
            "_model_module": "@jupyter-widgets/controls",
            "_model_module_version": "1.5.0",
            "_model_name": "DescriptionStyleModel",
            "_view_count": null,
            "_view_module": "@jupyter-widgets/base",
            "_view_module_version": "1.2.0",
            "_view_name": "StyleView",
            "description_width": ""
          }
        },
        "79227d2d97ad4d5c9f915389c6a02bdf": {
          "model_module": "@jupyter-widgets/base",
          "model_name": "LayoutModel",
          "model_module_version": "1.2.0",
          "state": {
            "_model_module": "@jupyter-widgets/base",
            "_model_module_version": "1.2.0",
            "_model_name": "LayoutModel",
            "_view_count": null,
            "_view_module": "@jupyter-widgets/base",
            "_view_module_version": "1.2.0",
            "_view_name": "LayoutView",
            "align_content": null,
            "align_items": null,
            "align_self": null,
            "border": null,
            "bottom": null,
            "display": null,
            "flex": null,
            "flex_flow": null,
            "grid_area": null,
            "grid_auto_columns": null,
            "grid_auto_flow": null,
            "grid_auto_rows": null,
            "grid_column": null,
            "grid_gap": null,
            "grid_row": null,
            "grid_template_areas": null,
            "grid_template_columns": null,
            "grid_template_rows": null,
            "height": null,
            "justify_content": null,
            "justify_items": null,
            "left": null,
            "margin": null,
            "max_height": null,
            "max_width": null,
            "min_height": null,
            "min_width": null,
            "object_fit": null,
            "object_position": null,
            "order": null,
            "overflow": null,
            "overflow_x": null,
            "overflow_y": null,
            "padding": null,
            "right": null,
            "top": null,
            "visibility": null,
            "width": null
          }
        },
        "a32eac1135454ebbb3ac8d224dc316b7": {
          "model_module": "@jupyter-widgets/controls",
          "model_name": "ProgressStyleModel",
          "model_module_version": "1.5.0",
          "state": {
            "_model_module": "@jupyter-widgets/controls",
            "_model_module_version": "1.5.0",
            "_model_name": "ProgressStyleModel",
            "_view_count": null,
            "_view_module": "@jupyter-widgets/base",
            "_view_module_version": "1.2.0",
            "_view_name": "StyleView",
            "bar_color": null,
            "description_width": ""
          }
        },
        "c1536c5bfd4842108bc83080f90bda8f": {
          "model_module": "@jupyter-widgets/base",
          "model_name": "LayoutModel",
          "model_module_version": "1.2.0",
          "state": {
            "_model_module": "@jupyter-widgets/base",
            "_model_module_version": "1.2.0",
            "_model_name": "LayoutModel",
            "_view_count": null,
            "_view_module": "@jupyter-widgets/base",
            "_view_module_version": "1.2.0",
            "_view_name": "LayoutView",
            "align_content": null,
            "align_items": null,
            "align_self": null,
            "border": null,
            "bottom": null,
            "display": null,
            "flex": null,
            "flex_flow": null,
            "grid_area": null,
            "grid_auto_columns": null,
            "grid_auto_flow": null,
            "grid_auto_rows": null,
            "grid_column": null,
            "grid_gap": null,
            "grid_row": null,
            "grid_template_areas": null,
            "grid_template_columns": null,
            "grid_template_rows": null,
            "height": null,
            "justify_content": null,
            "justify_items": null,
            "left": null,
            "margin": null,
            "max_height": null,
            "max_width": null,
            "min_height": null,
            "min_width": null,
            "object_fit": null,
            "object_position": null,
            "order": null,
            "overflow": null,
            "overflow_x": null,
            "overflow_y": null,
            "padding": null,
            "right": null,
            "top": null,
            "visibility": null,
            "width": null
          }
        },
        "1c3d2093429b4aba92d2f2c6d0e61a5f": {
          "model_module": "@jupyter-widgets/controls",
          "model_name": "DescriptionStyleModel",
          "model_module_version": "1.5.0",
          "state": {
            "_model_module": "@jupyter-widgets/controls",
            "_model_module_version": "1.5.0",
            "_model_name": "DescriptionStyleModel",
            "_view_count": null,
            "_view_module": "@jupyter-widgets/base",
            "_view_module_version": "1.2.0",
            "_view_name": "StyleView",
            "description_width": ""
          }
        },
        "43ea23f6802c4e6e8206ee75ca2221eb": {
          "model_module": "@jupyter-widgets/controls",
          "model_name": "HBoxModel",
          "model_module_version": "1.5.0",
          "state": {
            "_dom_classes": [],
            "_model_module": "@jupyter-widgets/controls",
            "_model_module_version": "1.5.0",
            "_model_name": "HBoxModel",
            "_view_count": null,
            "_view_module": "@jupyter-widgets/controls",
            "_view_module_version": "1.5.0",
            "_view_name": "HBoxView",
            "box_style": "",
            "children": [
              "IPY_MODEL_121001602a0b4c1d9c008e262e472574",
              "IPY_MODEL_c6bd202d16ab4569b508c1a6932fd1b4",
              "IPY_MODEL_b2c4463222e24b83b50e123a6ce131ff"
            ],
            "layout": "IPY_MODEL_bb246f97354241d4b548511e4777f34c"
          }
        },
        "121001602a0b4c1d9c008e262e472574": {
          "model_module": "@jupyter-widgets/controls",
          "model_name": "HTMLModel",
          "model_module_version": "1.5.0",
          "state": {
            "_dom_classes": [],
            "_model_module": "@jupyter-widgets/controls",
            "_model_module_version": "1.5.0",
            "_model_name": "HTMLModel",
            "_view_count": null,
            "_view_module": "@jupyter-widgets/controls",
            "_view_module_version": "1.5.0",
            "_view_name": "HTMLView",
            "description": "",
            "description_tooltip": null,
            "layout": "IPY_MODEL_cd816d6e81954a5d8c1e8079cb1c3a4b",
            "placeholder": "​",
            "style": "IPY_MODEL_3e3ccbd29bff464a86115a1b1c990a49",
            "value": "Downloading: 100%"
          }
        },
        "c6bd202d16ab4569b508c1a6932fd1b4": {
          "model_module": "@jupyter-widgets/controls",
          "model_name": "FloatProgressModel",
          "model_module_version": "1.5.0",
          "state": {
            "_dom_classes": [],
            "_model_module": "@jupyter-widgets/controls",
            "_model_module_version": "1.5.0",
            "_model_name": "FloatProgressModel",
            "_view_count": null,
            "_view_module": "@jupyter-widgets/controls",
            "_view_module_version": "1.5.0",
            "_view_name": "ProgressView",
            "bar_style": "success",
            "description": "",
            "description_tooltip": null,
            "layout": "IPY_MODEL_d2a298b0504f42f98497974afc7ca5c6",
            "max": 466062,
            "min": 0,
            "orientation": "horizontal",
            "style": "IPY_MODEL_24db52a0aac24d189debd1a752eb1ccb",
            "value": 466062
          }
        },
        "b2c4463222e24b83b50e123a6ce131ff": {
          "model_module": "@jupyter-widgets/controls",
          "model_name": "HTMLModel",
          "model_module_version": "1.5.0",
          "state": {
            "_dom_classes": [],
            "_model_module": "@jupyter-widgets/controls",
            "_model_module_version": "1.5.0",
            "_model_name": "HTMLModel",
            "_view_count": null,
            "_view_module": "@jupyter-widgets/controls",
            "_view_module_version": "1.5.0",
            "_view_name": "HTMLView",
            "description": "",
            "description_tooltip": null,
            "layout": "IPY_MODEL_880aa2d086d0450b928bdfc65ecaaa40",
            "placeholder": "​",
            "style": "IPY_MODEL_8b8ccbca8ea849929e6ad38c9c1d5a39",
            "value": " 455k/455k [00:00&lt;00:00, 4.98MB/s]"
          }
        },
        "bb246f97354241d4b548511e4777f34c": {
          "model_module": "@jupyter-widgets/base",
          "model_name": "LayoutModel",
          "model_module_version": "1.2.0",
          "state": {
            "_model_module": "@jupyter-widgets/base",
            "_model_module_version": "1.2.0",
            "_model_name": "LayoutModel",
            "_view_count": null,
            "_view_module": "@jupyter-widgets/base",
            "_view_module_version": "1.2.0",
            "_view_name": "LayoutView",
            "align_content": null,
            "align_items": null,
            "align_self": null,
            "border": null,
            "bottom": null,
            "display": null,
            "flex": null,
            "flex_flow": null,
            "grid_area": null,
            "grid_auto_columns": null,
            "grid_auto_flow": null,
            "grid_auto_rows": null,
            "grid_column": null,
            "grid_gap": null,
            "grid_row": null,
            "grid_template_areas": null,
            "grid_template_columns": null,
            "grid_template_rows": null,
            "height": null,
            "justify_content": null,
            "justify_items": null,
            "left": null,
            "margin": null,
            "max_height": null,
            "max_width": null,
            "min_height": null,
            "min_width": null,
            "object_fit": null,
            "object_position": null,
            "order": null,
            "overflow": null,
            "overflow_x": null,
            "overflow_y": null,
            "padding": null,
            "right": null,
            "top": null,
            "visibility": null,
            "width": null
          }
        },
        "cd816d6e81954a5d8c1e8079cb1c3a4b": {
          "model_module": "@jupyter-widgets/base",
          "model_name": "LayoutModel",
          "model_module_version": "1.2.0",
          "state": {
            "_model_module": "@jupyter-widgets/base",
            "_model_module_version": "1.2.0",
            "_model_name": "LayoutModel",
            "_view_count": null,
            "_view_module": "@jupyter-widgets/base",
            "_view_module_version": "1.2.0",
            "_view_name": "LayoutView",
            "align_content": null,
            "align_items": null,
            "align_self": null,
            "border": null,
            "bottom": null,
            "display": null,
            "flex": null,
            "flex_flow": null,
            "grid_area": null,
            "grid_auto_columns": null,
            "grid_auto_flow": null,
            "grid_auto_rows": null,
            "grid_column": null,
            "grid_gap": null,
            "grid_row": null,
            "grid_template_areas": null,
            "grid_template_columns": null,
            "grid_template_rows": null,
            "height": null,
            "justify_content": null,
            "justify_items": null,
            "left": null,
            "margin": null,
            "max_height": null,
            "max_width": null,
            "min_height": null,
            "min_width": null,
            "object_fit": null,
            "object_position": null,
            "order": null,
            "overflow": null,
            "overflow_x": null,
            "overflow_y": null,
            "padding": null,
            "right": null,
            "top": null,
            "visibility": null,
            "width": null
          }
        },
        "3e3ccbd29bff464a86115a1b1c990a49": {
          "model_module": "@jupyter-widgets/controls",
          "model_name": "DescriptionStyleModel",
          "model_module_version": "1.5.0",
          "state": {
            "_model_module": "@jupyter-widgets/controls",
            "_model_module_version": "1.5.0",
            "_model_name": "DescriptionStyleModel",
            "_view_count": null,
            "_view_module": "@jupyter-widgets/base",
            "_view_module_version": "1.2.0",
            "_view_name": "StyleView",
            "description_width": ""
          }
        },
        "d2a298b0504f42f98497974afc7ca5c6": {
          "model_module": "@jupyter-widgets/base",
          "model_name": "LayoutModel",
          "model_module_version": "1.2.0",
          "state": {
            "_model_module": "@jupyter-widgets/base",
            "_model_module_version": "1.2.0",
            "_model_name": "LayoutModel",
            "_view_count": null,
            "_view_module": "@jupyter-widgets/base",
            "_view_module_version": "1.2.0",
            "_view_name": "LayoutView",
            "align_content": null,
            "align_items": null,
            "align_self": null,
            "border": null,
            "bottom": null,
            "display": null,
            "flex": null,
            "flex_flow": null,
            "grid_area": null,
            "grid_auto_columns": null,
            "grid_auto_flow": null,
            "grid_auto_rows": null,
            "grid_column": null,
            "grid_gap": null,
            "grid_row": null,
            "grid_template_areas": null,
            "grid_template_columns": null,
            "grid_template_rows": null,
            "height": null,
            "justify_content": null,
            "justify_items": null,
            "left": null,
            "margin": null,
            "max_height": null,
            "max_width": null,
            "min_height": null,
            "min_width": null,
            "object_fit": null,
            "object_position": null,
            "order": null,
            "overflow": null,
            "overflow_x": null,
            "overflow_y": null,
            "padding": null,
            "right": null,
            "top": null,
            "visibility": null,
            "width": null
          }
        },
        "24db52a0aac24d189debd1a752eb1ccb": {
          "model_module": "@jupyter-widgets/controls",
          "model_name": "ProgressStyleModel",
          "model_module_version": "1.5.0",
          "state": {
            "_model_module": "@jupyter-widgets/controls",
            "_model_module_version": "1.5.0",
            "_model_name": "ProgressStyleModel",
            "_view_count": null,
            "_view_module": "@jupyter-widgets/base",
            "_view_module_version": "1.2.0",
            "_view_name": "StyleView",
            "bar_color": null,
            "description_width": ""
          }
        },
        "880aa2d086d0450b928bdfc65ecaaa40": {
          "model_module": "@jupyter-widgets/base",
          "model_name": "LayoutModel",
          "model_module_version": "1.2.0",
          "state": {
            "_model_module": "@jupyter-widgets/base",
            "_model_module_version": "1.2.0",
            "_model_name": "LayoutModel",
            "_view_count": null,
            "_view_module": "@jupyter-widgets/base",
            "_view_module_version": "1.2.0",
            "_view_name": "LayoutView",
            "align_content": null,
            "align_items": null,
            "align_self": null,
            "border": null,
            "bottom": null,
            "display": null,
            "flex": null,
            "flex_flow": null,
            "grid_area": null,
            "grid_auto_columns": null,
            "grid_auto_flow": null,
            "grid_auto_rows": null,
            "grid_column": null,
            "grid_gap": null,
            "grid_row": null,
            "grid_template_areas": null,
            "grid_template_columns": null,
            "grid_template_rows": null,
            "height": null,
            "justify_content": null,
            "justify_items": null,
            "left": null,
            "margin": null,
            "max_height": null,
            "max_width": null,
            "min_height": null,
            "min_width": null,
            "object_fit": null,
            "object_position": null,
            "order": null,
            "overflow": null,
            "overflow_x": null,
            "overflow_y": null,
            "padding": null,
            "right": null,
            "top": null,
            "visibility": null,
            "width": null
          }
        },
        "8b8ccbca8ea849929e6ad38c9c1d5a39": {
          "model_module": "@jupyter-widgets/controls",
          "model_name": "DescriptionStyleModel",
          "model_module_version": "1.5.0",
          "state": {
            "_model_module": "@jupyter-widgets/controls",
            "_model_module_version": "1.5.0",
            "_model_name": "DescriptionStyleModel",
            "_view_count": null,
            "_view_module": "@jupyter-widgets/base",
            "_view_module_version": "1.2.0",
            "_view_name": "StyleView",
            "description_width": ""
          }
        },
        "4bb976fa626749e993dd18ebc7015744": {
          "model_module": "@jupyter-widgets/controls",
          "model_name": "HBoxModel",
          "model_module_version": "1.5.0",
          "state": {
            "_dom_classes": [],
            "_model_module": "@jupyter-widgets/controls",
            "_model_module_version": "1.5.0",
            "_model_name": "HBoxModel",
            "_view_count": null,
            "_view_module": "@jupyter-widgets/controls",
            "_view_module_version": "1.5.0",
            "_view_name": "HBoxView",
            "box_style": "",
            "children": [
              "IPY_MODEL_16fc49f0d1d547ce8a762124acad6b4f",
              "IPY_MODEL_9f040a3125924f8889b2b972ad8c60b5",
              "IPY_MODEL_f14fd8dbbbac4b789261fe31fab41679"
            ],
            "layout": "IPY_MODEL_c6b8bb7f6e7148b6b2cb028961022031"
          }
        },
        "16fc49f0d1d547ce8a762124acad6b4f": {
          "model_module": "@jupyter-widgets/controls",
          "model_name": "HTMLModel",
          "model_module_version": "1.5.0",
          "state": {
            "_dom_classes": [],
            "_model_module": "@jupyter-widgets/controls",
            "_model_module_version": "1.5.0",
            "_model_name": "HTMLModel",
            "_view_count": null,
            "_view_module": "@jupyter-widgets/controls",
            "_view_module_version": "1.5.0",
            "_view_name": "HTMLView",
            "description": "",
            "description_tooltip": null,
            "layout": "IPY_MODEL_0a54f306182f4ba180e89710c5164e88",
            "placeholder": "​",
            "style": "IPY_MODEL_41f60217faa049e6ad379e0f68977a11",
            "value": "Downloading: 100%"
          }
        },
        "9f040a3125924f8889b2b972ad8c60b5": {
          "model_module": "@jupyter-widgets/controls",
          "model_name": "FloatProgressModel",
          "model_module_version": "1.5.0",
          "state": {
            "_dom_classes": [],
            "_model_module": "@jupyter-widgets/controls",
            "_model_module_version": "1.5.0",
            "_model_name": "FloatProgressModel",
            "_view_count": null,
            "_view_module": "@jupyter-widgets/controls",
            "_view_module_version": "1.5.0",
            "_view_name": "ProgressView",
            "bar_style": "success",
            "description": "",
            "description_tooltip": null,
            "layout": "IPY_MODEL_e4237d63c46f4ab7b01638e98d093cdd",
            "max": 536063208,
            "min": 0,
            "orientation": "horizontal",
            "style": "IPY_MODEL_0ef3a273df5d4342aa43e47294204c80",
            "value": 536063208
          }
        },
        "f14fd8dbbbac4b789261fe31fab41679": {
          "model_module": "@jupyter-widgets/controls",
          "model_name": "HTMLModel",
          "model_module_version": "1.5.0",
          "state": {
            "_dom_classes": [],
            "_model_module": "@jupyter-widgets/controls",
            "_model_module_version": "1.5.0",
            "_model_name": "HTMLModel",
            "_view_count": null,
            "_view_module": "@jupyter-widgets/controls",
            "_view_module_version": "1.5.0",
            "_view_name": "HTMLView",
            "description": "",
            "description_tooltip": null,
            "layout": "IPY_MODEL_af0647b332454ac09da989b28a6559a5",
            "placeholder": "​",
            "style": "IPY_MODEL_e92bde9201e5468e8289438985b03df1",
            "value": " 511M/511M [00:13&lt;00:00, 59.9MB/s]"
          }
        },
        "c6b8bb7f6e7148b6b2cb028961022031": {
          "model_module": "@jupyter-widgets/base",
          "model_name": "LayoutModel",
          "model_module_version": "1.2.0",
          "state": {
            "_model_module": "@jupyter-widgets/base",
            "_model_module_version": "1.2.0",
            "_model_name": "LayoutModel",
            "_view_count": null,
            "_view_module": "@jupyter-widgets/base",
            "_view_module_version": "1.2.0",
            "_view_name": "LayoutView",
            "align_content": null,
            "align_items": null,
            "align_self": null,
            "border": null,
            "bottom": null,
            "display": null,
            "flex": null,
            "flex_flow": null,
            "grid_area": null,
            "grid_auto_columns": null,
            "grid_auto_flow": null,
            "grid_auto_rows": null,
            "grid_column": null,
            "grid_gap": null,
            "grid_row": null,
            "grid_template_areas": null,
            "grid_template_columns": null,
            "grid_template_rows": null,
            "height": null,
            "justify_content": null,
            "justify_items": null,
            "left": null,
            "margin": null,
            "max_height": null,
            "max_width": null,
            "min_height": null,
            "min_width": null,
            "object_fit": null,
            "object_position": null,
            "order": null,
            "overflow": null,
            "overflow_x": null,
            "overflow_y": null,
            "padding": null,
            "right": null,
            "top": null,
            "visibility": null,
            "width": null
          }
        },
        "0a54f306182f4ba180e89710c5164e88": {
          "model_module": "@jupyter-widgets/base",
          "model_name": "LayoutModel",
          "model_module_version": "1.2.0",
          "state": {
            "_model_module": "@jupyter-widgets/base",
            "_model_module_version": "1.2.0",
            "_model_name": "LayoutModel",
            "_view_count": null,
            "_view_module": "@jupyter-widgets/base",
            "_view_module_version": "1.2.0",
            "_view_name": "LayoutView",
            "align_content": null,
            "align_items": null,
            "align_self": null,
            "border": null,
            "bottom": null,
            "display": null,
            "flex": null,
            "flex_flow": null,
            "grid_area": null,
            "grid_auto_columns": null,
            "grid_auto_flow": null,
            "grid_auto_rows": null,
            "grid_column": null,
            "grid_gap": null,
            "grid_row": null,
            "grid_template_areas": null,
            "grid_template_columns": null,
            "grid_template_rows": null,
            "height": null,
            "justify_content": null,
            "justify_items": null,
            "left": null,
            "margin": null,
            "max_height": null,
            "max_width": null,
            "min_height": null,
            "min_width": null,
            "object_fit": null,
            "object_position": null,
            "order": null,
            "overflow": null,
            "overflow_x": null,
            "overflow_y": null,
            "padding": null,
            "right": null,
            "top": null,
            "visibility": null,
            "width": null
          }
        },
        "41f60217faa049e6ad379e0f68977a11": {
          "model_module": "@jupyter-widgets/controls",
          "model_name": "DescriptionStyleModel",
          "model_module_version": "1.5.0",
          "state": {
            "_model_module": "@jupyter-widgets/controls",
            "_model_module_version": "1.5.0",
            "_model_name": "DescriptionStyleModel",
            "_view_count": null,
            "_view_module": "@jupyter-widgets/base",
            "_view_module_version": "1.2.0",
            "_view_name": "StyleView",
            "description_width": ""
          }
        },
        "e4237d63c46f4ab7b01638e98d093cdd": {
          "model_module": "@jupyter-widgets/base",
          "model_name": "LayoutModel",
          "model_module_version": "1.2.0",
          "state": {
            "_model_module": "@jupyter-widgets/base",
            "_model_module_version": "1.2.0",
            "_model_name": "LayoutModel",
            "_view_count": null,
            "_view_module": "@jupyter-widgets/base",
            "_view_module_version": "1.2.0",
            "_view_name": "LayoutView",
            "align_content": null,
            "align_items": null,
            "align_self": null,
            "border": null,
            "bottom": null,
            "display": null,
            "flex": null,
            "flex_flow": null,
            "grid_area": null,
            "grid_auto_columns": null,
            "grid_auto_flow": null,
            "grid_auto_rows": null,
            "grid_column": null,
            "grid_gap": null,
            "grid_row": null,
            "grid_template_areas": null,
            "grid_template_columns": null,
            "grid_template_rows": null,
            "height": null,
            "justify_content": null,
            "justify_items": null,
            "left": null,
            "margin": null,
            "max_height": null,
            "max_width": null,
            "min_height": null,
            "min_width": null,
            "object_fit": null,
            "object_position": null,
            "order": null,
            "overflow": null,
            "overflow_x": null,
            "overflow_y": null,
            "padding": null,
            "right": null,
            "top": null,
            "visibility": null,
            "width": null
          }
        },
        "0ef3a273df5d4342aa43e47294204c80": {
          "model_module": "@jupyter-widgets/controls",
          "model_name": "ProgressStyleModel",
          "model_module_version": "1.5.0",
          "state": {
            "_model_module": "@jupyter-widgets/controls",
            "_model_module_version": "1.5.0",
            "_model_name": "ProgressStyleModel",
            "_view_count": null,
            "_view_module": "@jupyter-widgets/base",
            "_view_module_version": "1.2.0",
            "_view_name": "StyleView",
            "bar_color": null,
            "description_width": ""
          }
        },
        "af0647b332454ac09da989b28a6559a5": {
          "model_module": "@jupyter-widgets/base",
          "model_name": "LayoutModel",
          "model_module_version": "1.2.0",
          "state": {
            "_model_module": "@jupyter-widgets/base",
            "_model_module_version": "1.2.0",
            "_model_name": "LayoutModel",
            "_view_count": null,
            "_view_module": "@jupyter-widgets/base",
            "_view_module_version": "1.2.0",
            "_view_name": "LayoutView",
            "align_content": null,
            "align_items": null,
            "align_self": null,
            "border": null,
            "bottom": null,
            "display": null,
            "flex": null,
            "flex_flow": null,
            "grid_area": null,
            "grid_auto_columns": null,
            "grid_auto_flow": null,
            "grid_auto_rows": null,
            "grid_column": null,
            "grid_gap": null,
            "grid_row": null,
            "grid_template_areas": null,
            "grid_template_columns": null,
            "grid_template_rows": null,
            "height": null,
            "justify_content": null,
            "justify_items": null,
            "left": null,
            "margin": null,
            "max_height": null,
            "max_width": null,
            "min_height": null,
            "min_width": null,
            "object_fit": null,
            "object_position": null,
            "order": null,
            "overflow": null,
            "overflow_x": null,
            "overflow_y": null,
            "padding": null,
            "right": null,
            "top": null,
            "visibility": null,
            "width": null
          }
        },
        "e92bde9201e5468e8289438985b03df1": {
          "model_module": "@jupyter-widgets/controls",
          "model_name": "DescriptionStyleModel",
          "model_module_version": "1.5.0",
          "state": {
            "_model_module": "@jupyter-widgets/controls",
            "_model_module_version": "1.5.0",
            "_model_name": "DescriptionStyleModel",
            "_view_count": null,
            "_view_module": "@jupyter-widgets/base",
            "_view_module_version": "1.2.0",
            "_view_name": "StyleView",
            "description_width": ""
          }
        }
      }
    }
  },
  "nbformat_minor": 0,
  "nbformat": 4,
  "cells": [
    {
      "cell_type": "markdown",
      "metadata": {
        "id": "view-in-github",
        "colab_type": "text"
      },
      "source": [
        "<a href=\"https://colab.research.google.com/github/BalandinAndrew/kursk2022july/blob/main/Kursk_kolab.ipynb\" target=\"_parent\"><img src=\"https://colab.research.google.com/assets/colab-badge.svg\" alt=\"Open In Colab\"/></a>"
      ]
    },
    {
      "cell_type": "code",
      "source": [
        "!pip install ludwig==0.4.1"
      ],
      "metadata": {
        "id": "iCAKFqy8MgCP",
        "outputId": "b9e0447c-82d2-462e-aeba-f362a1078ebe",
        "execution": {
          "iopub.status.busy": "2022-07-12T09:10:48.297840Z",
          "iopub.execute_input": "2022-07-12T09:10:48.298123Z",
          "iopub.status.idle": "2022-07-12T09:11:29.353663Z",
          "shell.execute_reply.started": "2022-07-12T09:10:48.298094Z",
          "shell.execute_reply": "2022-07-12T09:11:29.352815Z"
        },
        "trusted": true,
        "colab": {
          "base_uri": "https://localhost:8080/"
        }
      },
      "execution_count": 1,
      "outputs": [
        {
          "output_type": "stream",
          "name": "stdout",
          "text": [
            "Looking in indexes: https://pypi.org/simple, https://us-python.pkg.dev/colab-wheels/public/simple/\n",
            "Collecting ludwig==0.4.1\n",
            "  Downloading ludwig-0.4.1.tar.gz (388 kB)\n",
            "\u001b[K     |████████████████████████████████| 388 kB 5.0 MB/s \n",
            "\u001b[?25hRequirement already satisfied: Cython>=0.25 in /usr/local/lib/python3.7/dist-packages (from ludwig==0.4.1) (0.29.30)\n",
            "Requirement already satisfied: h5py!=3.0.0,>=2.6 in /usr/local/lib/python3.7/dist-packages (from ludwig==0.4.1) (3.1.0)\n",
            "Requirement already satisfied: numpy>=1.15 in /usr/local/lib/python3.7/dist-packages (from ludwig==0.4.1) (1.21.6)\n",
            "Requirement already satisfied: pandas!=1.1.5,>=0.25 in /usr/local/lib/python3.7/dist-packages (from ludwig==0.4.1) (1.3.5)\n",
            "Requirement already satisfied: scipy>=0.18 in /usr/local/lib/python3.7/dist-packages (from ludwig==0.4.1) (1.7.3)\n",
            "Requirement already satisfied: tabulate>=0.7 in /usr/local/lib/python3.7/dist-packages (from ludwig==0.4.1) (0.8.10)\n",
            "Collecting scikit-learn<1.0\n",
            "  Downloading scikit_learn-0.24.2-cp37-cp37m-manylinux2010_x86_64.whl (22.3 MB)\n",
            "\u001b[K     |████████████████████████████████| 22.3 MB 1.5 MB/s \n",
            "\u001b[?25hRequirement already satisfied: tqdm in /usr/local/lib/python3.7/dist-packages (from ludwig==0.4.1) (4.64.0)\n",
            "Collecting tensorflow<2.8,>=2.3.1\n",
            "  Downloading https://us-python.pkg.dev/colab-wheels/public/tensorflow/tensorflow-2.7.3%2Bzzzcolab20220523111007-cp37-cp37m-linux_x86_64.whl (671.4 MB)\n",
            "\u001b[K     |████████████████████████████████| 671.4 MB 15 kB/s \n",
            "\u001b[?25hCollecting tensorflow-addons==0.15.0\n",
            "  Downloading tensorflow_addons-0.15.0-cp37-cp37m-manylinux_2_12_x86_64.manylinux2010_x86_64.whl (1.1 MB)\n",
            "\u001b[K     |████████████████████████████████| 1.1 MB 55.6 MB/s \n",
            "\u001b[?25hRequirement already satisfied: PyYAML>=3.12 in /usr/local/lib/python3.7/dist-packages (from ludwig==0.4.1) (3.13)\n",
            "Requirement already satisfied: absl-py in /usr/local/lib/python3.7/dist-packages (from ludwig==0.4.1) (1.1.0)\n",
            "Requirement already satisfied: kaggle in /usr/local/lib/python3.7/dist-packages (from ludwig==0.4.1) (1.5.12)\n",
            "Requirement already satisfied: requests in /usr/local/lib/python3.7/dist-packages (from ludwig==0.4.1) (2.23.0)\n",
            "Requirement already satisfied: tables in /usr/local/lib/python3.7/dist-packages (from ludwig==0.4.1) (3.7.0)\n",
            "Collecting fsspec\n",
            "  Downloading fsspec-2022.5.0-py3-none-any.whl (140 kB)\n",
            "\u001b[K     |████████████████████████████████| 140 kB 71.6 MB/s \n",
            "\u001b[?25hCollecting dataclasses-json\n",
            "  Downloading dataclasses_json-0.5.7-py3-none-any.whl (25 kB)\n",
            "Requirement already satisfied: jsonschema in /usr/local/lib/python3.7/dist-packages (from ludwig==0.4.1) (4.3.3)\n",
            "Collecting marshmallow\n",
            "  Downloading marshmallow-3.17.0-py3-none-any.whl (48 kB)\n",
            "\u001b[K     |████████████████████████████████| 48 kB 5.3 MB/s \n",
            "\u001b[?25hCollecting marshmallow-jsonschema\n",
            "  Downloading marshmallow_jsonschema-0.13.0-py3-none-any.whl (11 kB)\n",
            "Collecting marshmallow-dataclass\n",
            "  Downloading marshmallow_dataclass-8.5.8-py3-none-any.whl (17 kB)\n",
            "Requirement already satisfied: filelock in /usr/local/lib/python3.7/dist-packages (from ludwig==0.4.1) (3.7.1)\n",
            "Collecting httplib2>=0.20.2\n",
            "  Downloading httplib2-0.20.4-py3-none-any.whl (96 kB)\n",
            "\u001b[K     |████████████████████████████████| 96 kB 6.3 MB/s \n",
            "\u001b[?25hRequirement already satisfied: xlwt in /usr/local/lib/python3.7/dist-packages (from ludwig==0.4.1) (1.3.0)\n",
            "Requirement already satisfied: xlrd in /usr/local/lib/python3.7/dist-packages (from ludwig==0.4.1) (1.1.0)\n",
            "Requirement already satisfied: openpyxl in /usr/local/lib/python3.7/dist-packages (from ludwig==0.4.1) (3.0.10)\n",
            "Requirement already satisfied: pyarrow in /usr/local/lib/python3.7/dist-packages (from ludwig==0.4.1) (6.0.1)\n",
            "Requirement already satisfied: lxml in /usr/local/lib/python3.7/dist-packages (from ludwig==0.4.1) (4.2.6)\n",
            "Requirement already satisfied: typeguard>=2.7 in /usr/local/lib/python3.7/dist-packages (from tensorflow-addons==0.15.0->ludwig==0.4.1) (2.7.1)\n",
            "Requirement already satisfied: cached-property in /usr/local/lib/python3.7/dist-packages (from h5py!=3.0.0,>=2.6->ludwig==0.4.1) (1.5.2)\n",
            "Requirement already satisfied: pyparsing!=3.0.0,!=3.0.1,!=3.0.2,!=3.0.3,<4,>=2.4.2 in /usr/local/lib/python3.7/dist-packages (from httplib2>=0.20.2->ludwig==0.4.1) (3.0.9)\n",
            "Requirement already satisfied: pytz>=2017.3 in /usr/local/lib/python3.7/dist-packages (from pandas!=1.1.5,>=0.25->ludwig==0.4.1) (2022.1)\n",
            "Requirement already satisfied: python-dateutil>=2.7.3 in /usr/local/lib/python3.7/dist-packages (from pandas!=1.1.5,>=0.25->ludwig==0.4.1) (2.8.2)\n",
            "Requirement already satisfied: six>=1.5 in /usr/local/lib/python3.7/dist-packages (from python-dateutil>=2.7.3->pandas!=1.1.5,>=0.25->ludwig==0.4.1) (1.15.0)\n",
            "Requirement already satisfied: threadpoolctl>=2.0.0 in /usr/local/lib/python3.7/dist-packages (from scikit-learn<1.0->ludwig==0.4.1) (3.1.0)\n",
            "Requirement already satisfied: joblib>=0.11 in /usr/local/lib/python3.7/dist-packages (from scikit-learn<1.0->ludwig==0.4.1) (1.1.0)\n",
            "Collecting gast<0.5.0,>=0.2.1\n",
            "  Downloading gast-0.4.0-py3-none-any.whl (9.8 kB)\n",
            "Requirement already satisfied: grpcio<2.0,>=1.24.3 in /usr/local/lib/python3.7/dist-packages (from tensorflow<2.8,>=2.3.1->ludwig==0.4.1) (1.47.0)\n",
            "Requirement already satisfied: termcolor>=1.1.0 in /usr/local/lib/python3.7/dist-packages (from tensorflow<2.8,>=2.3.1->ludwig==0.4.1) (1.1.0)\n",
            "Requirement already satisfied: google-pasta>=0.1.1 in /usr/local/lib/python3.7/dist-packages (from tensorflow<2.8,>=2.3.1->ludwig==0.4.1) (0.2.0)\n",
            "Requirement already satisfied: libclang>=9.0.1 in /usr/local/lib/python3.7/dist-packages (from tensorflow<2.8,>=2.3.1->ludwig==0.4.1) (14.0.1)\n",
            "Collecting tensorflow-estimator<2.8,~=2.7.0rc0\n",
            "  Downloading tensorflow_estimator-2.7.0-py2.py3-none-any.whl (463 kB)\n",
            "\u001b[K     |████████████████████████████████| 463 kB 71.6 MB/s \n",
            "\u001b[?25hRequirement already satisfied: protobuf<3.20,>=3.9.2 in /usr/local/lib/python3.7/dist-packages (from tensorflow<2.8,>=2.3.1->ludwig==0.4.1) (3.17.3)\n",
            "Collecting keras<2.8,>=2.7.0rc0\n",
            "  Downloading keras-2.7.0-py2.py3-none-any.whl (1.3 MB)\n",
            "\u001b[K     |████████████████████████████████| 1.3 MB 65.7 MB/s \n",
            "\u001b[?25hRequirement already satisfied: typing-extensions>=3.6.6 in /usr/local/lib/python3.7/dist-packages (from tensorflow<2.8,>=2.3.1->ludwig==0.4.1) (4.1.1)\n",
            "Requirement already satisfied: astunparse>=1.6.0 in /usr/local/lib/python3.7/dist-packages (from tensorflow<2.8,>=2.3.1->ludwig==0.4.1) (1.6.3)\n",
            "Requirement already satisfied: opt-einsum>=2.3.2 in /usr/local/lib/python3.7/dist-packages (from tensorflow<2.8,>=2.3.1->ludwig==0.4.1) (3.3.0)\n",
            "Requirement already satisfied: wrapt>=1.11.0 in /usr/local/lib/python3.7/dist-packages (from tensorflow<2.8,>=2.3.1->ludwig==0.4.1) (1.14.1)\n",
            "Requirement already satisfied: flatbuffers<3.0,>=1.12 in /usr/local/lib/python3.7/dist-packages (from tensorflow<2.8,>=2.3.1->ludwig==0.4.1) (2.0)\n",
            "Requirement already satisfied: tensorboard~=2.6 in /usr/local/lib/python3.7/dist-packages (from tensorflow<2.8,>=2.3.1->ludwig==0.4.1) (2.8.0)\n",
            "Requirement already satisfied: wheel<1.0,>=0.32.0 in /usr/local/lib/python3.7/dist-packages (from tensorflow<2.8,>=2.3.1->ludwig==0.4.1) (0.37.1)\n",
            "Requirement already satisfied: keras-preprocessing>=1.1.1 in /usr/local/lib/python3.7/dist-packages (from tensorflow<2.8,>=2.3.1->ludwig==0.4.1) (1.1.2)\n",
            "Requirement already satisfied: tensorflow-io-gcs-filesystem>=0.21.0 in /usr/local/lib/python3.7/dist-packages (from tensorflow<2.8,>=2.3.1->ludwig==0.4.1) (0.26.0)\n",
            "Requirement already satisfied: werkzeug>=0.11.15 in /usr/local/lib/python3.7/dist-packages (from tensorboard~=2.6->tensorflow<2.8,>=2.3.1->ludwig==0.4.1) (1.0.1)\n",
            "Requirement already satisfied: google-auth<3,>=1.6.3 in /usr/local/lib/python3.7/dist-packages (from tensorboard~=2.6->tensorflow<2.8,>=2.3.1->ludwig==0.4.1) (1.35.0)\n",
            "Requirement already satisfied: markdown>=2.6.8 in /usr/local/lib/python3.7/dist-packages (from tensorboard~=2.6->tensorflow<2.8,>=2.3.1->ludwig==0.4.1) (3.3.7)\n",
            "Requirement already satisfied: tensorboard-data-server<0.7.0,>=0.6.0 in /usr/local/lib/python3.7/dist-packages (from tensorboard~=2.6->tensorflow<2.8,>=2.3.1->ludwig==0.4.1) (0.6.1)\n",
            "Requirement already satisfied: tensorboard-plugin-wit>=1.6.0 in /usr/local/lib/python3.7/dist-packages (from tensorboard~=2.6->tensorflow<2.8,>=2.3.1->ludwig==0.4.1) (1.8.1)\n",
            "Requirement already satisfied: google-auth-oauthlib<0.5,>=0.4.1 in /usr/local/lib/python3.7/dist-packages (from tensorboard~=2.6->tensorflow<2.8,>=2.3.1->ludwig==0.4.1) (0.4.6)\n",
            "Requirement already satisfied: setuptools>=41.0.0 in /usr/local/lib/python3.7/dist-packages (from tensorboard~=2.6->tensorflow<2.8,>=2.3.1->ludwig==0.4.1) (57.4.0)\n",
            "Requirement already satisfied: pyasn1-modules>=0.2.1 in /usr/local/lib/python3.7/dist-packages (from google-auth<3,>=1.6.3->tensorboard~=2.6->tensorflow<2.8,>=2.3.1->ludwig==0.4.1) (0.2.8)\n",
            "Requirement already satisfied: cachetools<5.0,>=2.0.0 in /usr/local/lib/python3.7/dist-packages (from google-auth<3,>=1.6.3->tensorboard~=2.6->tensorflow<2.8,>=2.3.1->ludwig==0.4.1) (4.2.4)\n",
            "Requirement already satisfied: rsa<5,>=3.1.4 in /usr/local/lib/python3.7/dist-packages (from google-auth<3,>=1.6.3->tensorboard~=2.6->tensorflow<2.8,>=2.3.1->ludwig==0.4.1) (4.8)\n",
            "Requirement already satisfied: requests-oauthlib>=0.7.0 in /usr/local/lib/python3.7/dist-packages (from google-auth-oauthlib<0.5,>=0.4.1->tensorboard~=2.6->tensorflow<2.8,>=2.3.1->ludwig==0.4.1) (1.3.1)\n",
            "Requirement already satisfied: importlib-metadata>=4.4 in /usr/local/lib/python3.7/dist-packages (from markdown>=2.6.8->tensorboard~=2.6->tensorflow<2.8,>=2.3.1->ludwig==0.4.1) (4.12.0)\n",
            "Requirement already satisfied: zipp>=0.5 in /usr/local/lib/python3.7/dist-packages (from importlib-metadata>=4.4->markdown>=2.6.8->tensorboard~=2.6->tensorflow<2.8,>=2.3.1->ludwig==0.4.1) (3.8.0)\n",
            "Requirement already satisfied: pyasn1<0.5.0,>=0.4.6 in /usr/local/lib/python3.7/dist-packages (from pyasn1-modules>=0.2.1->google-auth<3,>=1.6.3->tensorboard~=2.6->tensorflow<2.8,>=2.3.1->ludwig==0.4.1) (0.4.8)\n",
            "Requirement already satisfied: idna<3,>=2.5 in /usr/local/lib/python3.7/dist-packages (from requests->ludwig==0.4.1) (2.10)\n",
            "Requirement already satisfied: certifi>=2017.4.17 in /usr/local/lib/python3.7/dist-packages (from requests->ludwig==0.4.1) (2022.6.15)\n",
            "Requirement already satisfied: chardet<4,>=3.0.2 in /usr/local/lib/python3.7/dist-packages (from requests->ludwig==0.4.1) (3.0.4)\n",
            "Requirement already satisfied: urllib3!=1.25.0,!=1.25.1,<1.26,>=1.21.1 in /usr/local/lib/python3.7/dist-packages (from requests->ludwig==0.4.1) (1.24.3)\n",
            "Requirement already satisfied: oauthlib>=3.0.0 in /usr/local/lib/python3.7/dist-packages (from requests-oauthlib>=0.7.0->google-auth-oauthlib<0.5,>=0.4.1->tensorboard~=2.6->tensorflow<2.8,>=2.3.1->ludwig==0.4.1) (3.2.0)\n",
            "Collecting typing-inspect>=0.4.0\n",
            "  Downloading typing_inspect-0.7.1-py3-none-any.whl (8.4 kB)\n",
            "Collecting marshmallow-enum<2.0.0,>=1.5.1\n",
            "  Downloading marshmallow_enum-1.5.1-py2.py3-none-any.whl (4.2 kB)\n",
            "Requirement already satisfied: packaging>=17.0 in /usr/local/lib/python3.7/dist-packages (from marshmallow->ludwig==0.4.1) (21.3)\n",
            "Collecting mypy-extensions>=0.3.0\n",
            "  Downloading mypy_extensions-0.4.3-py2.py3-none-any.whl (4.5 kB)\n",
            "Requirement already satisfied: importlib-resources>=1.4.0 in /usr/local/lib/python3.7/dist-packages (from jsonschema->ludwig==0.4.1) (5.8.0)\n",
            "Requirement already satisfied: attrs>=17.4.0 in /usr/local/lib/python3.7/dist-packages (from jsonschema->ludwig==0.4.1) (21.4.0)\n",
            "Requirement already satisfied: pyrsistent!=0.17.0,!=0.17.1,!=0.17.2,>=0.14.0 in /usr/local/lib/python3.7/dist-packages (from jsonschema->ludwig==0.4.1) (0.18.1)\n",
            "Requirement already satisfied: python-slugify in /usr/local/lib/python3.7/dist-packages (from kaggle->ludwig==0.4.1) (6.1.2)\n",
            "Requirement already satisfied: et-xmlfile in /usr/local/lib/python3.7/dist-packages (from openpyxl->ludwig==0.4.1) (1.1.0)\n",
            "Requirement already satisfied: text-unidecode>=1.3 in /usr/local/lib/python3.7/dist-packages (from python-slugify->kaggle->ludwig==0.4.1) (1.3)\n",
            "Requirement already satisfied: numexpr>=2.6.2 in /usr/local/lib/python3.7/dist-packages (from tables->ludwig==0.4.1) (2.8.3)\n",
            "Building wheels for collected packages: ludwig\n",
            "  Building wheel for ludwig (setup.py) ... \u001b[?25l\u001b[?25hdone\n",
            "  Created wheel for ludwig: filename=ludwig-0.4.1-py3-none-any.whl size=489346 sha256=ed5df162b80d88eeb8233a6dd8407cd93ae6a5d6b30d0da982f55816bb291e44\n",
            "  Stored in directory: /root/.cache/pip/wheels/33/67/45/5268c7c349acccc114f07d92b57f2db50d627531ad1b727523\n",
            "Successfully built ludwig\n",
            "Installing collected packages: mypy-extensions, marshmallow, typing-inspect, tensorflow-estimator, marshmallow-enum, keras, gast, tensorflow-addons, tensorflow, scikit-learn, marshmallow-jsonschema, marshmallow-dataclass, httplib2, fsspec, dataclasses-json, ludwig\n",
            "  Attempting uninstall: tensorflow-estimator\n",
            "    Found existing installation: tensorflow-estimator 2.8.0\n",
            "    Uninstalling tensorflow-estimator-2.8.0:\n",
            "      Successfully uninstalled tensorflow-estimator-2.8.0\n",
            "  Attempting uninstall: keras\n",
            "    Found existing installation: keras 2.8.0\n",
            "    Uninstalling keras-2.8.0:\n",
            "      Successfully uninstalled keras-2.8.0\n",
            "  Attempting uninstall: gast\n",
            "    Found existing installation: gast 0.5.3\n",
            "    Uninstalling gast-0.5.3:\n",
            "      Successfully uninstalled gast-0.5.3\n",
            "  Attempting uninstall: tensorflow\n",
            "    Found existing installation: tensorflow 2.8.2+zzzcolab20220527125636\n",
            "    Uninstalling tensorflow-2.8.2+zzzcolab20220527125636:\n",
            "      Successfully uninstalled tensorflow-2.8.2+zzzcolab20220527125636\n",
            "  Attempting uninstall: scikit-learn\n",
            "    Found existing installation: scikit-learn 1.0.2\n",
            "    Uninstalling scikit-learn-1.0.2:\n",
            "      Successfully uninstalled scikit-learn-1.0.2\n",
            "  Attempting uninstall: httplib2\n",
            "    Found existing installation: httplib2 0.17.4\n",
            "    Uninstalling httplib2-0.17.4:\n",
            "      Successfully uninstalled httplib2-0.17.4\n",
            "\u001b[31mERROR: pip's dependency resolver does not currently take into account all the packages that are installed. This behaviour is the source of the following dependency conflicts.\n",
            "yellowbrick 1.4 requires scikit-learn>=1.0.0, but you have scikit-learn 0.24.2 which is incompatible.\u001b[0m\n",
            "Successfully installed dataclasses-json-0.5.7 fsspec-2022.5.0 gast-0.4.0 httplib2-0.20.4 keras-2.7.0 ludwig-0.4.1 marshmallow-3.17.0 marshmallow-dataclass-8.5.8 marshmallow-enum-1.5.1 marshmallow-jsonschema-0.13.0 mypy-extensions-0.4.3 scikit-learn-0.24.2 tensorflow-2.7.3+zzzcolab20220523111007 tensorflow-addons-0.15.0 tensorflow-estimator-2.7.0 typing-inspect-0.7.1\n"
          ]
        }
      ]
    },
    {
      "cell_type": "code",
      "source": [
        "!pip install transformers"
      ],
      "metadata": {
        "colab": {
          "base_uri": "https://localhost:8080/"
        },
        "id": "Jk2JMg1GDs3F",
        "outputId": "724c57ce-30be-4736-b92c-c795f4e82e01"
      },
      "execution_count": 2,
      "outputs": [
        {
          "output_type": "stream",
          "name": "stdout",
          "text": [
            "Looking in indexes: https://pypi.org/simple, https://us-python.pkg.dev/colab-wheels/public/simple/\n",
            "Collecting transformers\n",
            "  Downloading transformers-4.20.1-py3-none-any.whl (4.4 MB)\n",
            "\u001b[K     |████████████████████████████████| 4.4 MB 5.0 MB/s \n",
            "\u001b[?25hRequirement already satisfied: requests in /usr/local/lib/python3.7/dist-packages (from transformers) (2.23.0)\n",
            "Collecting tokenizers!=0.11.3,<0.13,>=0.11.1\n",
            "  Downloading tokenizers-0.12.1-cp37-cp37m-manylinux_2_12_x86_64.manylinux2010_x86_64.whl (6.6 MB)\n",
            "\u001b[K     |████████████████████████████████| 6.6 MB 44.8 MB/s \n",
            "\u001b[?25hRequirement already satisfied: tqdm>=4.27 in /usr/local/lib/python3.7/dist-packages (from transformers) (4.64.0)\n",
            "Requirement already satisfied: numpy>=1.17 in /usr/local/lib/python3.7/dist-packages (from transformers) (1.21.6)\n",
            "Collecting huggingface-hub<1.0,>=0.1.0\n",
            "  Downloading huggingface_hub-0.8.1-py3-none-any.whl (101 kB)\n",
            "\u001b[K     |████████████████████████████████| 101 kB 11.4 MB/s \n",
            "\u001b[?25hCollecting pyyaml>=5.1\n",
            "  Downloading PyYAML-6.0-cp37-cp37m-manylinux_2_5_x86_64.manylinux1_x86_64.manylinux_2_12_x86_64.manylinux2010_x86_64.whl (596 kB)\n",
            "\u001b[K     |████████████████████████████████| 596 kB 78.2 MB/s \n",
            "\u001b[?25hRequirement already satisfied: regex!=2019.12.17 in /usr/local/lib/python3.7/dist-packages (from transformers) (2022.6.2)\n",
            "Requirement already satisfied: filelock in /usr/local/lib/python3.7/dist-packages (from transformers) (3.7.1)\n",
            "Requirement already satisfied: packaging>=20.0 in /usr/local/lib/python3.7/dist-packages (from transformers) (21.3)\n",
            "Requirement already satisfied: importlib-metadata in /usr/local/lib/python3.7/dist-packages (from transformers) (4.12.0)\n",
            "Requirement already satisfied: typing-extensions>=3.7.4.3 in /usr/local/lib/python3.7/dist-packages (from huggingface-hub<1.0,>=0.1.0->transformers) (4.1.1)\n",
            "Requirement already satisfied: pyparsing!=3.0.5,>=2.0.2 in /usr/local/lib/python3.7/dist-packages (from packaging>=20.0->transformers) (3.0.9)\n",
            "Requirement already satisfied: zipp>=0.5 in /usr/local/lib/python3.7/dist-packages (from importlib-metadata->transformers) (3.8.0)\n",
            "Requirement already satisfied: certifi>=2017.4.17 in /usr/local/lib/python3.7/dist-packages (from requests->transformers) (2022.6.15)\n",
            "Requirement already satisfied: idna<3,>=2.5 in /usr/local/lib/python3.7/dist-packages (from requests->transformers) (2.10)\n",
            "Requirement already satisfied: urllib3!=1.25.0,!=1.25.1,<1.26,>=1.21.1 in /usr/local/lib/python3.7/dist-packages (from requests->transformers) (1.24.3)\n",
            "Requirement already satisfied: chardet<4,>=3.0.2 in /usr/local/lib/python3.7/dist-packages (from requests->transformers) (3.0.4)\n",
            "Installing collected packages: pyyaml, tokenizers, huggingface-hub, transformers\n",
            "  Attempting uninstall: pyyaml\n",
            "    Found existing installation: PyYAML 3.13\n",
            "    Uninstalling PyYAML-3.13:\n",
            "      Successfully uninstalled PyYAML-3.13\n",
            "Successfully installed huggingface-hub-0.8.1 pyyaml-6.0 tokenizers-0.12.1 transformers-4.20.1\n"
          ]
        }
      ]
    },
    {
      "cell_type": "code",
      "source": [
        "import pandas as pd\n",
        "import numpy as np\n",
        "from datetime import datetime, timedelta\n",
        "from ludwig.api import LudwigModel\n",
        "from ludwig.visualize import learning_curves\n",
        "import yaml\n",
        "pd.set_option('display.max_columns', None)\n",
        "import matplotlib.pyplot as plt\n",
        "#увеличим дефолтный размер графиков\n",
        "from pylab import rcParams\n",
        "rcParams['figure.figsize'] = 10, 5\n",
        "#графики в svg выглядят более четкими\n"
      ],
      "metadata": {
        "id": "3a4e9d87",
        "execution": {
          "iopub.status.busy": "2022-07-12T09:11:29.355599Z",
          "iopub.execute_input": "2022-07-12T09:11:29.355897Z",
          "iopub.status.idle": "2022-07-12T09:11:37.351961Z",
          "shell.execute_reply.started": "2022-07-12T09:11:29.355861Z",
          "shell.execute_reply": "2022-07-12T09:11:37.351225Z"
        },
        "trusted": true
      },
      "execution_count": 3,
      "outputs": []
    },
    {
      "cell_type": "code",
      "source": [
        "train = pd.read_csv('train_dataset_train_predobr.csv')\n",
        "train"
      ],
      "metadata": {
        "id": "39e46347",
        "outputId": "043fcde1-68ba-4d69-f2a1-163e94906714",
        "execution": {
          "iopub.status.busy": "2022-07-12T09:11:37.353314Z",
          "iopub.execute_input": "2022-07-12T09:11:37.353618Z",
          "iopub.status.idle": "2022-07-12T09:11:37.468899Z",
          "shell.execute_reply.started": "2022-07-12T09:11:37.353581Z",
          "shell.execute_reply": "2022-07-12T09:11:37.468219Z"
        },
        "trusted": true,
        "colab": {
          "base_uri": "https://localhost:8080/",
          "height": 641
        }
      },
      "execution_count": 4,
      "outputs": [
        {
          "output_type": "execute_result",
          "data": {
            "text/plain": [
              "        id                                       Message text  \\\n",
              "0     2246  Help the head of the Lgovsky RES does not resp...   \n",
              "1      380  On the facade of the house at st. Uritskogo 22...   \n",
              "2     2240  Aggressive dogs. On the rainbow there is a flo...   \n",
              "3      596  At the intersection of Sosnovskaya and Beregov...   \n",
              "4     1797  Hello! Near the house 1 \"A\" on Svetlaya Street...   \n",
              "...    ...                                                ...   \n",
              "1995  1356  12/22/21 in the evening there was a stink from...   \n",
              "1996   243  Good afternoon! I want to report such a proble...   \n",
              "1997  2350  There are 3 withered trees (2 large birches an...   \n",
              "1998  1937  Please roman Vladimirovich, soon here on a.d. ...   \n",
              "1999  1185  The PCR test was passed on 29.10.2021, but the...   \n",
              "\n",
              "                                        Текст Сообщения  \\\n",
              "0     Помогите начальник Льговского рэс не реагирует...   \n",
              "1     <p>По фасаду дома по адресу ул. Урицкого 22 пр...   \n",
              "2     Агресивные собаки. На радуге там стая из подро...   \n",
              "3     <p>На пересечении &nbsp;улиц Сосновская и Бере...   \n",
              "4     <p style=`text-align:justify;`><span style=`ba...   \n",
              "...                                                 ...   \n",
              "1995  <p>22.12.21 в вечернее время появилась вонь от...   \n",
              "1996  <p>Добрый день! Хочу сообщить о такой проблеме...   \n",
              "1997  Состоят 3 засохшие дерева (2 большие  берёзы и...   \n",
              "1998  Пожалуйста роман Владимирович, в скором времен...   \n",
              "1999  <p>Сдан ПЦР-тест 29.10.2021г., но результат те...   \n",
              "\n",
              "                                               Тематика  \\\n",
              "0     Нарушения, связанные с содержанием электросети...   \n",
              "1                                     Аварийные деревья   \n",
              "2                                 Безнадзорные животные   \n",
              "3     Нескошенная сорная растительность в местах общ...   \n",
              "4                                     Аварийные деревья   \n",
              "...                                                 ...   \n",
              "1995                                  Неприятные запахи   \n",
              "1996  Парковки на дорогах в границах городских округ...   \n",
              "1997                                  Аварийные деревья   \n",
              "1998  Нарушение дорожного покрытия (ямы)  на дорогах...   \n",
              "1999                         ПЦР-тест, тест на антитела   \n",
              "\n",
              "                              Ответственное лицо  Категория  \n",
              "0                Администрация Льговского района          3  \n",
              "1                    Администрация города Курска          3  \n",
              "2                    Администрация города Курска          1  \n",
              "3      Комитет дорожного хозяйства города Курска          3  \n",
              "4     Комитет городского хозяйства города Курска          3  \n",
              "...                                          ...        ...  \n",
              "1995  Комитет природных ресурсов Курской области         16  \n",
              "1996                 Администрация города Курска          0  \n",
              "1997                 Администрация города Курска          3  \n",
              "1998                 Администрация города Курска          0  \n",
              "1999     Комитет здравоохранения Курской области          4  \n",
              "\n",
              "[2000 rows x 6 columns]"
            ],
            "text/html": [
              "\n",
              "  <div id=\"df-f0088c8a-0118-4f78-a684-eaa271f4991f\">\n",
              "    <div class=\"colab-df-container\">\n",
              "      <div>\n",
              "<style scoped>\n",
              "    .dataframe tbody tr th:only-of-type {\n",
              "        vertical-align: middle;\n",
              "    }\n",
              "\n",
              "    .dataframe tbody tr th {\n",
              "        vertical-align: top;\n",
              "    }\n",
              "\n",
              "    .dataframe thead th {\n",
              "        text-align: right;\n",
              "    }\n",
              "</style>\n",
              "<table border=\"1\" class=\"dataframe\">\n",
              "  <thead>\n",
              "    <tr style=\"text-align: right;\">\n",
              "      <th></th>\n",
              "      <th>id</th>\n",
              "      <th>Message text</th>\n",
              "      <th>Текст Сообщения</th>\n",
              "      <th>Тематика</th>\n",
              "      <th>Ответственное лицо</th>\n",
              "      <th>Категория</th>\n",
              "    </tr>\n",
              "  </thead>\n",
              "  <tbody>\n",
              "    <tr>\n",
              "      <th>0</th>\n",
              "      <td>2246</td>\n",
              "      <td>Help the head of the Lgovsky RES does not resp...</td>\n",
              "      <td>Помогите начальник Льговского рэс не реагирует...</td>\n",
              "      <td>Нарушения, связанные с содержанием электросети...</td>\n",
              "      <td>Администрация Льговского района</td>\n",
              "      <td>3</td>\n",
              "    </tr>\n",
              "    <tr>\n",
              "      <th>1</th>\n",
              "      <td>380</td>\n",
              "      <td>On the facade of the house at st. Uritskogo 22...</td>\n",
              "      <td>&lt;p&gt;По фасаду дома по адресу ул. Урицкого 22 пр...</td>\n",
              "      <td>Аварийные деревья</td>\n",
              "      <td>Администрация города Курска</td>\n",
              "      <td>3</td>\n",
              "    </tr>\n",
              "    <tr>\n",
              "      <th>2</th>\n",
              "      <td>2240</td>\n",
              "      <td>Aggressive dogs. On the rainbow there is a flo...</td>\n",
              "      <td>Агресивные собаки. На радуге там стая из подро...</td>\n",
              "      <td>Безнадзорные животные</td>\n",
              "      <td>Администрация города Курска</td>\n",
              "      <td>1</td>\n",
              "    </tr>\n",
              "    <tr>\n",
              "      <th>3</th>\n",
              "      <td>596</td>\n",
              "      <td>At the intersection of Sosnovskaya and Beregov...</td>\n",
              "      <td>&lt;p&gt;На пересечении &amp;nbsp;улиц Сосновская и Бере...</td>\n",
              "      <td>Нескошенная сорная растительность в местах общ...</td>\n",
              "      <td>Комитет дорожного хозяйства города Курска</td>\n",
              "      <td>3</td>\n",
              "    </tr>\n",
              "    <tr>\n",
              "      <th>4</th>\n",
              "      <td>1797</td>\n",
              "      <td>Hello! Near the house 1 \"A\" on Svetlaya Street...</td>\n",
              "      <td>&lt;p style=`text-align:justify;`&gt;&lt;span style=`ba...</td>\n",
              "      <td>Аварийные деревья</td>\n",
              "      <td>Комитет городского хозяйства города Курска</td>\n",
              "      <td>3</td>\n",
              "    </tr>\n",
              "    <tr>\n",
              "      <th>...</th>\n",
              "      <td>...</td>\n",
              "      <td>...</td>\n",
              "      <td>...</td>\n",
              "      <td>...</td>\n",
              "      <td>...</td>\n",
              "      <td>...</td>\n",
              "    </tr>\n",
              "    <tr>\n",
              "      <th>1995</th>\n",
              "      <td>1356</td>\n",
              "      <td>12/22/21 in the evening there was a stink from...</td>\n",
              "      <td>&lt;p&gt;22.12.21 в вечернее время появилась вонь от...</td>\n",
              "      <td>Неприятные запахи</td>\n",
              "      <td>Комитет природных ресурсов Курской области</td>\n",
              "      <td>16</td>\n",
              "    </tr>\n",
              "    <tr>\n",
              "      <th>1996</th>\n",
              "      <td>243</td>\n",
              "      <td>Good afternoon! I want to report such a proble...</td>\n",
              "      <td>&lt;p&gt;Добрый день! Хочу сообщить о такой проблеме...</td>\n",
              "      <td>Парковки на дорогах в границах городских округ...</td>\n",
              "      <td>Администрация города Курска</td>\n",
              "      <td>0</td>\n",
              "    </tr>\n",
              "    <tr>\n",
              "      <th>1997</th>\n",
              "      <td>2350</td>\n",
              "      <td>There are 3 withered trees (2 large birches an...</td>\n",
              "      <td>Состоят 3 засохшие дерева (2 большие  берёзы и...</td>\n",
              "      <td>Аварийные деревья</td>\n",
              "      <td>Администрация города Курска</td>\n",
              "      <td>3</td>\n",
              "    </tr>\n",
              "    <tr>\n",
              "      <th>1998</th>\n",
              "      <td>1937</td>\n",
              "      <td>Please roman Vladimirovich, soon here on a.d. ...</td>\n",
              "      <td>Пожалуйста роман Владимирович, в скором времен...</td>\n",
              "      <td>Нарушение дорожного покрытия (ямы)  на дорогах...</td>\n",
              "      <td>Администрация города Курска</td>\n",
              "      <td>0</td>\n",
              "    </tr>\n",
              "    <tr>\n",
              "      <th>1999</th>\n",
              "      <td>1185</td>\n",
              "      <td>The PCR test was passed on 29.10.2021, but the...</td>\n",
              "      <td>&lt;p&gt;Сдан ПЦР-тест 29.10.2021г., но результат те...</td>\n",
              "      <td>ПЦР-тест, тест на антитела</td>\n",
              "      <td>Комитет здравоохранения Курской области</td>\n",
              "      <td>4</td>\n",
              "    </tr>\n",
              "  </tbody>\n",
              "</table>\n",
              "<p>2000 rows × 6 columns</p>\n",
              "</div>\n",
              "      <button class=\"colab-df-convert\" onclick=\"convertToInteractive('df-f0088c8a-0118-4f78-a684-eaa271f4991f')\"\n",
              "              title=\"Convert this dataframe to an interactive table.\"\n",
              "              style=\"display:none;\">\n",
              "        \n",
              "  <svg xmlns=\"http://www.w3.org/2000/svg\" height=\"24px\"viewBox=\"0 0 24 24\"\n",
              "       width=\"24px\">\n",
              "    <path d=\"M0 0h24v24H0V0z\" fill=\"none\"/>\n",
              "    <path d=\"M18.56 5.44l.94 2.06.94-2.06 2.06-.94-2.06-.94-.94-2.06-.94 2.06-2.06.94zm-11 1L8.5 8.5l.94-2.06 2.06-.94-2.06-.94L8.5 2.5l-.94 2.06-2.06.94zm10 10l.94 2.06.94-2.06 2.06-.94-2.06-.94-.94-2.06-.94 2.06-2.06.94z\"/><path d=\"M17.41 7.96l-1.37-1.37c-.4-.4-.92-.59-1.43-.59-.52 0-1.04.2-1.43.59L10.3 9.45l-7.72 7.72c-.78.78-.78 2.05 0 2.83L4 21.41c.39.39.9.59 1.41.59.51 0 1.02-.2 1.41-.59l7.78-7.78 2.81-2.81c.8-.78.8-2.07 0-2.86zM5.41 20L4 18.59l7.72-7.72 1.47 1.35L5.41 20z\"/>\n",
              "  </svg>\n",
              "      </button>\n",
              "      \n",
              "  <style>\n",
              "    .colab-df-container {\n",
              "      display:flex;\n",
              "      flex-wrap:wrap;\n",
              "      gap: 12px;\n",
              "    }\n",
              "\n",
              "    .colab-df-convert {\n",
              "      background-color: #E8F0FE;\n",
              "      border: none;\n",
              "      border-radius: 50%;\n",
              "      cursor: pointer;\n",
              "      display: none;\n",
              "      fill: #1967D2;\n",
              "      height: 32px;\n",
              "      padding: 0 0 0 0;\n",
              "      width: 32px;\n",
              "    }\n",
              "\n",
              "    .colab-df-convert:hover {\n",
              "      background-color: #E2EBFA;\n",
              "      box-shadow: 0px 1px 2px rgba(60, 64, 67, 0.3), 0px 1px 3px 1px rgba(60, 64, 67, 0.15);\n",
              "      fill: #174EA6;\n",
              "    }\n",
              "\n",
              "    [theme=dark] .colab-df-convert {\n",
              "      background-color: #3B4455;\n",
              "      fill: #D2E3FC;\n",
              "    }\n",
              "\n",
              "    [theme=dark] .colab-df-convert:hover {\n",
              "      background-color: #434B5C;\n",
              "      box-shadow: 0px 1px 3px 1px rgba(0, 0, 0, 0.15);\n",
              "      filter: drop-shadow(0px 1px 2px rgba(0, 0, 0, 0.3));\n",
              "      fill: #FFFFFF;\n",
              "    }\n",
              "  </style>\n",
              "\n",
              "      <script>\n",
              "        const buttonEl =\n",
              "          document.querySelector('#df-f0088c8a-0118-4f78-a684-eaa271f4991f button.colab-df-convert');\n",
              "        buttonEl.style.display =\n",
              "          google.colab.kernel.accessAllowed ? 'block' : 'none';\n",
              "\n",
              "        async function convertToInteractive(key) {\n",
              "          const element = document.querySelector('#df-f0088c8a-0118-4f78-a684-eaa271f4991f');\n",
              "          const dataTable =\n",
              "            await google.colab.kernel.invokeFunction('convertToInteractive',\n",
              "                                                     [key], {});\n",
              "          if (!dataTable) return;\n",
              "\n",
              "          const docLinkHtml = 'Like what you see? Visit the ' +\n",
              "            '<a target=\"_blank\" href=https://colab.research.google.com/notebooks/data_table.ipynb>data table notebook</a>'\n",
              "            + ' to learn more about interactive tables.';\n",
              "          element.innerHTML = '';\n",
              "          dataTable['output_type'] = 'display_data';\n",
              "          await google.colab.output.renderOutput(dataTable, element);\n",
              "          const docLink = document.createElement('div');\n",
              "          docLink.innerHTML = docLinkHtml;\n",
              "          element.appendChild(docLink);\n",
              "        }\n",
              "      </script>\n",
              "    </div>\n",
              "  </div>\n",
              "  "
            ]
          },
          "metadata": {},
          "execution_count": 4
        }
      ]
    },
    {
      "cell_type": "code",
      "source": [
        "test = pd.read_csv('test_dataset_test_predobr.csv')\n",
        "test"
      ],
      "metadata": {
        "id": "3e9a9290",
        "outputId": "103e235b-0866-4d1d-f9c4-a8eebd3ea0a1",
        "execution": {
          "iopub.status.busy": "2022-07-12T09:11:37.470983Z",
          "iopub.execute_input": "2022-07-12T09:11:37.471445Z",
          "iopub.status.idle": "2022-07-12T09:11:37.515505Z",
          "shell.execute_reply.started": "2022-07-12T09:11:37.471395Z",
          "shell.execute_reply": "2022-07-12T09:11:37.514846Z"
        },
        "trusted": true,
        "colab": {
          "base_uri": "https://localhost:8080/",
          "height": 424
        }
      },
      "execution_count": 5,
      "outputs": [
        {
          "output_type": "execute_result",
          "data": {
            "text/plain": [
              "       id                                       Message text\n",
              "0     843  Hello. On Mira Street, outdoor lighting was re...\n",
              "1    1422  The street lighting has not been on for two we...\n",
              "2    2782  The lighting in the courtyard of the house 11a...\n",
              "3    2704  After mowing weeds on the lawn between the sid...\n",
              "4       1  I ask you to take action against the driver of...\n",
              "..    ...                                                ...\n",
              "995  2619  Good afternoon! My family and I are residents ...\n",
              "996  2518  On Lazarev 5, Shchigry, a poplar branch will s...\n",
              "997  2524  In front of the entrance to the Committee of E...\n",
              "998  1577  Good day I had a medical exemption from vaccin...\n",
              "999  2567  Good afternoon, I am a mother of many children...\n",
              "\n",
              "[1000 rows x 2 columns]"
            ],
            "text/html": [
              "\n",
              "  <div id=\"df-e8fa677a-451e-466a-beb7-1e332f374e1d\">\n",
              "    <div class=\"colab-df-container\">\n",
              "      <div>\n",
              "<style scoped>\n",
              "    .dataframe tbody tr th:only-of-type {\n",
              "        vertical-align: middle;\n",
              "    }\n",
              "\n",
              "    .dataframe tbody tr th {\n",
              "        vertical-align: top;\n",
              "    }\n",
              "\n",
              "    .dataframe thead th {\n",
              "        text-align: right;\n",
              "    }\n",
              "</style>\n",
              "<table border=\"1\" class=\"dataframe\">\n",
              "  <thead>\n",
              "    <tr style=\"text-align: right;\">\n",
              "      <th></th>\n",
              "      <th>id</th>\n",
              "      <th>Message text</th>\n",
              "    </tr>\n",
              "  </thead>\n",
              "  <tbody>\n",
              "    <tr>\n",
              "      <th>0</th>\n",
              "      <td>843</td>\n",
              "      <td>Hello. On Mira Street, outdoor lighting was re...</td>\n",
              "    </tr>\n",
              "    <tr>\n",
              "      <th>1</th>\n",
              "      <td>1422</td>\n",
              "      <td>The street lighting has not been on for two we...</td>\n",
              "    </tr>\n",
              "    <tr>\n",
              "      <th>2</th>\n",
              "      <td>2782</td>\n",
              "      <td>The lighting in the courtyard of the house 11a...</td>\n",
              "    </tr>\n",
              "    <tr>\n",
              "      <th>3</th>\n",
              "      <td>2704</td>\n",
              "      <td>After mowing weeds on the lawn between the sid...</td>\n",
              "    </tr>\n",
              "    <tr>\n",
              "      <th>4</th>\n",
              "      <td>1</td>\n",
              "      <td>I ask you to take action against the driver of...</td>\n",
              "    </tr>\n",
              "    <tr>\n",
              "      <th>...</th>\n",
              "      <td>...</td>\n",
              "      <td>...</td>\n",
              "    </tr>\n",
              "    <tr>\n",
              "      <th>995</th>\n",
              "      <td>2619</td>\n",
              "      <td>Good afternoon! My family and I are residents ...</td>\n",
              "    </tr>\n",
              "    <tr>\n",
              "      <th>996</th>\n",
              "      <td>2518</td>\n",
              "      <td>On Lazarev 5, Shchigry, a poplar branch will s...</td>\n",
              "    </tr>\n",
              "    <tr>\n",
              "      <th>997</th>\n",
              "      <td>2524</td>\n",
              "      <td>In front of the entrance to the Committee of E...</td>\n",
              "    </tr>\n",
              "    <tr>\n",
              "      <th>998</th>\n",
              "      <td>1577</td>\n",
              "      <td>Good day I had a medical exemption from vaccin...</td>\n",
              "    </tr>\n",
              "    <tr>\n",
              "      <th>999</th>\n",
              "      <td>2567</td>\n",
              "      <td>Good afternoon, I am a mother of many children...</td>\n",
              "    </tr>\n",
              "  </tbody>\n",
              "</table>\n",
              "<p>1000 rows × 2 columns</p>\n",
              "</div>\n",
              "      <button class=\"colab-df-convert\" onclick=\"convertToInteractive('df-e8fa677a-451e-466a-beb7-1e332f374e1d')\"\n",
              "              title=\"Convert this dataframe to an interactive table.\"\n",
              "              style=\"display:none;\">\n",
              "        \n",
              "  <svg xmlns=\"http://www.w3.org/2000/svg\" height=\"24px\"viewBox=\"0 0 24 24\"\n",
              "       width=\"24px\">\n",
              "    <path d=\"M0 0h24v24H0V0z\" fill=\"none\"/>\n",
              "    <path d=\"M18.56 5.44l.94 2.06.94-2.06 2.06-.94-2.06-.94-.94-2.06-.94 2.06-2.06.94zm-11 1L8.5 8.5l.94-2.06 2.06-.94-2.06-.94L8.5 2.5l-.94 2.06-2.06.94zm10 10l.94 2.06.94-2.06 2.06-.94-2.06-.94-.94-2.06-.94 2.06-2.06.94z\"/><path d=\"M17.41 7.96l-1.37-1.37c-.4-.4-.92-.59-1.43-.59-.52 0-1.04.2-1.43.59L10.3 9.45l-7.72 7.72c-.78.78-.78 2.05 0 2.83L4 21.41c.39.39.9.59 1.41.59.51 0 1.02-.2 1.41-.59l7.78-7.78 2.81-2.81c.8-.78.8-2.07 0-2.86zM5.41 20L4 18.59l7.72-7.72 1.47 1.35L5.41 20z\"/>\n",
              "  </svg>\n",
              "      </button>\n",
              "      \n",
              "  <style>\n",
              "    .colab-df-container {\n",
              "      display:flex;\n",
              "      flex-wrap:wrap;\n",
              "      gap: 12px;\n",
              "    }\n",
              "\n",
              "    .colab-df-convert {\n",
              "      background-color: #E8F0FE;\n",
              "      border: none;\n",
              "      border-radius: 50%;\n",
              "      cursor: pointer;\n",
              "      display: none;\n",
              "      fill: #1967D2;\n",
              "      height: 32px;\n",
              "      padding: 0 0 0 0;\n",
              "      width: 32px;\n",
              "    }\n",
              "\n",
              "    .colab-df-convert:hover {\n",
              "      background-color: #E2EBFA;\n",
              "      box-shadow: 0px 1px 2px rgba(60, 64, 67, 0.3), 0px 1px 3px 1px rgba(60, 64, 67, 0.15);\n",
              "      fill: #174EA6;\n",
              "    }\n",
              "\n",
              "    [theme=dark] .colab-df-convert {\n",
              "      background-color: #3B4455;\n",
              "      fill: #D2E3FC;\n",
              "    }\n",
              "\n",
              "    [theme=dark] .colab-df-convert:hover {\n",
              "      background-color: #434B5C;\n",
              "      box-shadow: 0px 1px 3px 1px rgba(0, 0, 0, 0.15);\n",
              "      filter: drop-shadow(0px 1px 2px rgba(0, 0, 0, 0.3));\n",
              "      fill: #FFFFFF;\n",
              "    }\n",
              "  </style>\n",
              "\n",
              "      <script>\n",
              "        const buttonEl =\n",
              "          document.querySelector('#df-e8fa677a-451e-466a-beb7-1e332f374e1d button.colab-df-convert');\n",
              "        buttonEl.style.display =\n",
              "          google.colab.kernel.accessAllowed ? 'block' : 'none';\n",
              "\n",
              "        async function convertToInteractive(key) {\n",
              "          const element = document.querySelector('#df-e8fa677a-451e-466a-beb7-1e332f374e1d');\n",
              "          const dataTable =\n",
              "            await google.colab.kernel.invokeFunction('convertToInteractive',\n",
              "                                                     [key], {});\n",
              "          if (!dataTable) return;\n",
              "\n",
              "          const docLinkHtml = 'Like what you see? Visit the ' +\n",
              "            '<a target=\"_blank\" href=https://colab.research.google.com/notebooks/data_table.ipynb>data table notebook</a>'\n",
              "            + ' to learn more about interactive tables.';\n",
              "          element.innerHTML = '';\n",
              "          dataTable['output_type'] = 'display_data';\n",
              "          await google.colab.output.renderOutput(dataTable, element);\n",
              "          const docLink = document.createElement('div');\n",
              "          docLink.innerHTML = docLinkHtml;\n",
              "          element.appendChild(docLink);\n",
              "        }\n",
              "      </script>\n",
              "    </div>\n",
              "  </div>\n",
              "  "
            ]
          },
          "metadata": {},
          "execution_count": 5
        }
      ]
    },
    {
      "cell_type": "code",
      "source": [
        "train.info()"
      ],
      "metadata": {
        "id": "6d797cbe",
        "outputId": "6fa3fe48-2e50-451a-e49c-fdde0d55948a",
        "execution": {
          "iopub.status.busy": "2022-07-12T09:11:37.516512Z",
          "iopub.execute_input": "2022-07-12T09:11:37.516895Z",
          "iopub.status.idle": "2022-07-12T09:11:37.537513Z",
          "shell.execute_reply.started": "2022-07-12T09:11:37.516858Z",
          "shell.execute_reply": "2022-07-12T09:11:37.536847Z"
        },
        "trusted": true,
        "colab": {
          "base_uri": "https://localhost:8080/"
        }
      },
      "execution_count": 6,
      "outputs": [
        {
          "output_type": "stream",
          "name": "stdout",
          "text": [
            "<class 'pandas.core.frame.DataFrame'>\n",
            "RangeIndex: 2000 entries, 0 to 1999\n",
            "Data columns (total 6 columns):\n",
            " #   Column              Non-Null Count  Dtype \n",
            "---  ------              --------------  ----- \n",
            " 0   id                  2000 non-null   int64 \n",
            " 1   Message text        2000 non-null   object\n",
            " 2   Текст Сообщения     2000 non-null   object\n",
            " 3   Тематика            2000 non-null   object\n",
            " 4   Ответственное лицо  2000 non-null   object\n",
            " 5   Категория           2000 non-null   int64 \n",
            "dtypes: int64(2), object(4)\n",
            "memory usage: 93.9+ KB\n"
          ]
        }
      ]
    },
    {
      "cell_type": "code",
      "source": [
        "train['Категория'].value_counts().plot(kind='bar',figsize=(12,4),fontsize=10)\n",
        "plt.xticks(rotation=60)\n",
        "plt.xlabel(\"Genres\",fontsize=10)\n",
        "plt.ylabel(\"Counts\",fontsize=10)"
      ],
      "metadata": {
        "id": "6e5b7930",
        "outputId": "c45ee009-1e75-4ef3-ed1f-ddb871fe0692",
        "execution": {
          "iopub.status.busy": "2022-07-12T09:11:37.538760Z",
          "iopub.execute_input": "2022-07-12T09:11:37.539009Z",
          "iopub.status.idle": "2022-07-12T09:11:37.812996Z",
          "shell.execute_reply.started": "2022-07-12T09:11:37.538963Z",
          "shell.execute_reply": "2022-07-12T09:11:37.812335Z"
        },
        "trusted": true,
        "colab": {
          "base_uri": "https://localhost:8080/",
          "height": 307
        }
      },
      "execution_count": 7,
      "outputs": [
        {
          "output_type": "execute_result",
          "data": {
            "text/plain": [
              "Text(0, 0.5, 'Counts')"
            ]
          },
          "metadata": {},
          "execution_count": 7
        },
        {
          "output_type": "display_data",
          "data": {
            "text/plain": [
              "<Figure size 864x288 with 1 Axes>"
            ],
            "image/png": "[encoded data removed]"
          },
          "metadata": {
            "needs_background": "light"
          }
        }
      ]
    },
    {
      "cell_type": "code",
      "source": [
        "train['Категория'].value_counts()"
      ],
      "metadata": {
        "id": "119eaed8",
        "outputId": "82cb8caf-1a4d-4937-892a-9148386e3938",
        "execution": {
          "iopub.status.busy": "2022-07-12T09:11:37.814081Z",
          "iopub.execute_input": "2022-07-12T09:11:37.814470Z",
          "iopub.status.idle": "2022-07-12T09:11:37.822817Z",
          "shell.execute_reply.started": "2022-07-12T09:11:37.814426Z",
          "shell.execute_reply": "2022-07-12T09:11:37.821956Z"
        },
        "trusted": true,
        "colab": {
          "base_uri": "https://localhost:8080/"
        }
      },
      "execution_count": 8,
      "outputs": [
        {
          "output_type": "execute_result",
          "data": {
            "text/plain": [
              "3     954\n",
              "0     478\n",
              "16    149\n",
              "8     139\n",
              "4     108\n",
              "10     48\n",
              "7      27\n",
              "1      25\n",
              "11     19\n",
              "5      12\n",
              "13     11\n",
              "6      10\n",
              "15      7\n",
              "9       5\n",
              "14      4\n",
              "2       3\n",
              "12      1\n",
              "Name: Категория, dtype: int64"
            ]
          },
          "metadata": {},
          "execution_count": 8
        }
      ]
    },
    {
      "cell_type": "code",
      "source": [
        "train['Kategory']=3"
      ],
      "metadata": {
        "id": "909e7cde",
        "execution": {
          "iopub.status.busy": "2022-07-12T09:11:37.824322Z",
          "iopub.execute_input": "2022-07-12T09:11:37.824619Z",
          "iopub.status.idle": "2022-07-12T09:11:37.830208Z",
          "shell.execute_reply.started": "2022-07-12T09:11:37.824564Z",
          "shell.execute_reply": "2022-07-12T09:11:37.829263Z"
        },
        "trusted": true
      },
      "execution_count": 9,
      "outputs": []
    },
    {
      "cell_type": "code",
      "source": [
        "# Первое ограничение - по значению 3. Раздел по 2-м вариантам (возможно перевести в бинарное с усилением 1)\n",
        "train.loc[(train['Категория']!=3),'Kategory']='Another'"
      ],
      "metadata": {
        "id": "6fccdf5a",
        "execution": {
          "iopub.status.busy": "2022-07-12T09:11:37.831358Z",
          "iopub.execute_input": "2022-07-12T09:11:37.832251Z",
          "iopub.status.idle": "2022-07-12T09:11:37.840489Z",
          "shell.execute_reply.started": "2022-07-12T09:11:37.832207Z",
          "shell.execute_reply": "2022-07-12T09:11:37.839754Z"
        },
        "trusted": true
      },
      "execution_count": 10,
      "outputs": []
    },
    {
      "cell_type": "code",
      "source": [
        "train['Kategory'].value_counts()"
      ],
      "metadata": {
        "id": "ccd81b40",
        "outputId": "847354c4-cc3e-439a-cf50-535d24a3a921",
        "execution": {
          "iopub.status.busy": "2022-07-12T09:11:37.842858Z",
          "iopub.execute_input": "2022-07-12T09:11:37.843113Z",
          "iopub.status.idle": "2022-07-12T09:11:37.853973Z",
          "shell.execute_reply.started": "2022-07-12T09:11:37.843077Z",
          "shell.execute_reply": "2022-07-12T09:11:37.852733Z"
        },
        "trusted": true,
        "colab": {
          "base_uri": "https://localhost:8080/"
        }
      },
      "execution_count": 11,
      "outputs": [
        {
          "output_type": "execute_result",
          "data": {
            "text/plain": [
              "Another    1046\n",
              "3           954\n",
              "Name: Kategory, dtype: int64"
            ]
          },
          "metadata": {},
          "execution_count": 11
        }
      ]
    },
    {
      "cell_type": "code",
      "source": [
        "config = {\n",
        "    \"input_features\": [\n",
        "        {\n",
        "            \"name\": \"Message text\",\n",
        "            \"type\": \"text\",\n",
        "            'encoder': 'bert',\n",
        "            #'trainable': True, # попробовать включить        \n",
        "        },\n",
        "\n",
        "\n",
        "    ],\n",
        "    \"output_features\": [\n",
        "        {\n",
        "            \"name\": 'Kategory',\n",
        "            \"type\": \"category\",\n",
        "        }\n",
        "    ],\n",
        "        'training': {\n",
        "        'batch_size': 16,\n",
        "        'decay': True,     \n",
        "        'trainable': True,\n",
        "        'learning_rate': 0.00007,\n",
        "        'epochs': 5,\n",
        "        'early_stop': 5,\n",
        "        'validation_field': 'Kategory',\n",
        "        'validation_metric': 'loss',\n",
        "        'learning_rate_warmap_epoch': 6,\n",
        "        \n",
        "    },\n",
        "        'preprocessing':{\n",
        "        'split_probabilities': [0.9, 0.1, 0.0],\n",
        "        'stratify': 'Kategory'}\n",
        "}"
      ],
      "metadata": {
        "id": "827070ed",
        "execution": {
          "iopub.status.busy": "2022-07-12T09:16:27.064738Z",
          "iopub.execute_input": "2022-07-12T09:16:27.065306Z",
          "iopub.status.idle": "2022-07-12T09:16:27.071867Z",
          "shell.execute_reply.started": "2022-07-12T09:16:27.065266Z",
          "shell.execute_reply": "2022-07-12T09:16:27.070989Z"
        },
        "trusted": true
      },
      "execution_count": 12,
      "outputs": []
    },
    {
      "cell_type": "code",
      "source": [
        "bert = LudwigModel(config, logging_level=50,)"
      ],
      "metadata": {
        "id": "0823e076",
        "execution": {
          "iopub.status.busy": "2022-07-12T09:16:30.183002Z",
          "iopub.execute_input": "2022-07-12T09:16:30.183292Z",
          "iopub.status.idle": "2022-07-12T09:16:30.348287Z",
          "shell.execute_reply.started": "2022-07-12T09:16:30.183256Z",
          "shell.execute_reply": "2022-07-12T09:16:30.347555Z"
        },
        "trusted": true
      },
      "execution_count": 13,
      "outputs": []
    },
    {
      "cell_type": "code",
      "source": [
        "%%time\n",
        "print(\"Training Model...\")\n",
        "train_stats_bert, _, _ = bert.train(\n",
        "    train,   \n",
        "    model_name='bert',\n",
        "    skip_save_processed_input=True,\n",
        "    random_seed=88)"
      ],
      "metadata": {
        "id": "12e04b94",
        "outputId": "7f460eca-313b-493c-8836-1d6539f8619e",
        "execution": {
          "iopub.status.busy": "2022-07-12T09:16:33.365560Z",
          "iopub.execute_input": "2022-07-12T09:16:33.366183Z",
          "iopub.status.idle": "2022-07-12T10:17:54.683746Z",
          "shell.execute_reply.started": "2022-07-12T09:16:33.366144Z",
          "shell.execute_reply": "2022-07-12T10:17:54.682970Z"
        },
        "trusted": true,
        "colab": {
          "base_uri": "https://localhost:8080/",
          "height": 343,
          "referenced_widgets": [
            "deb40e11d400419da70f7d568a20beb8",
            "69d73cc51364483daa9c07c47b0f20a7",
            "2d787576651d427bace73767f24199e5",
            "b3798b316af54e42a7dd492a8b273963",
            "53068ac4635f49aba97544c82ee74633",
            "3fdc9603cbc24fafa22ac9f4fd82ff86",
            "642866c6b44444af9fafa64452974c34",
            "8344fc0968d84070b3605ff35dd84d39",
            "ff62b5253d6b4be4aec8798db4fc13a9",
            "0f5c17412565452eb49d548823509b7f",
            "b9ee167059184ac0bd583260deb7d033",
            "ea24c15adf374330a9020c2951a8b9b8",
            "091a93b219f04b189344cf253916f884",
            "e4aa0bfeaba84142aaf0b5207c06cb64",
            "62dc57bad85a48e0b8f30c6109eafc4f",
            "070d146335494971a9932967ededa006",
            "44fd0508e1d64b92a082677974ed807c",
            "843e0acf55bd49c3beaf4d08492de472",
            "20074e08595842548a564589591ef91f",
            "f50c192515fd4794980f4c71aa91d74f",
            "1d5f601c45a747f4a9326ae7bb715d72",
            "e024af96948046e78ea7aa18dffa3da9",
            "3871a141b3144b86b6607dd86eda83ed",
            "f176a1f18a464a8b9d7773aa045156c2",
            "1271e46bd0af4de8b2c7fb90d8ea74fe",
            "3ce6d58e402f4082b5fab87ed82af8a4",
            "d3574da4b1154ab898ce436223ab6b0d",
            "d50861dc8b3a4c1c856942c5d305b907",
            "71f3b52367f9449b9db7dd72629ace99",
            "79227d2d97ad4d5c9f915389c6a02bdf",
            "a32eac1135454ebbb3ac8d224dc316b7",
            "c1536c5bfd4842108bc83080f90bda8f",
            "1c3d2093429b4aba92d2f2c6d0e61a5f",
            "43ea23f6802c4e6e8206ee75ca2221eb",
            "121001602a0b4c1d9c008e262e472574",
            "c6bd202d16ab4569b508c1a6932fd1b4",
            "b2c4463222e24b83b50e123a6ce131ff",
            "bb246f97354241d4b548511e4777f34c",
            "cd816d6e81954a5d8c1e8079cb1c3a4b",
            "3e3ccbd29bff464a86115a1b1c990a49",
            "d2a298b0504f42f98497974afc7ca5c6",
            "24db52a0aac24d189debd1a752eb1ccb",
            "880aa2d086d0450b928bdfc65ecaaa40",
            "8b8ccbca8ea849929e6ad38c9c1d5a39",
            "4bb976fa626749e993dd18ebc7015744",
            "16fc49f0d1d547ce8a762124acad6b4f",
            "9f040a3125924f8889b2b972ad8c60b5",
            "f14fd8dbbbac4b789261fe31fab41679",
            "c6b8bb7f6e7148b6b2cb028961022031",
            "0a54f306182f4ba180e89710c5164e88",
            "41f60217faa049e6ad379e0f68977a11",
            "e4237d63c46f4ab7b01638e98d093cdd",
            "0ef3a273df5d4342aa43e47294204c80",
            "af0647b332454ac09da989b28a6559a5",
            "e92bde9201e5468e8289438985b03df1"
          ]
        }
      },
      "execution_count": 14,
      "outputs": [
        {
          "output_type": "stream",
          "name": "stdout",
          "text": [
            "Training Model...\n"
          ]
        },
        {
          "output_type": "display_data",
          "data": {
            "text/plain": [
              "Downloading:   0%|          | 0.00/28.0 [00:00<?, ?B/s]"
            ],
            "application/vnd.jupyter.widget-view+json": {
              "version_major": 2,
              "version_minor": 0,
              "model_id": "deb40e11d400419da70f7d568a20beb8"
            }
          },
          "metadata": {}
        },
        {
          "output_type": "display_data",
          "data": {
            "text/plain": [
              "Downloading:   0%|          | 0.00/570 [00:00<?, ?B/s]"
            ],
            "application/vnd.jupyter.widget-view+json": {
              "version_major": 2,
              "version_minor": 0,
              "model_id": "ea24c15adf374330a9020c2951a8b9b8"
            }
          },
          "metadata": {}
        },
        {
          "output_type": "display_data",
          "data": {
            "text/plain": [
              "Downloading:   0%|          | 0.00/226k [00:00<?, ?B/s]"
            ],
            "application/vnd.jupyter.widget-view+json": {
              "version_major": 2,
              "version_minor": 0,
              "model_id": "3871a141b3144b86b6607dd86eda83ed"
            }
          },
          "metadata": {}
        },
        {
          "output_type": "display_data",
          "data": {
            "text/plain": [
              "Downloading:   0%|          | 0.00/455k [00:00<?, ?B/s]"
            ],
            "application/vnd.jupyter.widget-view+json": {
              "version_major": 2,
              "version_minor": 0,
              "model_id": "43ea23f6802c4e6e8206ee75ca2221eb"
            }
          },
          "metadata": {}
        },
        {
          "output_type": "display_data",
          "data": {
            "text/plain": [
              "Downloading:   0%|          | 0.00/511M [00:00<?, ?B/s]"
            ],
            "application/vnd.jupyter.widget-view+json": {
              "version_major": 2,
              "version_minor": 0,
              "model_id": "4bb976fa626749e993dd18ebc7015744"
            }
          },
          "metadata": {}
        },
        {
          "output_type": "stream",
          "name": "stderr",
          "text": [
            "Some layers from the model checkpoint at bert-base-uncased were not used when initializing TFBertModel: ['nsp___cls', 'mlm___cls']\n",
            "- This IS expected if you are initializing TFBertModel from the checkpoint of a model trained on another task or with another architecture (e.g. initializing a BertForSequenceClassification model from a BertForPreTraining model).\n",
            "- This IS NOT expected if you are initializing TFBertModel from the checkpoint of a model that you expect to be exactly identical (initializing a BertForSequenceClassification model from a BertForSequenceClassification model).\n",
            "All the layers of TFBertModel were initialized from the model checkpoint at bert-base-uncased.\n",
            "If your task is similar to the task the model of the checkpoint was trained on, you can already use TFBertModel for predictions without further training.\n"
          ]
        },
        {
          "output_type": "stream",
          "name": "stdout",
          "text": [
            "CPU times: user 6min 19s, sys: 3min 40s, total: 9min 59s\n",
            "Wall time: 12min 31s\n"
          ]
        }
      ]
    },
    {
      "cell_type": "code",
      "source": [
        "learning_curves(train_stats_bert, output_feature_name='label', model_names='bert')"
      ],
      "metadata": {
        "id": "6f4118dd",
        "execution": {
          "iopub.status.busy": "2022-07-12T10:17:54.686052Z",
          "iopub.execute_input": "2022-07-12T10:17:54.686611Z",
          "iopub.status.idle": "2022-07-12T10:17:55.843933Z",
          "shell.execute_reply.started": "2022-07-12T10:17:54.686572Z",
          "shell.execute_reply": "2022-07-12T10:17:55.843245Z"
        },
        "trusted": true,
        "colab": {
          "base_uri": "https://localhost:8080/",
          "height": 1000
        },
        "outputId": "7518e25b-e0b7-4f5d-ca8e-e1be535afaeb"
      },
      "execution_count": 15,
      "outputs": [
        {
          "output_type": "display_data",
          "data": {
            "text/plain": [
              "<Figure size 720x360 with 1 Axes>"
            ],
            "image/png": "[encoded data removed]"
          },
          "metadata": {
            "needs_background": "light"
          }
        },
        {
          "output_type": "display_data",
          "data": {
            "text/plain": [
              "<Figure size 720x360 with 1 Axes>"
            ],
            "image/png": "[encoded data removed]"
          },
          "metadata": {}
        },
        {
          "output_type": "display_data",
          "data": {
            "text/plain": [
              "<Figure size 720x360 with 1 Axes>"
            ],
            "image/png": "[encoded data removed]"
          },
          "metadata": {}
        },
        {
          "output_type": "display_data",
          "data": {
            "text/plain": [
              "<Figure size 720x360 with 1 Axes>"
            ],
            "image/png": "[encoded data removed]"
          },
          "metadata": {}
        }
      ]
    },
    {
      "cell_type": "code",
      "source": [
        "#bert=LudwigModel.load('results/api_experiment_bert/model')"
      ],
      "metadata": {
        "id": "ii6vA38kWtUL"
      },
      "execution_count": 16,
      "outputs": []
    },
    {
      "cell_type": "code",
      "source": [
        "predictions, _ = bert.predict(test)"
      ],
      "metadata": {
        "id": "95595892",
        "execution": {
          "iopub.status.busy": "2022-07-12T10:17:55.845327Z",
          "iopub.execute_input": "2022-07-12T10:17:55.845867Z",
          "iopub.status.idle": "2022-07-12T10:18:13.684121Z",
          "shell.execute_reply.started": "2022-07-12T10:17:55.845824Z",
          "shell.execute_reply": "2022-07-12T10:18:13.683400Z"
        },
        "trusted": true
      },
      "execution_count": 17,
      "outputs": []
    },
    {
      "cell_type": "code",
      "source": [
        "predictions['Kategory_predictions'].value_counts()"
      ],
      "metadata": {
        "id": "3e767d55",
        "execution": {
          "iopub.status.busy": "2022-07-12T10:18:13.685984Z",
          "iopub.execute_input": "2022-07-12T10:18:13.686221Z",
          "iopub.status.idle": "2022-07-12T10:18:13.694045Z",
          "shell.execute_reply.started": "2022-07-12T10:18:13.686188Z",
          "shell.execute_reply": "2022-07-12T10:18:13.693306Z"
        },
        "trusted": true,
        "colab": {
          "base_uri": "https://localhost:8080/"
        },
        "outputId": "20d289f5-e38b-437e-9349-f3428e09552e"
      },
      "execution_count": 18,
      "outputs": [
        {
          "output_type": "execute_result",
          "data": {
            "text/plain": [
              "Another    534\n",
              "3          466\n",
              "Name: Kategory_predictions, dtype: int64"
            ]
          },
          "metadata": {},
          "execution_count": 18
        }
      ]
    },
    {
      "cell_type": "code",
      "source": [
        "submission_start = pd.DataFrame({'id':test.id,\n",
        "                           'Категория':predictions['Kategory_predictions'].values},\n",
        "                          columns=['id', 'Категория'])\n",
        "submission_start.to_csv('submission_start.csv', index=False, sep=',', encoding='utf-8')\n",
        "submission_start['Категория'].value_counts()"
      ],
      "metadata": {
        "id": "a2df7fad",
        "execution": {
          "iopub.status.busy": "2022-07-12T10:18:13.695538Z",
          "iopub.execute_input": "2022-07-12T10:18:13.695976Z",
          "iopub.status.idle": "2022-07-12T10:18:13.713957Z",
          "shell.execute_reply.started": "2022-07-12T10:18:13.695933Z",
          "shell.execute_reply": "2022-07-12T10:18:13.713224Z"
        },
        "trusted": true,
        "colab": {
          "base_uri": "https://localhost:8080/"
        },
        "outputId": "fb35eb3a-5302-4778-b4e3-f3a0f2a16627"
      },
      "execution_count": 19,
      "outputs": [
        {
          "output_type": "execute_result",
          "data": {
            "text/plain": [
              "Another    534\n",
              "3          466\n",
              "Name: Категория, dtype: int64"
            ]
          },
          "metadata": {},
          "execution_count": 19
        }
      ]
    },
    {
      "cell_type": "code",
      "source": [
        "# Первое отсечение - убираем из трейна все верно предсказанные 3 (возможно - удалять все 3 при accuracy)\n",
        "\n",
        "predictions, _ = bert.predict(train)\n",
        "train['Kategory']=predictions['Kategory_predictions'].values\n",
        "train1=train.loc[(train['Категория']!=3)|(train['Kategory']!='3')]\n",
        "train1.to_csv('train1.csv', index=False, sep=',', encoding='utf-8')\n",
        "train1['Категория'].value_counts()\n"
      ],
      "metadata": {
        "id": "13b2f420",
        "execution": {
          "iopub.status.busy": "2022-07-12T10:22:55.955670Z",
          "iopub.execute_input": "2022-07-12T10:22:55.955935Z",
          "iopub.status.idle": "2022-07-12T10:23:18.280583Z",
          "shell.execute_reply.started": "2022-07-12T10:22:55.955906Z",
          "shell.execute_reply": "2022-07-12T10:23:18.279887Z"
        },
        "trusted": true,
        "colab": {
          "base_uri": "https://localhost:8080/"
        },
        "outputId": "13b5fdd6-eede-4d9d-973a-585fdca5ec2a"
      },
      "execution_count": 20,
      "outputs": [
        {
          "output_type": "execute_result",
          "data": {
            "text/plain": [
              "0     478\n",
              "16    149\n",
              "8     139\n",
              "4     108\n",
              "3      59\n",
              "10     48\n",
              "7      27\n",
              "1      25\n",
              "11     19\n",
              "5      12\n",
              "13     11\n",
              "6      10\n",
              "15      7\n",
              "9       5\n",
              "14      4\n",
              "2       3\n",
              "12      1\n",
              "Name: Категория, dtype: int64"
            ]
          },
          "metadata": {},
          "execution_count": 20
        }
      ]
    },
    {
      "cell_type": "code",
      "source": [
        "# В усеченном трейне в целевой переменной оставляем лишь значения 0  и Another\n",
        "train1['Kategory']=train1['Категория']\n",
        "train1.loc[(train1['Kategory']!=0),\"Kategory\"]='Another'\n",
        "train1['Kategory'].value_counts()"
      ],
      "metadata": {
        "execution": {
          "iopub.status.busy": "2022-07-12T10:25:46.163813Z",
          "iopub.execute_input": "2022-07-12T10:25:46.164080Z",
          "iopub.status.idle": "2022-07-12T10:25:46.179204Z",
          "shell.execute_reply.started": "2022-07-12T10:25:46.164051Z",
          "shell.execute_reply": "2022-07-12T10:25:46.178290Z"
        },
        "trusted": true,
        "id": "HOKMe-ayDql7",
        "colab": {
          "base_uri": "https://localhost:8080/"
        },
        "outputId": "4dcae93d-d866-424d-ddfd-2915028378ea"
      },
      "execution_count": 21,
      "outputs": [
        {
          "output_type": "stream",
          "name": "stderr",
          "text": [
            "/usr/local/lib/python3.7/dist-packages/ipykernel_launcher.py:2: SettingWithCopyWarning: \n",
            "A value is trying to be set on a copy of a slice from a DataFrame.\n",
            "Try using .loc[row_indexer,col_indexer] = value instead\n",
            "\n",
            "See the caveats in the documentation: https://pandas.pydata.org/pandas-docs/stable/user_guide/indexing.html#returning-a-view-versus-a-copy\n",
            "  \n",
            "/usr/local/lib/python3.7/dist-packages/pandas/core/indexing.py:1817: SettingWithCopyWarning: \n",
            "A value is trying to be set on a copy of a slice from a DataFrame.\n",
            "Try using .loc[row_indexer,col_indexer] = value instead\n",
            "\n",
            "See the caveats in the documentation: https://pandas.pydata.org/pandas-docs/stable/user_guide/indexing.html#returning-a-view-versus-a-copy\n",
            "  self._setitem_single_column(loc, value, pi)\n"
          ]
        },
        {
          "output_type": "execute_result",
          "data": {
            "text/plain": [
              "Another    627\n",
              "0          478\n",
              "Name: Kategory, dtype: int64"
            ]
          },
          "metadata": {},
          "execution_count": 21
        }
      ]
    },
    {
      "cell_type": "code",
      "source": [
        "# Сразу сокращаем тест - убрав предсказанные 3\n",
        "submission_krat=submission_start.loc[submission_start['Категория']=='Another']\n",
        "test1= submission_krat.merge(test, how='left', on='id')\n",
        "test1.to_csv('test1.csv', index=False, sep=',', encoding='utf-8')\n",
        "test1['Категория'].value_counts()"
      ],
      "metadata": {
        "execution": {
          "iopub.status.busy": "2022-07-12T10:25:56.123921Z",
          "iopub.execute_input": "2022-07-12T10:25:56.124517Z",
          "iopub.status.idle": "2022-07-12T10:25:56.149052Z",
          "shell.execute_reply.started": "2022-07-12T10:25:56.124478Z",
          "shell.execute_reply": "2022-07-12T10:25:56.148340Z"
        },
        "trusted": true,
        "id": "eoG19U79Dql7",
        "colab": {
          "base_uri": "https://localhost:8080/"
        },
        "outputId": "4561f0d6-4222-4b82-d056-ecdd16b84c65"
      },
      "execution_count": 22,
      "outputs": [
        {
          "output_type": "execute_result",
          "data": {
            "text/plain": [
              "Another    534\n",
              "Name: Категория, dtype: int64"
            ]
          },
          "metadata": {},
          "execution_count": 22
        }
      ]
    },
    {
      "cell_type": "code",
      "source": [
        "train1 = train1.reset_index(drop=True)\n",
        "train1"
      ],
      "metadata": {
        "execution": {
          "iopub.status.busy": "2022-07-12T10:26:23.048927Z",
          "iopub.execute_input": "2022-07-12T10:26:23.049853Z",
          "iopub.status.idle": "2022-07-12T10:26:23.069145Z",
          "shell.execute_reply.started": "2022-07-12T10:26:23.049803Z",
          "shell.execute_reply": "2022-07-12T10:26:23.068480Z"
        },
        "trusted": true,
        "id": "57suyr6xDql8",
        "colab": {
          "base_uri": "https://localhost:8080/",
          "height": 675
        },
        "outputId": "09ce94a5-2f83-455a-8928-813da9a9af66"
      },
      "execution_count": 23,
      "outputs": [
        {
          "output_type": "execute_result",
          "data": {
            "text/plain": [
              "        id                                       Message text  \\\n",
              "0     2240  Aggressive dogs. On the rainbow there is a flo...   \n",
              "1      596  At the intersection of Sosnovskaya and Beregov...   \n",
              "2     2833  A caustic and unhealthy smell from the quarrie...   \n",
              "3     1593  Good afternoon. At the stop `Ploshchad Rokosso...   \n",
              "4     1900  Hello, in the village of Stary Buzets, the roa...   \n",
              "...    ...                                                ...   \n",
              "1100   587  Hello. In the Shchigrovsky district, in the Gr...   \n",
              "1101  1356  12/22/21 in the evening there was a stink from...   \n",
              "1102   243  Good afternoon! I want to report such a proble...   \n",
              "1103  1937  Please roman Vladimirovich, soon here on a.d. ...   \n",
              "1104  1185  The PCR test was passed on 29.10.2021, but the...   \n",
              "\n",
              "                                        Текст Сообщения  \\\n",
              "0     Агресивные собаки. На радуге там стая из подро...   \n",
              "1     <p>На пересечении &nbsp;улиц Сосновская и Бере...   \n",
              "2     Едкий и вредный для здоровья запах от карьеров...   \n",
              "3     <p>Добрый день.&nbsp;</p><p>На остановке `Площ...   \n",
              "4     Здравствуйте, в д. Старый Бузец уже 3 дня не ч...   \n",
              "...                                                 ...   \n",
              "1100  <p>Здравствуйте. В Щигровском районе, в Зелёно...   \n",
              "1101  <p>22.12.21 в вечернее время появилась вонь от...   \n",
              "1102  <p>Добрый день! Хочу сообщить о такой проблеме...   \n",
              "1103  Пожалуйста роман Владимирович, в скором времен...   \n",
              "1104  <p>Сдан ПЦР-тест 29.10.2021г., но результат те...   \n",
              "\n",
              "                                               Тематика  \\\n",
              "0                                 Безнадзорные животные   \n",
              "1     Нескошенная сорная растительность в местах общ...   \n",
              "2                                     Неприятные запахи   \n",
              "3     Пешеходные переходы на дорогах в границах горо...   \n",
              "4     Очистка от снега и наледи дорог в границах гор...   \n",
              "...                                                 ...   \n",
              "1100  Плохое материально-техническое оснащение учреж...   \n",
              "1101                                  Неприятные запахи   \n",
              "1102  Парковки на дорогах в границах городских округ...   \n",
              "1103  Нарушение дорожного покрытия (ямы)  на дорогах...   \n",
              "1104                         ПЦР-тест, тест на антитела   \n",
              "\n",
              "                              Ответственное лицо  Категория Kategory  \n",
              "0                    Администрация города Курска          1  Another  \n",
              "1      Комитет дорожного хозяйства города Курска          3  Another  \n",
              "2     Комитет природных ресурсов Курской области         16  Another  \n",
              "3     Комитет природных ресурсов Курской области          0        0  \n",
              "4           Администрация Железногорского района          0        0  \n",
              "...                                          ...        ...      ...  \n",
              "1100            Администрация Щигровского района         15  Another  \n",
              "1101  Комитет природных ресурсов Курской области         16  Another  \n",
              "1102                 Администрация города Курска          0        0  \n",
              "1103                 Администрация города Курска          0        0  \n",
              "1104     Комитет здравоохранения Курской области          4  Another  \n",
              "\n",
              "[1105 rows x 7 columns]"
            ],
            "text/html": [
              "\n",
              "  <div id=\"df-367d12fd-b0f8-4661-882b-486b9596e3e3\">\n",
              "    <div class=\"colab-df-container\">\n",
              "      <div>\n",
              "<style scoped>\n",
              "    .dataframe tbody tr th:only-of-type {\n",
              "        vertical-align: middle;\n",
              "    }\n",
              "\n",
              "    .dataframe tbody tr th {\n",
              "        vertical-align: top;\n",
              "    }\n",
              "\n",
              "    .dataframe thead th {\n",
              "        text-align: right;\n",
              "    }\n",
              "</style>\n",
              "<table border=\"1\" class=\"dataframe\">\n",
              "  <thead>\n",
              "    <tr style=\"text-align: right;\">\n",
              "      <th></th>\n",
              "      <th>id</th>\n",
              "      <th>Message text</th>\n",
              "      <th>Текст Сообщения</th>\n",
              "      <th>Тематика</th>\n",
              "      <th>Ответственное лицо</th>\n",
              "      <th>Категория</th>\n",
              "      <th>Kategory</th>\n",
              "    </tr>\n",
              "  </thead>\n",
              "  <tbody>\n",
              "    <tr>\n",
              "      <th>0</th>\n",
              "      <td>2240</td>\n",
              "      <td>Aggressive dogs. On the rainbow there is a flo...</td>\n",
              "      <td>Агресивные собаки. На радуге там стая из подро...</td>\n",
              "      <td>Безнадзорные животные</td>\n",
              "      <td>Администрация города Курска</td>\n",
              "      <td>1</td>\n",
              "      <td>Another</td>\n",
              "    </tr>\n",
              "    <tr>\n",
              "      <th>1</th>\n",
              "      <td>596</td>\n",
              "      <td>At the intersection of Sosnovskaya and Beregov...</td>\n",
              "      <td>&lt;p&gt;На пересечении &amp;nbsp;улиц Сосновская и Бере...</td>\n",
              "      <td>Нескошенная сорная растительность в местах общ...</td>\n",
              "      <td>Комитет дорожного хозяйства города Курска</td>\n",
              "      <td>3</td>\n",
              "      <td>Another</td>\n",
              "    </tr>\n",
              "    <tr>\n",
              "      <th>2</th>\n",
              "      <td>2833</td>\n",
              "      <td>A caustic and unhealthy smell from the quarrie...</td>\n",
              "      <td>Едкий и вредный для здоровья запах от карьеров...</td>\n",
              "      <td>Неприятные запахи</td>\n",
              "      <td>Комитет природных ресурсов Курской области</td>\n",
              "      <td>16</td>\n",
              "      <td>Another</td>\n",
              "    </tr>\n",
              "    <tr>\n",
              "      <th>3</th>\n",
              "      <td>1593</td>\n",
              "      <td>Good afternoon. At the stop `Ploshchad Rokosso...</td>\n",
              "      <td>&lt;p&gt;Добрый день.&amp;nbsp;&lt;/p&gt;&lt;p&gt;На остановке `Площ...</td>\n",
              "      <td>Пешеходные переходы на дорогах в границах горо...</td>\n",
              "      <td>Комитет природных ресурсов Курской области</td>\n",
              "      <td>0</td>\n",
              "      <td>0</td>\n",
              "    </tr>\n",
              "    <tr>\n",
              "      <th>4</th>\n",
              "      <td>1900</td>\n",
              "      <td>Hello, in the village of Stary Buzets, the roa...</td>\n",
              "      <td>Здравствуйте, в д. Старый Бузец уже 3 дня не ч...</td>\n",
              "      <td>Очистка от снега и наледи дорог в границах гор...</td>\n",
              "      <td>Администрация Железногорского района</td>\n",
              "      <td>0</td>\n",
              "      <td>0</td>\n",
              "    </tr>\n",
              "    <tr>\n",
              "      <th>...</th>\n",
              "      <td>...</td>\n",
              "      <td>...</td>\n",
              "      <td>...</td>\n",
              "      <td>...</td>\n",
              "      <td>...</td>\n",
              "      <td>...</td>\n",
              "      <td>...</td>\n",
              "    </tr>\n",
              "    <tr>\n",
              "      <th>1100</th>\n",
              "      <td>587</td>\n",
              "      <td>Hello. In the Shchigrovsky district, in the Gr...</td>\n",
              "      <td>&lt;p&gt;Здравствуйте. В Щигровском районе, в Зелёно...</td>\n",
              "      <td>Плохое материально-техническое оснащение учреж...</td>\n",
              "      <td>Администрация Щигровского района</td>\n",
              "      <td>15</td>\n",
              "      <td>Another</td>\n",
              "    </tr>\n",
              "    <tr>\n",
              "      <th>1101</th>\n",
              "      <td>1356</td>\n",
              "      <td>12/22/21 in the evening there was a stink from...</td>\n",
              "      <td>&lt;p&gt;22.12.21 в вечернее время появилась вонь от...</td>\n",
              "      <td>Неприятные запахи</td>\n",
              "      <td>Комитет природных ресурсов Курской области</td>\n",
              "      <td>16</td>\n",
              "      <td>Another</td>\n",
              "    </tr>\n",
              "    <tr>\n",
              "      <th>1102</th>\n",
              "      <td>243</td>\n",
              "      <td>Good afternoon! I want to report such a proble...</td>\n",
              "      <td>&lt;p&gt;Добрый день! Хочу сообщить о такой проблеме...</td>\n",
              "      <td>Парковки на дорогах в границах городских округ...</td>\n",
              "      <td>Администрация города Курска</td>\n",
              "      <td>0</td>\n",
              "      <td>0</td>\n",
              "    </tr>\n",
              "    <tr>\n",
              "      <th>1103</th>\n",
              "      <td>1937</td>\n",
              "      <td>Please roman Vladimirovich, soon here on a.d. ...</td>\n",
              "      <td>Пожалуйста роман Владимирович, в скором времен...</td>\n",
              "      <td>Нарушение дорожного покрытия (ямы)  на дорогах...</td>\n",
              "      <td>Администрация города Курска</td>\n",
              "      <td>0</td>\n",
              "      <td>0</td>\n",
              "    </tr>\n",
              "    <tr>\n",
              "      <th>1104</th>\n",
              "      <td>1185</td>\n",
              "      <td>The PCR test was passed on 29.10.2021, but the...</td>\n",
              "      <td>&lt;p&gt;Сдан ПЦР-тест 29.10.2021г., но результат те...</td>\n",
              "      <td>ПЦР-тест, тест на антитела</td>\n",
              "      <td>Комитет здравоохранения Курской области</td>\n",
              "      <td>4</td>\n",
              "      <td>Another</td>\n",
              "    </tr>\n",
              "  </tbody>\n",
              "</table>\n",
              "<p>1105 rows × 7 columns</p>\n",
              "</div>\n",
              "      <button class=\"colab-df-convert\" onclick=\"convertToInteractive('df-367d12fd-b0f8-4661-882b-486b9596e3e3')\"\n",
              "              title=\"Convert this dataframe to an interactive table.\"\n",
              "              style=\"display:none;\">\n",
              "        \n",
              "  <svg xmlns=\"http://www.w3.org/2000/svg\" height=\"24px\"viewBox=\"0 0 24 24\"\n",
              "       width=\"24px\">\n",
              "    <path d=\"M0 0h24v24H0V0z\" fill=\"none\"/>\n",
              "    <path d=\"M18.56 5.44l.94 2.06.94-2.06 2.06-.94-2.06-.94-.94-2.06-.94 2.06-2.06.94zm-11 1L8.5 8.5l.94-2.06 2.06-.94-2.06-.94L8.5 2.5l-.94 2.06-2.06.94zm10 10l.94 2.06.94-2.06 2.06-.94-2.06-.94-.94-2.06-.94 2.06-2.06.94z\"/><path d=\"M17.41 7.96l-1.37-1.37c-.4-.4-.92-.59-1.43-.59-.52 0-1.04.2-1.43.59L10.3 9.45l-7.72 7.72c-.78.78-.78 2.05 0 2.83L4 21.41c.39.39.9.59 1.41.59.51 0 1.02-.2 1.41-.59l7.78-7.78 2.81-2.81c.8-.78.8-2.07 0-2.86zM5.41 20L4 18.59l7.72-7.72 1.47 1.35L5.41 20z\"/>\n",
              "  </svg>\n",
              "      </button>\n",
              "      \n",
              "  <style>\n",
              "    .colab-df-container {\n",
              "      display:flex;\n",
              "      flex-wrap:wrap;\n",
              "      gap: 12px;\n",
              "    }\n",
              "\n",
              "    .colab-df-convert {\n",
              "      background-color: #E8F0FE;\n",
              "      border: none;\n",
              "      border-radius: 50%;\n",
              "      cursor: pointer;\n",
              "      display: none;\n",
              "      fill: #1967D2;\n",
              "      height: 32px;\n",
              "      padding: 0 0 0 0;\n",
              "      width: 32px;\n",
              "    }\n",
              "\n",
              "    .colab-df-convert:hover {\n",
              "      background-color: #E2EBFA;\n",
              "      box-shadow: 0px 1px 2px rgba(60, 64, 67, 0.3), 0px 1px 3px 1px rgba(60, 64, 67, 0.15);\n",
              "      fill: #174EA6;\n",
              "    }\n",
              "\n",
              "    [theme=dark] .colab-df-convert {\n",
              "      background-color: #3B4455;\n",
              "      fill: #D2E3FC;\n",
              "    }\n",
              "\n",
              "    [theme=dark] .colab-df-convert:hover {\n",
              "      background-color: #434B5C;\n",
              "      box-shadow: 0px 1px 3px 1px rgba(0, 0, 0, 0.15);\n",
              "      filter: drop-shadow(0px 1px 2px rgba(0, 0, 0, 0.3));\n",
              "      fill: #FFFFFF;\n",
              "    }\n",
              "  </style>\n",
              "\n",
              "      <script>\n",
              "        const buttonEl =\n",
              "          document.querySelector('#df-367d12fd-b0f8-4661-882b-486b9596e3e3 button.colab-df-convert');\n",
              "        buttonEl.style.display =\n",
              "          google.colab.kernel.accessAllowed ? 'block' : 'none';\n",
              "\n",
              "        async function convertToInteractive(key) {\n",
              "          const element = document.querySelector('#df-367d12fd-b0f8-4661-882b-486b9596e3e3');\n",
              "          const dataTable =\n",
              "            await google.colab.kernel.invokeFunction('convertToInteractive',\n",
              "                                                     [key], {});\n",
              "          if (!dataTable) return;\n",
              "\n",
              "          const docLinkHtml = 'Like what you see? Visit the ' +\n",
              "            '<a target=\"_blank\" href=https://colab.research.google.com/notebooks/data_table.ipynb>data table notebook</a>'\n",
              "            + ' to learn more about interactive tables.';\n",
              "          element.innerHTML = '';\n",
              "          dataTable['output_type'] = 'display_data';\n",
              "          await google.colab.output.renderOutput(dataTable, element);\n",
              "          const docLink = document.createElement('div');\n",
              "          docLink.innerHTML = docLinkHtml;\n",
              "          element.appendChild(docLink);\n",
              "        }\n",
              "      </script>\n",
              "    </div>\n",
              "  </div>\n",
              "  "
            ]
          },
          "metadata": {},
          "execution_count": 23
        }
      ]
    },
    {
      "cell_type": "code",
      "source": [
        "# Запускаем вторую обработку (настройки подравнять дополнительно)\n",
        "config = {\n",
        "    \"input_features\": [\n",
        "        {\n",
        "            \"name\": \"Message text\",\n",
        "            \"type\": \"text\",\n",
        "            'encoder': 'bert',\n",
        "            'trainable': True,\n",
        "        },\n",
        "\n",
        "    ],\n",
        "    \"output_features\": [\n",
        "        {\n",
        "            \"name\": \"Kategory\",\n",
        "            \"type\": \"category\",\n",
        "        }\n",
        "    ],\n",
        "        'training': {\n",
        "        'batch_size': 8,\n",
        "        'decay': True,      \n",
        "        'trainable': True,\n",
        "        'learning_rate': 0.000008, \n",
        "        'epochs': 7,\n",
        "        'early_stop': 7,\n",
        "        'validation_field': 'Kategory',\n",
        "        'validation_metric': 'loss',\n",
        "        'learning_rate_warmap_epoch': 6,\n",
        "        \n",
        "    },\n",
        "        'preprocessing':{\n",
        "        'split_probabilities': [0.9, 0.1, 0.0],\n",
        "        'stratify': 'Kategory'}\n",
        "}"
      ],
      "metadata": {
        "execution": {
          "iopub.status.busy": "2022-07-12T10:27:27.838053Z",
          "iopub.execute_input": "2022-07-12T10:27:27.838304Z",
          "iopub.status.idle": "2022-07-12T10:27:27.844908Z",
          "shell.execute_reply.started": "2022-07-12T10:27:27.838275Z",
          "shell.execute_reply": "2022-07-12T10:27:27.844227Z"
        },
        "trusted": true,
        "id": "JbmDf4fBDql8"
      },
      "execution_count": 24,
      "outputs": []
    },
    {
      "cell_type": "code",
      "source": [
        "bert1 = LudwigModel(config, logging_level=50,)"
      ],
      "metadata": {
        "execution": {
          "iopub.status.busy": "2022-07-12T10:27:33.675822Z",
          "iopub.execute_input": "2022-07-12T10:27:33.676130Z",
          "iopub.status.idle": "2022-07-12T10:27:33.835240Z",
          "shell.execute_reply.started": "2022-07-12T10:27:33.676099Z",
          "shell.execute_reply": "2022-07-12T10:27:33.834515Z"
        },
        "trusted": true,
        "id": "kkKrHFyKDql9"
      },
      "execution_count": 25,
      "outputs": []
    },
    {
      "cell_type": "code",
      "source": [
        "#bert1=LudwigModel.load('results/api_experiment_bert1_0/model')"
      ],
      "metadata": {
        "id": "-l3kqigkSG5A"
      },
      "execution_count": 26,
      "outputs": []
    },
    {
      "cell_type": "code",
      "source": [
        "%%time\n",
        "print(\"Training Model...\")\n",
        "train_stats_bert1, _, _ = bert1.train(\n",
        "    train1,   \n",
        "    model_name='bert1',\n",
        "    skip_save_processed_input=True,\n",
        "    random_seed=39)"
      ],
      "metadata": {
        "execution": {
          "iopub.status.busy": "2022-07-12T10:27:38.147519Z",
          "iopub.execute_input": "2022-07-12T10:27:38.148102Z"
        },
        "trusted": true,
        "id": "rrzFICu6Dql9",
        "colab": {
          "base_uri": "https://localhost:8080/"
        },
        "outputId": "6a2a6d3e-684b-4359-e8c1-1a0c30acf79a"
      },
      "execution_count": 27,
      "outputs": [
        {
          "output_type": "stream",
          "name": "stdout",
          "text": [
            "Training Model...\n"
          ]
        },
        {
          "output_type": "stream",
          "name": "stderr",
          "text": [
            "Some layers from the model checkpoint at bert-base-uncased were not used when initializing TFBertModel: ['nsp___cls', 'mlm___cls']\n",
            "- This IS expected if you are initializing TFBertModel from the checkpoint of a model trained on another task or with another architecture (e.g. initializing a BertForSequenceClassification model from a BertForPreTraining model).\n",
            "- This IS NOT expected if you are initializing TFBertModel from the checkpoint of a model that you expect to be exactly identical (initializing a BertForSequenceClassification model from a BertForSequenceClassification model).\n",
            "All the layers of TFBertModel were initialized from the model checkpoint at bert-base-uncased.\n",
            "If your task is similar to the task the model of the checkpoint was trained on, you can already use TFBertModel for predictions without further training.\n"
          ]
        },
        {
          "output_type": "stream",
          "name": "stdout",
          "text": [
            "CPU times: user 7min 17s, sys: 3min 58s, total: 11min 15s\n",
            "Wall time: 14min 4s\n"
          ]
        }
      ]
    },
    {
      "cell_type": "code",
      "source": [
        "learning_curves(train_stats_bert1, output_feature_name='label', model_names='bert1')"
      ],
      "metadata": {
        "trusted": true,
        "id": "6PzMXaIMDql-",
        "colab": {
          "base_uri": "https://localhost:8080/",
          "height": 1000
        },
        "outputId": "c1cb6999-5889-47ea-f516-fedb60d686ae"
      },
      "execution_count": 28,
      "outputs": [
        {
          "output_type": "display_data",
          "data": {
            "text/plain": [
              "<Figure size 720x360 with 1 Axes>"
            ],
            "image/png": "[encoded data removed]"
          },
          "metadata": {}
        },
        {
          "output_type": "display_data",
          "data": {
            "text/plain": [
              "<Figure size 720x360 with 1 Axes>"
            ],
            "image/png": "[encoded data removed]"
          },
          "metadata": {}
        },
        {
          "output_type": "display_data",
          "data": {
            "text/plain": [
              "<Figure size 720x360 with 1 Axes>"
            ],
            "image/png": "[encoded data removed]"
          },
          "metadata": {}
        },
        {
          "output_type": "display_data",
          "data": {
            "text/plain": [
              "<Figure size 720x360 with 1 Axes>"
            ],
            "image/png": "[encoded data removed]"
          },
          "metadata": {}
        }
      ]
    },
    {
      "cell_type": "code",
      "source": [
        "predictions1, _ = bert1.predict(test1)"
      ],
      "metadata": {
        "id": "KJPJctevDql-"
      },
      "execution_count": 29,
      "outputs": []
    },
    {
      "cell_type": "code",
      "source": [
        "predictions1['Kategory_predictions'].value_counts()"
      ],
      "metadata": {
        "id": "65-RjkB_Dql-",
        "colab": {
          "base_uri": "https://localhost:8080/"
        },
        "outputId": "cc4c66bf-1740-41ed-db65-29b10d03231c"
      },
      "execution_count": 30,
      "outputs": [
        {
          "output_type": "execute_result",
          "data": {
            "text/plain": [
              "Another    310\n",
              "0          224\n",
              "Name: Kategory_predictions, dtype: int64"
            ]
          },
          "metadata": {},
          "execution_count": 30
        }
      ]
    },
    {
      "cell_type": "code",
      "source": [
        "submission1 = pd.DataFrame({'id':test1.id,\n",
        "                           'Категория':predictions1['Kategory_predictions'].values},\n",
        "                          columns=['id', 'Категория'])\n",
        "submission1.to_csv('submission1.csv', index=False, sep=',', encoding='utf-8')\n",
        "submission1['Категория'].value_counts()"
      ],
      "metadata": {
        "id": "xAALsptyDql-",
        "colab": {
          "base_uri": "https://localhost:8080/"
        },
        "outputId": "fb9136f9-a6b1-4911-a00b-1a51bba9468c"
      },
      "execution_count": 31,
      "outputs": [
        {
          "output_type": "execute_result",
          "data": {
            "text/plain": [
              "Another    310\n",
              "0          224\n",
              "Name: Категория, dtype: int64"
            ]
          },
          "metadata": {},
          "execution_count": 31
        }
      ]
    },
    {
      "cell_type": "code",
      "source": [
        "# Второе отсечение - убираем из трейна предсказанные значение 0 \n",
        "predictions, _ = bert1.predict(train1)\n",
        "train1['Kategory']=predictions['Kategory_predictions'].values\n",
        "train2=train1.loc[(train1['Категория']!=0)|(train1['Kategory']!='0')]\n",
        "train2.to_csv('train2.csv', index=False, sep=',', encoding='utf-8')\n",
        "train2['Категория'].value_counts()"
      ],
      "metadata": {
        "id": "o9sYRtLiDql_",
        "colab": {
          "base_uri": "https://localhost:8080/"
        },
        "outputId": "8f66799b-895e-426c-8162-4246d78a887c"
      },
      "execution_count": 32,
      "outputs": [
        {
          "output_type": "execute_result",
          "data": {
            "text/plain": [
              "16    149\n",
              "8     139\n",
              "4     108\n",
              "3      59\n",
              "10     48\n",
              "7      27\n",
              "1      25\n",
              "11     19\n",
              "5      12\n",
              "0      11\n",
              "13     11\n",
              "6      10\n",
              "15      7\n",
              "9       5\n",
              "14      4\n",
              "2       3\n",
              "12      1\n",
              "Name: Категория, dtype: int64"
            ]
          },
          "metadata": {},
          "execution_count": 32
        }
      ]
    },
    {
      "cell_type": "code",
      "source": [
        "#train2 = pd.read_csv('train2.csv')\n",
        "#submission_start=pd.read_csv('submission_start.csv')\n",
        "#submission1=pd.read_csv('submission1.csv')\n",
        "#submission2=pd.read_csv('submission2.csv')"
      ],
      "metadata": {
        "id": "X6k3CM7BuvVB"
      },
      "execution_count": 33,
      "outputs": []
    },
    {
      "cell_type": "code",
      "source": [
        "# В усеченном трейне в целевой переменной оставляем значения 16,8,4 и Another\n",
        "train2['Kategory']=train2['Категория']\n",
        "train2.loc[(train2['Категория']!=16)&(train2['Категория']!=8)&(train2['Категория']!=4),\"Kategory\"]='Another'\n",
        "train2['Kategory'].value_counts()"
      ],
      "metadata": {
        "id": "o1JBnZ8nDql_",
        "colab": {
          "base_uri": "https://localhost:8080/"
        },
        "outputId": "8b6c0f0d-37c2-4f56-875f-88375337dc5e"
      },
      "execution_count": 34,
      "outputs": [
        {
          "output_type": "stream",
          "name": "stderr",
          "text": [
            "/usr/local/lib/python3.7/dist-packages/ipykernel_launcher.py:2: SettingWithCopyWarning: \n",
            "A value is trying to be set on a copy of a slice from a DataFrame.\n",
            "Try using .loc[row_indexer,col_indexer] = value instead\n",
            "\n",
            "See the caveats in the documentation: https://pandas.pydata.org/pandas-docs/stable/user_guide/indexing.html#returning-a-view-versus-a-copy\n",
            "  \n",
            "/usr/local/lib/python3.7/dist-packages/pandas/core/indexing.py:1817: SettingWithCopyWarning: \n",
            "A value is trying to be set on a copy of a slice from a DataFrame.\n",
            "Try using .loc[row_indexer,col_indexer] = value instead\n",
            "\n",
            "See the caveats in the documentation: https://pandas.pydata.org/pandas-docs/stable/user_guide/indexing.html#returning-a-view-versus-a-copy\n",
            "  self._setitem_single_column(loc, value, pi)\n"
          ]
        },
        {
          "output_type": "execute_result",
          "data": {
            "text/plain": [
              "Another    242\n",
              "16         149\n",
              "8          139\n",
              "4          108\n",
              "Name: Kategory, dtype: int64"
            ]
          },
          "metadata": {},
          "execution_count": 34
        }
      ]
    },
    {
      "cell_type": "code",
      "source": [
        "# Сразу сокращаем тест - убрав предсказанные 0\n",
        "submission_krat=submission1.loc[submission1['Категория']=='Another']\n",
        "test2= submission_krat.merge(test, how='left', on='id')\n",
        "test2.to_csv('test2.csv', index=False, sep=',', encoding='utf-8')\n",
        "test2['Категория'].value_counts()\n"
      ],
      "metadata": {
        "id": "KcreOOlJDql_",
        "colab": {
          "base_uri": "https://localhost:8080/"
        },
        "outputId": "c029fecd-1e98-4d23-ebdc-5723a22aa49a"
      },
      "execution_count": 35,
      "outputs": [
        {
          "output_type": "execute_result",
          "data": {
            "text/plain": [
              "Another    310\n",
              "Name: Категория, dtype: int64"
            ]
          },
          "metadata": {},
          "execution_count": 35
        }
      ]
    },
    {
      "cell_type": "code",
      "source": [
        "#test2 = pd.read_csv('test2.csv')"
      ],
      "metadata": {
        "id": "8SH3LR13uncw"
      },
      "execution_count": 36,
      "outputs": []
    },
    {
      "cell_type": "code",
      "source": [
        "train2 = train2.reset_index(drop=True)\n",
        "train2"
      ],
      "metadata": {
        "id": "HVqJ6U7ZDqmA",
        "colab": {
          "base_uri": "https://localhost:8080/",
          "height": 693
        },
        "outputId": "5a45d04f-93a5-40b8-a793-d38d4975f707"
      },
      "execution_count": 37,
      "outputs": [
        {
          "output_type": "execute_result",
          "data": {
            "text/plain": [
              "       id                                       Message text  \\\n",
              "0    2240  Aggressive dogs. On the rainbow there is a flo...   \n",
              "1     596  At the intersection of Sosnovskaya and Beregov...   \n",
              "2    2833  A caustic and unhealthy smell from the quarrie...   \n",
              "3     304  Old garages next to star 11a. Bottles of rubbi...   \n",
              "4    1381  There is no road lighting from the beginning o...   \n",
              "..    ...                                                ...   \n",
              "633   594  I ask you to please install an ATM of VTB and ...   \n",
              "634  1743  Please clear out the dump. They arranged a dum...   \n",
              "635   587  Hello. In the Shchigrovsky district, in the Gr...   \n",
              "636  1356  12/22/21 in the evening there was a stink from...   \n",
              "637  1185  The PCR test was passed on 29.10.2021, but the...   \n",
              "\n",
              "                                       Текст Сообщения  \\\n",
              "0    Агресивные собаки. На радуге там стая из подро...   \n",
              "1    <p>На пересечении &nbsp;улиц Сосновская и Бере...   \n",
              "2    Едкий и вредный для здоровья запах от карьеров...   \n",
              "3    <p>Старые гаражи рядом с звездной 11а. Вокруг ...   \n",
              "4    <p>Отсутствует освещение дороги&nbsp;</p><p>от...   \n",
              "..                                                 ...   \n",
              "633  <p>Прошу Вас пожалуйста установить банкомат ВТ...   \n",
              "634  <p>Прошу Вас ликвидировать свалку. &nbsp;Устро...   \n",
              "635  <p>Здравствуйте. В Щигровском районе, в Зелёно...   \n",
              "636  <p>22.12.21 в вечернее время появилась вонь от...   \n",
              "637  <p>Сдан ПЦР-тест 29.10.2021г., но результат те...   \n",
              "\n",
              "                                              Тематика  \\\n",
              "0                                Безнадзорные животные   \n",
              "1    Нескошенная сорная растительность в местах общ...   \n",
              "2                                    Неприятные запахи   \n",
              "3         Неудовлетворительная уборка улиц и тротуаров   \n",
              "4                      Неработающее наружное освещение   \n",
              "..                                                 ...   \n",
              "633  Неудовлетворительное качество товара, оказания...   \n",
              "634  Не соответствующий установленным нормам сбор и...   \n",
              "635  Плохое материально-техническое оснащение учреж...   \n",
              "636                                  Неприятные запахи   \n",
              "637                         ПЦР-тест, тест на антитела   \n",
              "\n",
              "                                    Ответственное лицо  Категория Kategory  \n",
              "0                          Администрация города Курска          1  Another  \n",
              "1            Комитет дорожного хозяйства города Курска          3  Another  \n",
              "2           Комитет природных ресурсов Курской области         16       16  \n",
              "3                          Администрация города Курска          3  Another  \n",
              "4    Комитет жилищно-коммунального хозяйства города...          3  Another  \n",
              "..                                                 ...        ...      ...  \n",
              "633                 Администрация города Железногорска         13  Another  \n",
              "634         Комитет городского хозяйства города Курска          3  Another  \n",
              "635                   Администрация Щигровского района         15  Another  \n",
              "636         Комитет природных ресурсов Курской области         16       16  \n",
              "637            Комитет здравоохранения Курской области          4        4  \n",
              "\n",
              "[638 rows x 7 columns]"
            ],
            "text/html": [
              "\n",
              "  <div id=\"df-f21e34c0-2100-458e-8739-9bde518f94cb\">\n",
              "    <div class=\"colab-df-container\">\n",
              "      <div>\n",
              "<style scoped>\n",
              "    .dataframe tbody tr th:only-of-type {\n",
              "        vertical-align: middle;\n",
              "    }\n",
              "\n",
              "    .dataframe tbody tr th {\n",
              "        vertical-align: top;\n",
              "    }\n",
              "\n",
              "    .dataframe thead th {\n",
              "        text-align: right;\n",
              "    }\n",
              "</style>\n",
              "<table border=\"1\" class=\"dataframe\">\n",
              "  <thead>\n",
              "    <tr style=\"text-align: right;\">\n",
              "      <th></th>\n",
              "      <th>id</th>\n",
              "      <th>Message text</th>\n",
              "      <th>Текст Сообщения</th>\n",
              "      <th>Тематика</th>\n",
              "      <th>Ответственное лицо</th>\n",
              "      <th>Категория</th>\n",
              "      <th>Kategory</th>\n",
              "    </tr>\n",
              "  </thead>\n",
              "  <tbody>\n",
              "    <tr>\n",
              "      <th>0</th>\n",
              "      <td>2240</td>\n",
              "      <td>Aggressive dogs. On the rainbow there is a flo...</td>\n",
              "      <td>Агресивные собаки. На радуге там стая из подро...</td>\n",
              "      <td>Безнадзорные животные</td>\n",
              "      <td>Администрация города Курска</td>\n",
              "      <td>1</td>\n",
              "      <td>Another</td>\n",
              "    </tr>\n",
              "    <tr>\n",
              "      <th>1</th>\n",
              "      <td>596</td>\n",
              "      <td>At the intersection of Sosnovskaya and Beregov...</td>\n",
              "      <td>&lt;p&gt;На пересечении &amp;nbsp;улиц Сосновская и Бере...</td>\n",
              "      <td>Нескошенная сорная растительность в местах общ...</td>\n",
              "      <td>Комитет дорожного хозяйства города Курска</td>\n",
              "      <td>3</td>\n",
              "      <td>Another</td>\n",
              "    </tr>\n",
              "    <tr>\n",
              "      <th>2</th>\n",
              "      <td>2833</td>\n",
              "      <td>A caustic and unhealthy smell from the quarrie...</td>\n",
              "      <td>Едкий и вредный для здоровья запах от карьеров...</td>\n",
              "      <td>Неприятные запахи</td>\n",
              "      <td>Комитет природных ресурсов Курской области</td>\n",
              "      <td>16</td>\n",
              "      <td>16</td>\n",
              "    </tr>\n",
              "    <tr>\n",
              "      <th>3</th>\n",
              "      <td>304</td>\n",
              "      <td>Old garages next to star 11a. Bottles of rubbi...</td>\n",
              "      <td>&lt;p&gt;Старые гаражи рядом с звездной 11а. Вокруг ...</td>\n",
              "      <td>Неудовлетворительная уборка улиц и тротуаров</td>\n",
              "      <td>Администрация города Курска</td>\n",
              "      <td>3</td>\n",
              "      <td>Another</td>\n",
              "    </tr>\n",
              "    <tr>\n",
              "      <th>4</th>\n",
              "      <td>1381</td>\n",
              "      <td>There is no road lighting from the beginning o...</td>\n",
              "      <td>&lt;p&gt;Отсутствует освещение дороги&amp;nbsp;&lt;/p&gt;&lt;p&gt;от...</td>\n",
              "      <td>Неработающее наружное освещение</td>\n",
              "      <td>Комитет жилищно-коммунального хозяйства города...</td>\n",
              "      <td>3</td>\n",
              "      <td>Another</td>\n",
              "    </tr>\n",
              "    <tr>\n",
              "      <th>...</th>\n",
              "      <td>...</td>\n",
              "      <td>...</td>\n",
              "      <td>...</td>\n",
              "      <td>...</td>\n",
              "      <td>...</td>\n",
              "      <td>...</td>\n",
              "      <td>...</td>\n",
              "    </tr>\n",
              "    <tr>\n",
              "      <th>633</th>\n",
              "      <td>594</td>\n",
              "      <td>I ask you to please install an ATM of VTB and ...</td>\n",
              "      <td>&lt;p&gt;Прошу Вас пожалуйста установить банкомат ВТ...</td>\n",
              "      <td>Неудовлетворительное качество товара, оказания...</td>\n",
              "      <td>Администрация города Железногорска</td>\n",
              "      <td>13</td>\n",
              "      <td>Another</td>\n",
              "    </tr>\n",
              "    <tr>\n",
              "      <th>634</th>\n",
              "      <td>1743</td>\n",
              "      <td>Please clear out the dump. They arranged a dum...</td>\n",
              "      <td>&lt;p&gt;Прошу Вас ликвидировать свалку. &amp;nbsp;Устро...</td>\n",
              "      <td>Не соответствующий установленным нормам сбор и...</td>\n",
              "      <td>Комитет городского хозяйства города Курска</td>\n",
              "      <td>3</td>\n",
              "      <td>Another</td>\n",
              "    </tr>\n",
              "    <tr>\n",
              "      <th>635</th>\n",
              "      <td>587</td>\n",
              "      <td>Hello. In the Shchigrovsky district, in the Gr...</td>\n",
              "      <td>&lt;p&gt;Здравствуйте. В Щигровском районе, в Зелёно...</td>\n",
              "      <td>Плохое материально-техническое оснащение учреж...</td>\n",
              "      <td>Администрация Щигровского района</td>\n",
              "      <td>15</td>\n",
              "      <td>Another</td>\n",
              "    </tr>\n",
              "    <tr>\n",
              "      <th>636</th>\n",
              "      <td>1356</td>\n",
              "      <td>12/22/21 in the evening there was a stink from...</td>\n",
              "      <td>&lt;p&gt;22.12.21 в вечернее время появилась вонь от...</td>\n",
              "      <td>Неприятные запахи</td>\n",
              "      <td>Комитет природных ресурсов Курской области</td>\n",
              "      <td>16</td>\n",
              "      <td>16</td>\n",
              "    </tr>\n",
              "    <tr>\n",
              "      <th>637</th>\n",
              "      <td>1185</td>\n",
              "      <td>The PCR test was passed on 29.10.2021, but the...</td>\n",
              "      <td>&lt;p&gt;Сдан ПЦР-тест 29.10.2021г., но результат те...</td>\n",
              "      <td>ПЦР-тест, тест на антитела</td>\n",
              "      <td>Комитет здравоохранения Курской области</td>\n",
              "      <td>4</td>\n",
              "      <td>4</td>\n",
              "    </tr>\n",
              "  </tbody>\n",
              "</table>\n",
              "<p>638 rows × 7 columns</p>\n",
              "</div>\n",
              "      <button class=\"colab-df-convert\" onclick=\"convertToInteractive('df-f21e34c0-2100-458e-8739-9bde518f94cb')\"\n",
              "              title=\"Convert this dataframe to an interactive table.\"\n",
              "              style=\"display:none;\">\n",
              "        \n",
              "  <svg xmlns=\"http://www.w3.org/2000/svg\" height=\"24px\"viewBox=\"0 0 24 24\"\n",
              "       width=\"24px\">\n",
              "    <path d=\"M0 0h24v24H0V0z\" fill=\"none\"/>\n",
              "    <path d=\"M18.56 5.44l.94 2.06.94-2.06 2.06-.94-2.06-.94-.94-2.06-.94 2.06-2.06.94zm-11 1L8.5 8.5l.94-2.06 2.06-.94-2.06-.94L8.5 2.5l-.94 2.06-2.06.94zm10 10l.94 2.06.94-2.06 2.06-.94-2.06-.94-.94-2.06-.94 2.06-2.06.94z\"/><path d=\"M17.41 7.96l-1.37-1.37c-.4-.4-.92-.59-1.43-.59-.52 0-1.04.2-1.43.59L10.3 9.45l-7.72 7.72c-.78.78-.78 2.05 0 2.83L4 21.41c.39.39.9.59 1.41.59.51 0 1.02-.2 1.41-.59l7.78-7.78 2.81-2.81c.8-.78.8-2.07 0-2.86zM5.41 20L4 18.59l7.72-7.72 1.47 1.35L5.41 20z\"/>\n",
              "  </svg>\n",
              "      </button>\n",
              "      \n",
              "  <style>\n",
              "    .colab-df-container {\n",
              "      display:flex;\n",
              "      flex-wrap:wrap;\n",
              "      gap: 12px;\n",
              "    }\n",
              "\n",
              "    .colab-df-convert {\n",
              "      background-color: #E8F0FE;\n",
              "      border: none;\n",
              "      border-radius: 50%;\n",
              "      cursor: pointer;\n",
              "      display: none;\n",
              "      fill: #1967D2;\n",
              "      height: 32px;\n",
              "      padding: 0 0 0 0;\n",
              "      width: 32px;\n",
              "    }\n",
              "\n",
              "    .colab-df-convert:hover {\n",
              "      background-color: #E2EBFA;\n",
              "      box-shadow: 0px 1px 2px rgba(60, 64, 67, 0.3), 0px 1px 3px 1px rgba(60, 64, 67, 0.15);\n",
              "      fill: #174EA6;\n",
              "    }\n",
              "\n",
              "    [theme=dark] .colab-df-convert {\n",
              "      background-color: #3B4455;\n",
              "      fill: #D2E3FC;\n",
              "    }\n",
              "\n",
              "    [theme=dark] .colab-df-convert:hover {\n",
              "      background-color: #434B5C;\n",
              "      box-shadow: 0px 1px 3px 1px rgba(0, 0, 0, 0.15);\n",
              "      filter: drop-shadow(0px 1px 2px rgba(0, 0, 0, 0.3));\n",
              "      fill: #FFFFFF;\n",
              "    }\n",
              "  </style>\n",
              "\n",
              "      <script>\n",
              "        const buttonEl =\n",
              "          document.querySelector('#df-f21e34c0-2100-458e-8739-9bde518f94cb button.colab-df-convert');\n",
              "        buttonEl.style.display =\n",
              "          google.colab.kernel.accessAllowed ? 'block' : 'none';\n",
              "\n",
              "        async function convertToInteractive(key) {\n",
              "          const element = document.querySelector('#df-f21e34c0-2100-458e-8739-9bde518f94cb');\n",
              "          const dataTable =\n",
              "            await google.colab.kernel.invokeFunction('convertToInteractive',\n",
              "                                                     [key], {});\n",
              "          if (!dataTable) return;\n",
              "\n",
              "          const docLinkHtml = 'Like what you see? Visit the ' +\n",
              "            '<a target=\"_blank\" href=https://colab.research.google.com/notebooks/data_table.ipynb>data table notebook</a>'\n",
              "            + ' to learn more about interactive tables.';\n",
              "          element.innerHTML = '';\n",
              "          dataTable['output_type'] = 'display_data';\n",
              "          await google.colab.output.renderOutput(dataTable, element);\n",
              "          const docLink = document.createElement('div');\n",
              "          docLink.innerHTML = docLinkHtml;\n",
              "          element.appendChild(docLink);\n",
              "        }\n",
              "      </script>\n",
              "    </div>\n",
              "  </div>\n",
              "  "
            ]
          },
          "metadata": {},
          "execution_count": 37
        }
      ]
    },
    {
      "cell_type": "code",
      "source": [
        "# Запускаем третью обработку (настройки подравнять дополнительно)\n",
        "config = {\n",
        "    \"input_features\": [\n",
        "        {\n",
        "            \"name\": \"Message text\",\n",
        "            \"type\": \"text\",\n",
        "            'encoder': 'bert',\n",
        "            #'trainable': True,        \n",
        "        },\n",
        "\n",
        "    ],\n",
        "    \"output_features\": [\n",
        "        {\n",
        "            \"name\": \"Kategory\",\n",
        "            \"type\": \"category\",\n",
        "        }\n",
        "    ],\n",
        "        'training': {\n",
        "        'batch_size': 8,\n",
        "        'decay': True,       \n",
        "        'trainable': True,\n",
        "        'learning_rate': 0.0000055,\n",
        "        'epochs': 11,\n",
        "        'early_stop': 11,\n",
        "        'validation_field': 'Kategory',\n",
        "        'validation_metric': 'loss', \n",
        "        'learning_rate_warmap_epoch': 3,\n",
        "        \n",
        "    },\n",
        "        'preprocessing':{\n",
        "        'split_probabilities': [1.0, 0.0, 0.0],\n",
        "        'stratify': 'Kategory'}\n",
        "}"
      ],
      "metadata": {
        "id": "H6SGNgz7DqmA"
      },
      "execution_count": 38,
      "outputs": []
    },
    {
      "cell_type": "code",
      "source": [
        "bert2 = LudwigModel(config, logging_level=50,)"
      ],
      "metadata": {
        "id": "hFsGjjboDqmA"
      },
      "execution_count": 39,
      "outputs": []
    },
    {
      "cell_type": "code",
      "source": [
        "%%time\n",
        "print(\"Training Model...\")\n",
        "train_stats_bert2, _, _ = bert2.train(\n",
        "    train2,   \n",
        "    model_name='bert2',\n",
        "    skip_save_processed_input=True,\n",
        "    random_seed=33)"
      ],
      "metadata": {
        "id": "KxRD265eDqmB",
        "colab": {
          "base_uri": "https://localhost:8080/"
        },
        "outputId": "abb97ba7-187c-4a8f-a187-f961c4f7a00c"
      },
      "execution_count": 40,
      "outputs": [
        {
          "output_type": "stream",
          "name": "stdout",
          "text": [
            "Training Model...\n"
          ]
        },
        {
          "output_type": "stream",
          "name": "stderr",
          "text": [
            "Some layers from the model checkpoint at bert-base-uncased were not used when initializing TFBertModel: ['nsp___cls', 'mlm___cls']\n",
            "- This IS expected if you are initializing TFBertModel from the checkpoint of a model trained on another task or with another architecture (e.g. initializing a BertForSequenceClassification model from a BertForPreTraining model).\n",
            "- This IS NOT expected if you are initializing TFBertModel from the checkpoint of a model that you expect to be exactly identical (initializing a BertForSequenceClassification model from a BertForSequenceClassification model).\n",
            "All the layers of TFBertModel were initialized from the model checkpoint at bert-base-uncased.\n",
            "If your task is similar to the task the model of the checkpoint was trained on, you can already use TFBertModel for predictions without further training.\n"
          ]
        },
        {
          "output_type": "stream",
          "name": "stdout",
          "text": [
            "CPU times: user 5min 15s, sys: 2min 55s, total: 8min 10s\n",
            "Wall time: 10min 26s\n"
          ]
        }
      ]
    },
    {
      "cell_type": "code",
      "source": [
        "learning_curves(train_stats_bert2, output_feature_name='label', model_names='bert2')"
      ],
      "metadata": {
        "id": "t-uIzjQ4DqmB",
        "colab": {
          "base_uri": "https://localhost:8080/",
          "height": 1000
        },
        "outputId": "f843affa-bf58-4a8f-cff8-6b3b52d4d22e"
      },
      "execution_count": 41,
      "outputs": [
        {
          "output_type": "display_data",
          "data": {
            "text/plain": [
              "<Figure size 720x360 with 1 Axes>"
            ],
            "image/png": "[encoded data removed]"
          },
          "metadata": {}
        },
        {
          "output_type": "display_data",
          "data": {
            "text/plain": [
              "<Figure size 720x360 with 1 Axes>"
            ],
            "image/png": "[encoded data removed]"
          },
          "metadata": {}
        },
        {
          "output_type": "display_data",
          "data": {
            "text/plain": [
              "<Figure size 720x360 with 1 Axes>"
            ],
            "image/png": "[encoded data removed]"
          },
          "metadata": {}
        },
        {
          "output_type": "display_data",
          "data": {
            "text/plain": [
              "<Figure size 720x360 with 1 Axes>"
            ],
            "image/png": "[encoded data removed]"
          },
          "metadata": {}
        }
      ]
    },
    {
      "cell_type": "code",
      "source": [
        "predictions2, _ = bert2.predict(test2)"
      ],
      "metadata": {
        "id": "MP5ENrPTDqmB"
      },
      "execution_count": 42,
      "outputs": []
    },
    {
      "cell_type": "code",
      "source": [
        "predictions2['Kategory_predictions'].value_counts()"
      ],
      "metadata": {
        "id": "cFb20g22DqmB",
        "colab": {
          "base_uri": "https://localhost:8080/"
        },
        "outputId": "ff934288-719f-4155-dc88-7087aaa74bef"
      },
      "execution_count": 43,
      "outputs": [
        {
          "output_type": "execute_result",
          "data": {
            "text/plain": [
              "Another    129\n",
              "8           71\n",
              "16          65\n",
              "4           45\n",
              "Name: Kategory_predictions, dtype: int64"
            ]
          },
          "metadata": {},
          "execution_count": 43
        }
      ]
    },
    {
      "cell_type": "code",
      "source": [
        "submission2 = pd.DataFrame({'id':test2.id,\n",
        "                           'Категория':predictions2['Kategory_predictions'].values},\n",
        "                          columns=['id', 'Категория'])\n",
        "submission2.to_csv('submission2.csv', index=False, sep=',', encoding='utf-8')\n",
        "submission2['Категория'].value_counts()"
      ],
      "metadata": {
        "id": "rtbjrUIsDqmC",
        "colab": {
          "base_uri": "https://localhost:8080/"
        },
        "outputId": "be3813c8-2e75-4332-aee3-2d04a0b127ff"
      },
      "execution_count": 44,
      "outputs": [
        {
          "output_type": "execute_result",
          "data": {
            "text/plain": [
              "Another    129\n",
              "8           71\n",
              "16          65\n",
              "4           45\n",
              "Name: Категория, dtype: int64"
            ]
          },
          "metadata": {},
          "execution_count": 44
        }
      ]
    },
    {
      "cell_type": "code",
      "source": [
        "# Третье отсечение - убираем из трейна значения 16,8,4\n",
        "train3=train2.loc[(train2['Категория']!=16)&(train2['Категория']!=8)&(train2['Категория']!=4)]\n",
        "train3.to_csv('train3.csv', index=False, sep=',', encoding='utf-8')\n",
        "train3['Категория'].value_counts()\n",
        "# Оставлены все оставшиеся, обучение по полю Категория"
      ],
      "metadata": {
        "id": "q0iaKpB9DqmC",
        "colab": {
          "base_uri": "https://localhost:8080/"
        },
        "outputId": "4fe1da33-fc5e-42a6-f183-203c04e1aa91"
      },
      "execution_count": 45,
      "outputs": [
        {
          "output_type": "execute_result",
          "data": {
            "text/plain": [
              "3     59\n",
              "10    48\n",
              "7     27\n",
              "1     25\n",
              "11    19\n",
              "5     12\n",
              "13    11\n",
              "0     11\n",
              "6     10\n",
              "15     7\n",
              "9      5\n",
              "14     4\n",
              "2      3\n",
              "12     1\n",
              "Name: Категория, dtype: int64"
            ]
          },
          "metadata": {},
          "execution_count": 45
        }
      ]
    },
    {
      "cell_type": "code",
      "source": [
        "train3['Kategory']=train3['Категория']"
      ],
      "metadata": {
        "id": "VScNSF5s0ZJu",
        "colab": {
          "base_uri": "https://localhost:8080/"
        },
        "outputId": "7905a2d2-d9be-4ffa-fbe6-dfb1bfa85f73"
      },
      "execution_count": 46,
      "outputs": [
        {
          "output_type": "stream",
          "name": "stderr",
          "text": [
            "/usr/local/lib/python3.7/dist-packages/ipykernel_launcher.py:1: SettingWithCopyWarning: \n",
            "A value is trying to be set on a copy of a slice from a DataFrame.\n",
            "Try using .loc[row_indexer,col_indexer] = value instead\n",
            "\n",
            "See the caveats in the documentation: https://pandas.pydata.org/pandas-docs/stable/user_guide/indexing.html#returning-a-view-versus-a-copy\n",
            "  \"\"\"Entry point for launching an IPython kernel.\n"
          ]
        }
      ]
    },
    {
      "cell_type": "code",
      "source": [
        "# Сразу сокращаем тест - убрав предсказанные 16,8,4\n",
        "submission_krat=submission2.loc[submission2['Категория']=='Another']\n",
        "test3= submission_krat.merge(test, how='left', on='id')\n",
        "test3.to_csv('test3.csv', index=False, sep=',', encoding='utf-8')\n",
        "test3['Категория'].value_counts()"
      ],
      "metadata": {
        "id": "s234E0LoDqmC",
        "colab": {
          "base_uri": "https://localhost:8080/"
        },
        "outputId": "3d1ca236-6d23-46cd-9720-1f3ab7f249d5"
      },
      "execution_count": 47,
      "outputs": [
        {
          "output_type": "execute_result",
          "data": {
            "text/plain": [
              "Another    129\n",
              "Name: Категория, dtype: int64"
            ]
          },
          "metadata": {},
          "execution_count": 47
        }
      ]
    },
    {
      "cell_type": "code",
      "source": [
        "train3 = train3.reset_index(drop=True)\n",
        "train3"
      ],
      "metadata": {
        "id": "KHLgAS6jzMIf",
        "colab": {
          "base_uri": "https://localhost:8080/",
          "height": 693
        },
        "outputId": "aee35c03-859f-4c6f-fee9-8cec9a234891"
      },
      "execution_count": 48,
      "outputs": [
        {
          "output_type": "execute_result",
          "data": {
            "text/plain": [
              "       id                                       Message text  \\\n",
              "0    2240  Aggressive dogs. On the rainbow there is a flo...   \n",
              "1     596  At the intersection of Sosnovskaya and Beregov...   \n",
              "2     304  Old garages next to star 11a. Bottles of rubbi...   \n",
              "3    1381  There is no road lighting from the beginning o...   \n",
              "4    2295  Please put me and my family on the waiting lis...   \n",
              "..    ...                                                ...   \n",
              "237  2456  Near the medical center `Doctor Petrov` (Pavlu...   \n",
              "238  1122  Please help to put things in order with walkin...   \n",
              "239   594  I ask you to please install an ATM of VTB and ...   \n",
              "240  1743  Please clear out the dump. They arranged a dum...   \n",
              "241   587  Hello. In the Shchigrovsky district, in the Gr...   \n",
              "\n",
              "                                       Текст Сообщения  \\\n",
              "0    Агресивные собаки. На радуге там стая из подро...   \n",
              "1    <p>На пересечении &nbsp;улиц Сосновская и Бере...   \n",
              "2    <p>Старые гаражи рядом с звездной 11а. Вокруг ...   \n",
              "3    <p>Отсутствует освещение дороги&nbsp;</p><p>от...   \n",
              "4    Прошу включить меня и мою семью в очередь на п...   \n",
              "..                                                 ...   \n",
              "237  Около медицинского центра `Доктор Петров` (ули...   \n",
              "238  <p>Просим помочь навести порядок с &nbsp;выгул...   \n",
              "239  <p>Прошу Вас пожалуйста установить банкомат ВТ...   \n",
              "240  <p>Прошу Вас ликвидировать свалку. &nbsp;Устро...   \n",
              "241  <p>Здравствуйте. В Щигровском районе, в Зелёно...   \n",
              "\n",
              "                                              Тематика  \\\n",
              "0                                Безнадзорные животные   \n",
              "1    Нескошенная сорная растительность в местах общ...   \n",
              "2         Неудовлетворительная уборка улиц и тротуаров   \n",
              "3                      Неработающее наружное освещение   \n",
              "4                                    Социальные льготы   \n",
              "..                                                 ...   \n",
              "237                              Безнадзорные животные   \n",
              "238                              Безнадзорные животные   \n",
              "239  Неудовлетворительное качество товара, оказания...   \n",
              "240  Не соответствующий установленным нормам сбор и...   \n",
              "241  Плохое материально-техническое оснащение учреж...   \n",
              "\n",
              "                                    Ответственное лицо  Категория  Kategory  \n",
              "0                          Администрация города Курска          1         1  \n",
              "1            Комитет дорожного хозяйства города Курска          3         3  \n",
              "2                          Администрация города Курска          3         3  \n",
              "3    Комитет жилищно-коммунального хозяйства города...          3         3  \n",
              "4                          Администрация города Курска          6         6  \n",
              "..                                                 ...        ...       ...  \n",
              "237         Комитет городского хозяйства города Курска          1         1  \n",
              "238         Комитет городского хозяйства города Курска          1         1  \n",
              "239                 Администрация города Железногорска         13        13  \n",
              "240         Комитет городского хозяйства города Курска          3         3  \n",
              "241                   Администрация Щигровского района         15        15  \n",
              "\n",
              "[242 rows x 7 columns]"
            ],
            "text/html": [
              "\n",
              "  <div id=\"df-dc1fcf50-cd79-4517-a355-0ed5465d5a9b\">\n",
              "    <div class=\"colab-df-container\">\n",
              "      <div>\n",
              "<style scoped>\n",
              "    .dataframe tbody tr th:only-of-type {\n",
              "        vertical-align: middle;\n",
              "    }\n",
              "\n",
              "    .dataframe tbody tr th {\n",
              "        vertical-align: top;\n",
              "    }\n",
              "\n",
              "    .dataframe thead th {\n",
              "        text-align: right;\n",
              "    }\n",
              "</style>\n",
              "<table border=\"1\" class=\"dataframe\">\n",
              "  <thead>\n",
              "    <tr style=\"text-align: right;\">\n",
              "      <th></th>\n",
              "      <th>id</th>\n",
              "      <th>Message text</th>\n",
              "      <th>Текст Сообщения</th>\n",
              "      <th>Тематика</th>\n",
              "      <th>Ответственное лицо</th>\n",
              "      <th>Категория</th>\n",
              "      <th>Kategory</th>\n",
              "    </tr>\n",
              "  </thead>\n",
              "  <tbody>\n",
              "    <tr>\n",
              "      <th>0</th>\n",
              "      <td>2240</td>\n",
              "      <td>Aggressive dogs. On the rainbow there is a flo...</td>\n",
              "      <td>Агресивные собаки. На радуге там стая из подро...</td>\n",
              "      <td>Безнадзорные животные</td>\n",
              "      <td>Администрация города Курска</td>\n",
              "      <td>1</td>\n",
              "      <td>1</td>\n",
              "    </tr>\n",
              "    <tr>\n",
              "      <th>1</th>\n",
              "      <td>596</td>\n",
              "      <td>At the intersection of Sosnovskaya and Beregov...</td>\n",
              "      <td>&lt;p&gt;На пересечении &amp;nbsp;улиц Сосновская и Бере...</td>\n",
              "      <td>Нескошенная сорная растительность в местах общ...</td>\n",
              "      <td>Комитет дорожного хозяйства города Курска</td>\n",
              "      <td>3</td>\n",
              "      <td>3</td>\n",
              "    </tr>\n",
              "    <tr>\n",
              "      <th>2</th>\n",
              "      <td>304</td>\n",
              "      <td>Old garages next to star 11a. Bottles of rubbi...</td>\n",
              "      <td>&lt;p&gt;Старые гаражи рядом с звездной 11а. Вокруг ...</td>\n",
              "      <td>Неудовлетворительная уборка улиц и тротуаров</td>\n",
              "      <td>Администрация города Курска</td>\n",
              "      <td>3</td>\n",
              "      <td>3</td>\n",
              "    </tr>\n",
              "    <tr>\n",
              "      <th>3</th>\n",
              "      <td>1381</td>\n",
              "      <td>There is no road lighting from the beginning o...</td>\n",
              "      <td>&lt;p&gt;Отсутствует освещение дороги&amp;nbsp;&lt;/p&gt;&lt;p&gt;от...</td>\n",
              "      <td>Неработающее наружное освещение</td>\n",
              "      <td>Комитет жилищно-коммунального хозяйства города...</td>\n",
              "      <td>3</td>\n",
              "      <td>3</td>\n",
              "    </tr>\n",
              "    <tr>\n",
              "      <th>4</th>\n",
              "      <td>2295</td>\n",
              "      <td>Please put me and my family on the waiting lis...</td>\n",
              "      <td>Прошу включить меня и мою семью в очередь на п...</td>\n",
              "      <td>Социальные льготы</td>\n",
              "      <td>Администрация города Курска</td>\n",
              "      <td>6</td>\n",
              "      <td>6</td>\n",
              "    </tr>\n",
              "    <tr>\n",
              "      <th>...</th>\n",
              "      <td>...</td>\n",
              "      <td>...</td>\n",
              "      <td>...</td>\n",
              "      <td>...</td>\n",
              "      <td>...</td>\n",
              "      <td>...</td>\n",
              "      <td>...</td>\n",
              "    </tr>\n",
              "    <tr>\n",
              "      <th>237</th>\n",
              "      <td>2456</td>\n",
              "      <td>Near the medical center `Doctor Petrov` (Pavlu...</td>\n",
              "      <td>Около медицинского центра `Доктор Петров` (ули...</td>\n",
              "      <td>Безнадзорные животные</td>\n",
              "      <td>Комитет городского хозяйства города Курска</td>\n",
              "      <td>1</td>\n",
              "      <td>1</td>\n",
              "    </tr>\n",
              "    <tr>\n",
              "      <th>238</th>\n",
              "      <td>1122</td>\n",
              "      <td>Please help to put things in order with walkin...</td>\n",
              "      <td>&lt;p&gt;Просим помочь навести порядок с &amp;nbsp;выгул...</td>\n",
              "      <td>Безнадзорные животные</td>\n",
              "      <td>Комитет городского хозяйства города Курска</td>\n",
              "      <td>1</td>\n",
              "      <td>1</td>\n",
              "    </tr>\n",
              "    <tr>\n",
              "      <th>239</th>\n",
              "      <td>594</td>\n",
              "      <td>I ask you to please install an ATM of VTB and ...</td>\n",
              "      <td>&lt;p&gt;Прошу Вас пожалуйста установить банкомат ВТ...</td>\n",
              "      <td>Неудовлетворительное качество товара, оказания...</td>\n",
              "      <td>Администрация города Железногорска</td>\n",
              "      <td>13</td>\n",
              "      <td>13</td>\n",
              "    </tr>\n",
              "    <tr>\n",
              "      <th>240</th>\n",
              "      <td>1743</td>\n",
              "      <td>Please clear out the dump. They arranged a dum...</td>\n",
              "      <td>&lt;p&gt;Прошу Вас ликвидировать свалку. &amp;nbsp;Устро...</td>\n",
              "      <td>Не соответствующий установленным нормам сбор и...</td>\n",
              "      <td>Комитет городского хозяйства города Курска</td>\n",
              "      <td>3</td>\n",
              "      <td>3</td>\n",
              "    </tr>\n",
              "    <tr>\n",
              "      <th>241</th>\n",
              "      <td>587</td>\n",
              "      <td>Hello. In the Shchigrovsky district, in the Gr...</td>\n",
              "      <td>&lt;p&gt;Здравствуйте. В Щигровском районе, в Зелёно...</td>\n",
              "      <td>Плохое материально-техническое оснащение учреж...</td>\n",
              "      <td>Администрация Щигровского района</td>\n",
              "      <td>15</td>\n",
              "      <td>15</td>\n",
              "    </tr>\n",
              "  </tbody>\n",
              "</table>\n",
              "<p>242 rows × 7 columns</p>\n",
              "</div>\n",
              "      <button class=\"colab-df-convert\" onclick=\"convertToInteractive('df-dc1fcf50-cd79-4517-a355-0ed5465d5a9b')\"\n",
              "              title=\"Convert this dataframe to an interactive table.\"\n",
              "              style=\"display:none;\">\n",
              "        \n",
              "  <svg xmlns=\"http://www.w3.org/2000/svg\" height=\"24px\"viewBox=\"0 0 24 24\"\n",
              "       width=\"24px\">\n",
              "    <path d=\"M0 0h24v24H0V0z\" fill=\"none\"/>\n",
              "    <path d=\"M18.56 5.44l.94 2.06.94-2.06 2.06-.94-2.06-.94-.94-2.06-.94 2.06-2.06.94zm-11 1L8.5 8.5l.94-2.06 2.06-.94-2.06-.94L8.5 2.5l-.94 2.06-2.06.94zm10 10l.94 2.06.94-2.06 2.06-.94-2.06-.94-.94-2.06-.94 2.06-2.06.94z\"/><path d=\"M17.41 7.96l-1.37-1.37c-.4-.4-.92-.59-1.43-.59-.52 0-1.04.2-1.43.59L10.3 9.45l-7.72 7.72c-.78.78-.78 2.05 0 2.83L4 21.41c.39.39.9.59 1.41.59.51 0 1.02-.2 1.41-.59l7.78-7.78 2.81-2.81c.8-.78.8-2.07 0-2.86zM5.41 20L4 18.59l7.72-7.72 1.47 1.35L5.41 20z\"/>\n",
              "  </svg>\n",
              "      </button>\n",
              "      \n",
              "  <style>\n",
              "    .colab-df-container {\n",
              "      display:flex;\n",
              "      flex-wrap:wrap;\n",
              "      gap: 12px;\n",
              "    }\n",
              "\n",
              "    .colab-df-convert {\n",
              "      background-color: #E8F0FE;\n",
              "      border: none;\n",
              "      border-radius: 50%;\n",
              "      cursor: pointer;\n",
              "      display: none;\n",
              "      fill: #1967D2;\n",
              "      height: 32px;\n",
              "      padding: 0 0 0 0;\n",
              "      width: 32px;\n",
              "    }\n",
              "\n",
              "    .colab-df-convert:hover {\n",
              "      background-color: #E2EBFA;\n",
              "      box-shadow: 0px 1px 2px rgba(60, 64, 67, 0.3), 0px 1px 3px 1px rgba(60, 64, 67, 0.15);\n",
              "      fill: #174EA6;\n",
              "    }\n",
              "\n",
              "    [theme=dark] .colab-df-convert {\n",
              "      background-color: #3B4455;\n",
              "      fill: #D2E3FC;\n",
              "    }\n",
              "\n",
              "    [theme=dark] .colab-df-convert:hover {\n",
              "      background-color: #434B5C;\n",
              "      box-shadow: 0px 1px 3px 1px rgba(0, 0, 0, 0.15);\n",
              "      filter: drop-shadow(0px 1px 2px rgba(0, 0, 0, 0.3));\n",
              "      fill: #FFFFFF;\n",
              "    }\n",
              "  </style>\n",
              "\n",
              "      <script>\n",
              "        const buttonEl =\n",
              "          document.querySelector('#df-dc1fcf50-cd79-4517-a355-0ed5465d5a9b button.colab-df-convert');\n",
              "        buttonEl.style.display =\n",
              "          google.colab.kernel.accessAllowed ? 'block' : 'none';\n",
              "\n",
              "        async function convertToInteractive(key) {\n",
              "          const element = document.querySelector('#df-dc1fcf50-cd79-4517-a355-0ed5465d5a9b');\n",
              "          const dataTable =\n",
              "            await google.colab.kernel.invokeFunction('convertToInteractive',\n",
              "                                                     [key], {});\n",
              "          if (!dataTable) return;\n",
              "\n",
              "          const docLinkHtml = 'Like what you see? Visit the ' +\n",
              "            '<a target=\"_blank\" href=https://colab.research.google.com/notebooks/data_table.ipynb>data table notebook</a>'\n",
              "            + ' to learn more about interactive tables.';\n",
              "          element.innerHTML = '';\n",
              "          dataTable['output_type'] = 'display_data';\n",
              "          await google.colab.output.renderOutput(dataTable, element);\n",
              "          const docLink = document.createElement('div');\n",
              "          docLink.innerHTML = docLinkHtml;\n",
              "          element.appendChild(docLink);\n",
              "        }\n",
              "      </script>\n",
              "    </div>\n",
              "  </div>\n",
              "  "
            ]
          },
          "metadata": {},
          "execution_count": 48
        }
      ]
    },
    {
      "cell_type": "code",
      "source": [
        "# Запускаем последнюю обработку (настройки подравнять дополнительно)\n",
        "config = {\n",
        "    \"input_features\": [\n",
        "        {\n",
        "            \"name\": \"Message text\",\n",
        "            \"type\": \"text\",\n",
        "            'encoder': 'bert',\n",
        "          # 'trainable': True,         \n",
        "        },\n",
        "\n",
        "    ],\n",
        "    \"output_features\": [\n",
        "        {\n",
        "            \"name\": 'Kategory',\n",
        "            \"type\": \"category\",\n",
        "        }\n",
        "    ],\n",
        "        'training': {\n",
        "        'batch_size': 4,\n",
        "        'decay': True,     \n",
        "        'trainable': True,\n",
        "        'learning_rate': 0.0000075,\n",
        "        'epochs': 13,\n",
        "        'early_stop': 13,\n",
        "        'validation_field': 'Kategory',\n",
        "        'validation_metric': 'loss',\n",
        "        'learning_rate_warmap_epoch': 3,\n",
        "        \n",
        "    },\n",
        "        'preprocessing':{\n",
        "        'split_probabilities': [1.0, 0.0, 0.0],\n",
        "        'stratify': 'Kategory'}\n",
        "}"
      ],
      "metadata": {
        "id": "y4j_mBCzDqmD"
      },
      "execution_count": 49,
      "outputs": []
    },
    {
      "cell_type": "code",
      "source": [
        "bert3 = LudwigModel(config, logging_level=50,)"
      ],
      "metadata": {
        "id": "OjeSIs87DqmD"
      },
      "execution_count": 50,
      "outputs": []
    },
    {
      "cell_type": "code",
      "source": [
        "%%time\n",
        "print(\"Training Model...\")\n",
        "train_stats_bert3, _, _ = bert3.train(\n",
        "    train3,   \n",
        "    model_name='bert3',\n",
        "    skip_save_processed_input=True,\n",
        "    random_seed=34)"
      ],
      "metadata": {
        "id": "YXP7UshGDqmD",
        "colab": {
          "base_uri": "https://localhost:8080/"
        },
        "outputId": "360b2bc8-8ab1-447c-efd4-13747c410a15"
      },
      "execution_count": 51,
      "outputs": [
        {
          "output_type": "stream",
          "name": "stdout",
          "text": [
            "Training Model...\n"
          ]
        },
        {
          "output_type": "stream",
          "name": "stderr",
          "text": [
            "Some layers from the model checkpoint at bert-base-uncased were not used when initializing TFBertModel: ['nsp___cls', 'mlm___cls']\n",
            "- This IS expected if you are initializing TFBertModel from the checkpoint of a model trained on another task or with another architecture (e.g. initializing a BertForSequenceClassification model from a BertForPreTraining model).\n",
            "- This IS NOT expected if you are initializing TFBertModel from the checkpoint of a model that you expect to be exactly identical (initializing a BertForSequenceClassification model from a BertForSequenceClassification model).\n",
            "All the layers of TFBertModel were initialized from the model checkpoint at bert-base-uncased.\n",
            "If your task is similar to the task the model of the checkpoint was trained on, you can already use TFBertModel for predictions without further training.\n"
          ]
        },
        {
          "output_type": "stream",
          "name": "stdout",
          "text": [
            "CPU times: user 3min 13s, sys: 1min 31s, total: 4min 45s\n",
            "Wall time: 6min 13s\n"
          ]
        }
      ]
    },
    {
      "cell_type": "code",
      "source": [
        "learning_curves(train_stats_bert3, output_feature_name='label', model_names='bert3')"
      ],
      "metadata": {
        "id": "9QEj_m4CDqmE",
        "colab": {
          "base_uri": "https://localhost:8080/",
          "height": 1000
        },
        "outputId": "c5567c5c-91bd-489b-bbf6-ad3189bb634e"
      },
      "execution_count": 52,
      "outputs": [
        {
          "output_type": "display_data",
          "data": {
            "text/plain": [
              "<Figure size 720x360 with 1 Axes>"
            ],
            "image/png": "[encoded data removed]"
          },
          "metadata": {}
        },
        {
          "output_type": "display_data",
          "data": {
            "text/plain": [
              "<Figure size 720x360 with 1 Axes>"
            ],
            "image/png": "[encoded data removed]"
          },
          "metadata": {}
        },
        {
          "output_type": "display_data",
          "data": {
            "text/plain": [
              "<Figure size 720x360 with 1 Axes>"
            ],
            "image/png": "[encoded data removed]"
          },
          "metadata": {}
        },
        {
          "output_type": "display_data",
          "data": {
            "text/plain": [
              "<Figure size 720x360 with 1 Axes>"
            ],
            "image/png": "[encoded data removed]"
          },
          "metadata": {}
        }
      ]
    },
    {
      "cell_type": "code",
      "source": [
        "predictions3, _ = bert3.predict(test3)"
      ],
      "metadata": {
        "id": "R941WkLnDqmE",
        "colab": {
          "base_uri": "https://localhost:8080/"
        },
        "outputId": "ff505352-fee3-4476-c7dd-9041ef50aa8f"
      },
      "execution_count": 53,
      "outputs": [
        {
          "output_type": "stream",
          "name": "stdout",
          "text": [
            "WARNING:tensorflow:5 out of the last 14 calls to <function ECD.predict_step at 0x7fcd8c204c20> triggered tf.function retracing. Tracing is expensive and the excessive number of tracings could be due to (1) creating @tf.function repeatedly in a loop, (2) passing tensors with different shapes, (3) passing Python objects instead of tensors. For (1), please define your @tf.function outside of the loop. For (2), @tf.function has experimental_relax_shapes=True option that relaxes argument shapes that can avoid unnecessary retracing. For (3), please refer to https://www.tensorflow.org/guide/function#controlling_retracing and https://www.tensorflow.org/api_docs/python/tf/function for  more details.\n",
            "WARNING:tensorflow:6 out of the last 15 calls to <function ECD.predict_step at 0x7fcd8c204c20> triggered tf.function retracing. Tracing is expensive and the excessive number of tracings could be due to (1) creating @tf.function repeatedly in a loop, (2) passing tensors with different shapes, (3) passing Python objects instead of tensors. For (1), please define your @tf.function outside of the loop. For (2), @tf.function has experimental_relax_shapes=True option that relaxes argument shapes that can avoid unnecessary retracing. For (3), please refer to https://www.tensorflow.org/guide/function#controlling_retracing and https://www.tensorflow.org/api_docs/python/tf/function for  more details.\n"
          ]
        }
      ]
    },
    {
      "cell_type": "code",
      "source": [
        "predictions3['Kategory_predictions'].value_counts()"
      ],
      "metadata": {
        "id": "v2HNwWx6DqmE",
        "colab": {
          "base_uri": "https://localhost:8080/"
        },
        "outputId": "e08a7e6b-c561-4083-da08-ca2c61929a28"
      },
      "execution_count": 54,
      "outputs": [
        {
          "output_type": "execute_result",
          "data": {
            "text/plain": [
              "10    44\n",
              "3     21\n",
              "1     15\n",
              "5     14\n",
              "7     10\n",
              "11     8\n",
              "13     7\n",
              "0      7\n",
              "6      1\n",
              "9      1\n",
              "2      1\n",
              "Name: Kategory_predictions, dtype: int64"
            ]
          },
          "metadata": {},
          "execution_count": 54
        }
      ]
    },
    {
      "cell_type": "code",
      "source": [
        "submission3 = pd.DataFrame({'id':test3.id,\n",
        "                           'Категория':predictions3['Kategory_predictions'].values},\n",
        "                          columns=['id', 'Категория'])\n",
        "submission3.to_csv('submission3.csv', index=False, sep=',', encoding='utf-8')\n",
        "submission3['Категория'].value_counts()"
      ],
      "metadata": {
        "id": "vkRFwHMADqmE",
        "colab": {
          "base_uri": "https://localhost:8080/"
        },
        "outputId": "455f6127-994a-43d0-e5b9-379f26c11406"
      },
      "execution_count": 55,
      "outputs": [
        {
          "output_type": "execute_result",
          "data": {
            "text/plain": [
              "10    44\n",
              "3     21\n",
              "1     15\n",
              "5     14\n",
              "7     10\n",
              "11     8\n",
              "13     7\n",
              "0      7\n",
              "6      1\n",
              "9      1\n",
              "2      1\n",
              "Name: Категория, dtype: int64"
            ]
          },
          "metadata": {},
          "execution_count": 55
        }
      ]
    },
    {
      "cell_type": "code",
      "source": [
        "submission_start['Категория'].value_counts()"
      ],
      "metadata": {
        "id": "pzBj5CEt-43B",
        "colab": {
          "base_uri": "https://localhost:8080/"
        },
        "outputId": "7afa051c-93ab-4a69-bac9-36da19b9ae22"
      },
      "execution_count": 56,
      "outputs": [
        {
          "output_type": "execute_result",
          "data": {
            "text/plain": [
              "Another    534\n",
              "3          466\n",
              "Name: Категория, dtype: int64"
            ]
          },
          "metadata": {},
          "execution_count": 56
        }
      ]
    },
    {
      "cell_type": "code",
      "source": [
        "# Итак - получены предсказания\n",
        "# submission_start - предсказания 3\n",
        "# submission1 - предсказания 0 и 3\n",
        "# submission2 - предсказания 16,10,4,8\n",
        "# submission3 - предсказания всех остальных\n",
        "# объединяем\n",
        "submission_start=submission_start.loc[submission_start['Категория']!='Another']\n",
        "submission1=submission1.loc[submission1['Категория']!='Another']\n",
        "submission2=submission2.loc[submission2['Категория']!='Another']\n",
        "submission_all=pd.concat([submission_start,submission1,submission2,submission3],ignore_index=True)\n",
        "submission_all['Категория'].value_counts()"
      ],
      "metadata": {
        "id": "Ptr3yyF2DqmF",
        "colab": {
          "base_uri": "https://localhost:8080/"
        },
        "outputId": "b5752b14-b19e-4b53-f268-cdecedc6ae2f"
      },
      "execution_count": 57,
      "outputs": [
        {
          "output_type": "execute_result",
          "data": {
            "text/plain": [
              "3     487\n",
              "0     231\n",
              "8      71\n",
              "16     65\n",
              "4      45\n",
              "10     44\n",
              "1      15\n",
              "5      14\n",
              "7      10\n",
              "11      8\n",
              "13      7\n",
              "6       1\n",
              "9       1\n",
              "2       1\n",
              "Name: Категория, dtype: int64"
            ]
          },
          "metadata": {},
          "execution_count": 57
        }
      ]
    },
    {
      "cell_type": "code",
      "source": [
        "# Объединяем с тестом по ID\n",
        "submission_all= test.merge(submission_all, how='left', on='id')"
      ],
      "metadata": {
        "id": "Ow1t3RCMDqmF"
      },
      "execution_count": 58,
      "outputs": []
    },
    {
      "cell_type": "code",
      "source": [
        "submission_all=submission_all[['id','Категория']]"
      ],
      "metadata": {
        "id": "-k27oYh4yoGW"
      },
      "execution_count": 59,
      "outputs": []
    },
    {
      "cell_type": "code",
      "source": [
        "submission_all"
      ],
      "metadata": {
        "id": "Vt6U5r-jDqmF",
        "colab": {
          "base_uri": "https://localhost:8080/",
          "height": 424
        },
        "outputId": "12a43924-5686-4cf5-e99b-408d1cbad9a8"
      },
      "execution_count": 60,
      "outputs": [
        {
          "output_type": "execute_result",
          "data": {
            "text/plain": [
              "       id Категория\n",
              "0     843         3\n",
              "1    1422         3\n",
              "2    2782         3\n",
              "3    2704         3\n",
              "4       1         8\n",
              "..    ...       ...\n",
              "995  2619        16\n",
              "996  2518         3\n",
              "997  2524         0\n",
              "998  1577         4\n",
              "999  2567        10\n",
              "\n",
              "[1000 rows x 2 columns]"
            ],
            "text/html": [
              "\n",
              "  <div id=\"df-02bc18ec-5228-4405-8432-c41802127b3e\">\n",
              "    <div class=\"colab-df-container\">\n",
              "      <div>\n",
              "<style scoped>\n",
              "    .dataframe tbody tr th:only-of-type {\n",
              "        vertical-align: middle;\n",
              "    }\n",
              "\n",
              "    .dataframe tbody tr th {\n",
              "        vertical-align: top;\n",
              "    }\n",
              "\n",
              "    .dataframe thead th {\n",
              "        text-align: right;\n",
              "    }\n",
              "</style>\n",
              "<table border=\"1\" class=\"dataframe\">\n",
              "  <thead>\n",
              "    <tr style=\"text-align: right;\">\n",
              "      <th></th>\n",
              "      <th>id</th>\n",
              "      <th>Категория</th>\n",
              "    </tr>\n",
              "  </thead>\n",
              "  <tbody>\n",
              "    <tr>\n",
              "      <th>0</th>\n",
              "      <td>843</td>\n",
              "      <td>3</td>\n",
              "    </tr>\n",
              "    <tr>\n",
              "      <th>1</th>\n",
              "      <td>1422</td>\n",
              "      <td>3</td>\n",
              "    </tr>\n",
              "    <tr>\n",
              "      <th>2</th>\n",
              "      <td>2782</td>\n",
              "      <td>3</td>\n",
              "    </tr>\n",
              "    <tr>\n",
              "      <th>3</th>\n",
              "      <td>2704</td>\n",
              "      <td>3</td>\n",
              "    </tr>\n",
              "    <tr>\n",
              "      <th>4</th>\n",
              "      <td>1</td>\n",
              "      <td>8</td>\n",
              "    </tr>\n",
              "    <tr>\n",
              "      <th>...</th>\n",
              "      <td>...</td>\n",
              "      <td>...</td>\n",
              "    </tr>\n",
              "    <tr>\n",
              "      <th>995</th>\n",
              "      <td>2619</td>\n",
              "      <td>16</td>\n",
              "    </tr>\n",
              "    <tr>\n",
              "      <th>996</th>\n",
              "      <td>2518</td>\n",
              "      <td>3</td>\n",
              "    </tr>\n",
              "    <tr>\n",
              "      <th>997</th>\n",
              "      <td>2524</td>\n",
              "      <td>0</td>\n",
              "    </tr>\n",
              "    <tr>\n",
              "      <th>998</th>\n",
              "      <td>1577</td>\n",
              "      <td>4</td>\n",
              "    </tr>\n",
              "    <tr>\n",
              "      <th>999</th>\n",
              "      <td>2567</td>\n",
              "      <td>10</td>\n",
              "    </tr>\n",
              "  </tbody>\n",
              "</table>\n",
              "<p>1000 rows × 2 columns</p>\n",
              "</div>\n",
              "      <button class=\"colab-df-convert\" onclick=\"convertToInteractive('df-02bc18ec-5228-4405-8432-c41802127b3e')\"\n",
              "              title=\"Convert this dataframe to an interactive table.\"\n",
              "              style=\"display:none;\">\n",
              "        \n",
              "  <svg xmlns=\"http://www.w3.org/2000/svg\" height=\"24px\"viewBox=\"0 0 24 24\"\n",
              "       width=\"24px\">\n",
              "    <path d=\"M0 0h24v24H0V0z\" fill=\"none\"/>\n",
              "    <path d=\"M18.56 5.44l.94 2.06.94-2.06 2.06-.94-2.06-.94-.94-2.06-.94 2.06-2.06.94zm-11 1L8.5 8.5l.94-2.06 2.06-.94-2.06-.94L8.5 2.5l-.94 2.06-2.06.94zm10 10l.94 2.06.94-2.06 2.06-.94-2.06-.94-.94-2.06-.94 2.06-2.06.94z\"/><path d=\"M17.41 7.96l-1.37-1.37c-.4-.4-.92-.59-1.43-.59-.52 0-1.04.2-1.43.59L10.3 9.45l-7.72 7.72c-.78.78-.78 2.05 0 2.83L4 21.41c.39.39.9.59 1.41.59.51 0 1.02-.2 1.41-.59l7.78-7.78 2.81-2.81c.8-.78.8-2.07 0-2.86zM5.41 20L4 18.59l7.72-7.72 1.47 1.35L5.41 20z\"/>\n",
              "  </svg>\n",
              "      </button>\n",
              "      \n",
              "  <style>\n",
              "    .colab-df-container {\n",
              "      display:flex;\n",
              "      flex-wrap:wrap;\n",
              "      gap: 12px;\n",
              "    }\n",
              "\n",
              "    .colab-df-convert {\n",
              "      background-color: #E8F0FE;\n",
              "      border: none;\n",
              "      border-radius: 50%;\n",
              "      cursor: pointer;\n",
              "      display: none;\n",
              "      fill: #1967D2;\n",
              "      height: 32px;\n",
              "      padding: 0 0 0 0;\n",
              "      width: 32px;\n",
              "    }\n",
              "\n",
              "    .colab-df-convert:hover {\n",
              "      background-color: #E2EBFA;\n",
              "      box-shadow: 0px 1px 2px rgba(60, 64, 67, 0.3), 0px 1px 3px 1px rgba(60, 64, 67, 0.15);\n",
              "      fill: #174EA6;\n",
              "    }\n",
              "\n",
              "    [theme=dark] .colab-df-convert {\n",
              "      background-color: #3B4455;\n",
              "      fill: #D2E3FC;\n",
              "    }\n",
              "\n",
              "    [theme=dark] .colab-df-convert:hover {\n",
              "      background-color: #434B5C;\n",
              "      box-shadow: 0px 1px 3px 1px rgba(0, 0, 0, 0.15);\n",
              "      filter: drop-shadow(0px 1px 2px rgba(0, 0, 0, 0.3));\n",
              "      fill: #FFFFFF;\n",
              "    }\n",
              "  </style>\n",
              "\n",
              "      <script>\n",
              "        const buttonEl =\n",
              "          document.querySelector('#df-02bc18ec-5228-4405-8432-c41802127b3e button.colab-df-convert');\n",
              "        buttonEl.style.display =\n",
              "          google.colab.kernel.accessAllowed ? 'block' : 'none';\n",
              "\n",
              "        async function convertToInteractive(key) {\n",
              "          const element = document.querySelector('#df-02bc18ec-5228-4405-8432-c41802127b3e');\n",
              "          const dataTable =\n",
              "            await google.colab.kernel.invokeFunction('convertToInteractive',\n",
              "                                                     [key], {});\n",
              "          if (!dataTable) return;\n",
              "\n",
              "          const docLinkHtml = 'Like what you see? Visit the ' +\n",
              "            '<a target=\"_blank\" href=https://colab.research.google.com/notebooks/data_table.ipynb>data table notebook</a>'\n",
              "            + ' to learn more about interactive tables.';\n",
              "          element.innerHTML = '';\n",
              "          dataTable['output_type'] = 'display_data';\n",
              "          await google.colab.output.renderOutput(dataTable, element);\n",
              "          const docLink = document.createElement('div');\n",
              "          docLink.innerHTML = docLinkHtml;\n",
              "          element.appendChild(docLink);\n",
              "        }\n",
              "      </script>\n",
              "    </div>\n",
              "  </div>\n",
              "  "
            ]
          },
          "metadata": {},
          "execution_count": 60
        }
      ]
    },
    {
      "cell_type": "code",
      "source": [
        "submission_all.to_csv('submission_all_ep13_b4_lr75.csv', index=False, sep=',', encoding='utf-8')"
      ],
      "metadata": {
        "id": "PJkdCqlYDqmG"
      },
      "execution_count": 61,
      "outputs": []
    }
  ]
}